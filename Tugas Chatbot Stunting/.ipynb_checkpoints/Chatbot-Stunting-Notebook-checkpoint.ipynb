{
 "cells": [
  {
   "cell_type": "markdown",
   "metadata": {},
   "source": [
    "<h1 style=\"text-align:center\"><b>Tugas Chatbot Stunting</b></h1>"
   ]
  },
  {
   "cell_type": "markdown",
   "metadata": {},
   "source": [
    "<hr>\n",
    "<table>\n",
    "    <tr>\n",
    "        <td><b>NIM</b></td>\n",
    "        <td>:</td>\n",
    "        <td>20.01.53.0033</td>\n",
    "    </tr>\n",
    "    <tr>\n",
    "        <td><b>Nama</b></td>\n",
    "        <td>:</td>\n",
    "        <td>MUHAMMAD FALAH ABDURRAFI</td>\n",
    "    </tr>\n",
    "    <tr>\n",
    "        <td><b>Progdi</b></td>\n",
    "        <td>:</td>\n",
    "        <td>Teknik Informatika - S1</td>\n",
    "    </tr>\n",
    "    <tr>\n",
    "        <td><b>Mata Kuliah</b></td>\n",
    "        <td>:</td>\n",
    "        <td>Text Mining</td>\n",
    "    </tr>\n",
    "    <tr>\n",
    "        <td><b>Kelas</b></td>\n",
    "        <td>:</td>\n",
    "        <td>A1</td>\n",
    "    </tr>\n",
    "    <tr>\n",
    "        <td><b>Dosen Pengampu</b></td>\n",
    "        <td>:</td>\n",
    "        <td>Dr. Drs. ERI ZULIARSO, M.Kom.</td>\n",
    "    </tr>\n",
    "</table>\n",
    "<hr>\n",
    "<br>"
   ]
  },
  {
   "cell_type": "code",
   "execution_count": 1,
   "metadata": {},
   "outputs": [
    {
     "name": "stdout",
     "output_type": "stream",
     "text": [
      "EXECUTABLE\t: D:\\anaconda3\\envs\\rasa_env\\python.exe\n",
      "VERSION\t\t: 3.8.15 (default, Nov 24 2022, 14:38:14) [MSC v.1916 64 bit (AMD64)]\n",
      "VERSION INFO\t: sys.version_info(major=3, minor=8, micro=15, releaselevel='final', serial=0)\n"
     ]
    }
   ],
   "source": [
    "import sys\n",
    "print(\"EXECUTABLE\\t:\",sys.executable)\n",
    "print(\"VERSION\\t\\t:\",sys.version)\n",
    "print(\"VERSION INFO\\t:\",sys.version_info)"
   ]
  },
  {
   "cell_type": "code",
   "execution_count": 2,
   "metadata": {},
   "outputs": [],
   "source": [
    "import warnings\n",
    "warnings.filterwarnings('ignore')"
   ]
  },
  {
   "cell_type": "markdown",
   "metadata": {
    "tags": []
   },
   "source": [
    "<br>\n",
    "<h2><b>Inisisalisasi Awal</b></h2>"
   ]
  },
  {
   "cell_type": "code",
   "execution_count": 3,
   "metadata": {},
   "outputs": [],
   "source": [
    "# pip install nest_asyncio"
   ]
  },
  {
   "cell_type": "code",
   "execution_count": 4,
   "metadata": {},
   "outputs": [
    {
     "name": "stdout",
     "output_type": "stream",
     "text": [
      "Event loop ready.\n"
     ]
    }
   ],
   "source": [
    "import nest_asyncio\n",
    "\n",
    "nest_asyncio.apply()\n",
    "print(\"Event loop ready.\")\n"
   ]
  },
  {
   "cell_type": "code",
   "execution_count": 5,
   "metadata": {},
   "outputs": [
    {
     "name": "stdout",
     "output_type": "stream",
     "text": [
      "['.ipynb_checkpoints', '.rasa', 'actions', 'config.yml', 'credentials.yml', 'data', 'domain.yml', 'endpoints.yml', 'graph.html', 'images', 'models', 'tests']\n"
     ]
    }
   ],
   "source": [
    "from rasa.cli.scaffold import create_initial_project\n",
    "import os\n",
    "\n",
    "project = \"chatbot_stunting\"\n",
    "\n",
    "# Hanya jalankan jika project belum ada\n",
    "# create_initial_project(project)\n",
    "\n",
    "# move into project directory and show files\n",
    "os.chdir(project)\n",
    "print(os.listdir(\".\"))"
   ]
  },
  {
   "cell_type": "code",
   "execution_count": 6,
   "metadata": {},
   "outputs": [
    {
     "name": "stdout",
     "output_type": "stream",
     "text": [
      "config.yml data/ domain.yml models/\n"
     ]
    }
   ],
   "source": [
    "config = \"config.yml\"\n",
    "training_files = \"data/\"\n",
    "stories = \"data/stories.yml\"\n",
    "nlu = \"data/nlu.yml\"\n",
    "domain = \"domain.yml\"\n",
    "output = \"models/\"\n",
    "print(config, training_files, domain, output)"
   ]
  },
  {
   "cell_type": "markdown",
   "metadata": {
    "tags": []
   },
   "source": [
    "<br>\n",
    "<h2><b>Training Model</b></h2>"
   ]
  },
  {
   "cell_type": "code",
   "execution_count": 7,
   "metadata": {},
   "outputs": [
    {
     "name": "stdout",
     "output_type": "stream",
     "text": [
      "The configuration for pipeline and policies was chosen automatically. It was written into the config file at 'config.yml'.\n",
      "Your Rasa model is trained and saved at 'models\\20221227-174815-worn-volume.tar.gz'.\n"
     ]
    }
   ],
   "source": [
    "import rasa\n",
    "\n",
    "model_path = rasa.train(domain, config, [training_files], output)"
   ]
  },
  {
   "cell_type": "code",
   "execution_count": 8,
   "metadata": {},
   "outputs": [
    {
     "name": "stdout",
     "output_type": "stream",
     "text": [
      "TrainingResult(model='models\\\\20221227-174815-worn-volume.tar.gz', code=0, dry_run_results=None)\n",
      "models\\20221227-174815-worn-volume.tar.gz\n"
     ]
    }
   ],
   "source": [
    "print(model_path)\n",
    "print(model_path.model)"
   ]
  },
  {
   "cell_type": "markdown",
   "metadata": {
    "tags": []
   },
   "source": [
    "<br>\n",
    "<h2><b>Visualisasi Alur ChatBot</b></h2>"
   ]
  },
  {
   "cell_type": "code",
   "execution_count": 9,
   "metadata": {},
   "outputs": [
    {
     "name": "stderr",
     "output_type": "stream",
     "text": [
      "Processed story blocks: 100%|█| 10/10 [00:00<00:00, 668.40it/s, # track\n",
      "D:\\anaconda3\\envs\\rasa_env\\lib\\site-packages\\pkg_resources\\__init__.py:1154: DeprecationWarning: Use of .. or absolute path in a resource path is not allowed and will raise exceptions in a future release.\n",
      "  return get_provider(package_or_requirement).get_resource_filename(\n"
     ]
    }
   ],
   "source": [
    "from rasa.core.visualize import visualize\n",
    "\n",
    "visualize(domain, stories, nlu, \"./graph.html\", 99)"
   ]
  },
  {
   "cell_type": "code",
   "execution_count": 10,
   "metadata": {},
   "outputs": [
    {
     "data": {
      "text/html": [
       "\n",
       "        <iframe\n",
       "            width=\"90%\"\n",
       "            height=\"600px\"\n",
       "            src=\"chatbot_stunting./graph.html\"\n",
       "            frameborder=\"0\"\n",
       "            allowfullscreen\n",
       "            \n",
       "        ></iframe>\n",
       "        "
      ],
      "text/plain": [
       "<IPython.lib.display.IFrame at 0x238e4fcf370>"
      ]
     },
     "metadata": {},
     "output_type": "display_data"
    }
   ],
   "source": [
    "from IPython.display import IFrame\n",
    "from IPython.core.display import display\n",
    "\n",
    "display(IFrame(project+'./graph.html', '90%', '600px'))"
   ]
  },
  {
   "cell_type": "markdown",
   "metadata": {
    "tags": []
   },
   "source": [
    "<br>\n",
    "<h2><b>Jalankan ChatBot</b></h2>"
   ]
  },
  {
   "cell_type": "code",
   "execution_count": 11,
   "metadata": {},
   "outputs": [
    {
     "name": "stdout",
     "output_type": "stream",
     "text": [
      "Your bot is ready to talk! Type your messages here or send '/stop'.\n"
     ]
    },
    {
     "name": "stdin",
     "output_type": "stream",
     "text": [
      " Permisi\n"
     ]
    },
    {
     "name": "stdout",
     "output_type": "stream",
     "text": [
      "Halo, Selamat datang di Stunting ChatBot!\n",
      "Chatbot ini dibuat oleh:\n",
      "- Muhammad Falah Abdurrafi (20.01.53.0033)\n",
      ".\n",
      "Informasi apa yang ingin anda ketahui tentang stunting?\n"
     ]
    },
    {
     "name": "stdin",
     "output_type": "stream",
     "text": [
      " Apa itu stunting?\n"
     ]
    },
    {
     "name": "stdout",
     "output_type": "stream",
     "text": [
      "Stunting adalah keadaan pendek yang khas disebabkan oleh gangguan nutrisi, infeksi berulang yang tidak tertangani dalam jangka waktu yang lama.\n",
      "- Illustrasi Stunting (Diambil dari siswapedia.com)\n"
     ]
    },
    {
     "data": {
      "text/html": [
       "<img src=\"https://www.siswapedia.com/wp-content/uploads/2019/10/Penyebab-Ciri-Ciri-Dan-Dampak-Stunting.png\"/>"
      ],
      "text/plain": [
       "<IPython.core.display.Image object>"
      ]
     },
     "metadata": {},
     "output_type": "display_data"
    },
    {
     "name": "stdin",
     "output_type": "stream",
     "text": [
      " Bagaimana cara mengobati stunting?\n"
     ]
    },
    {
     "name": "stdout",
     "output_type": "stream",
     "text": [
      "Ada dua masalah akibat stunting yaitu pertumbuhan otak dan tinggi badan.\n",
      "- Pertumbuhan otak sangat pesat terjadi pada 2 tahun pertama sehingga setelah usia 2 tahun, tidak bisa diperbaiki.\n",
      "- Tinggi badan masih bisa diperbaiki dengan berharap pada fase pubertas.\n",
      "Oleh karena itu JANGAN MENGOBATI stunting tapi lakukanlah PENCEGAHAN. Periode emas yang masih bisa memperbaiki stunting adalah sebelum usia 2 tahun, dan hasilnya pun tidak bisa kembali sempurna, artinya bisa diperbaiki namun optimal.\n",
      ".\n",
      "Apakah anda ingin tahu bagaimana cara mencegah stunting?\n"
     ]
    },
    {
     "name": "stdin",
     "output_type": "stream",
     "text": [
      " Ya, saya ingin tahu\n"
     ]
    },
    {
     "name": "stdout",
     "output_type": "stream",
     "text": [
      "Berikut ini adalah beberapa hal yang dapat dilakukan untuk mencegah stunting :\n",
      "a) Mempersiapkan remaja putri sebelum menempuh kehamilan\n",
      "b) Perencanaan keluarga dan kehamilan yang matang\n",
      "c) Menjaga kehamilan yang sehat\n",
      "d) Nutrisi saat hamil dan menyusui\n",
      "e) manajemen laktasi yang baik\n",
      "f) manajemen MPASI yang adekuat\n",
      "g) mencegah penyakit dengan imunisasi yang LENGKAP\n",
      "h) Pemantauan pertumbuhan anak secara terus-menerus\n"
     ]
    },
    {
     "name": "stdin",
     "output_type": "stream",
     "text": [
      " Apa saja nutrisi yang dapat mencegah stunting?\n"
     ]
    },
    {
     "name": "stdout",
     "output_type": "stream",
     "text": [
      "Stunting dapat dicegah dengan pemberian nutrisi yang tepat. Nutrisi pembangun tumbuh adalah makronutrien yang terdiri dari Karbohidrat, protein dan lemak.\n",
      "- PERLU DIINGAT bahwa tidak ada vitamin dan suplemen pencegah stunting. Hal ini karena vitamin dan mineral merupakan mikronutrien yang merupakan zat pendukung, bukan pembangun. Vitamin dan mineral terbaik berasal dari makanan, bukan dari apotek.\n"
     ]
    },
    {
     "name": "stdin",
     "output_type": "stream",
     "text": [
      " Perlukah menambah sufor saat MPASI?\n"
     ]
    },
    {
     "name": "stdout",
     "output_type": "stream",
     "text": [
      "Saat usia 6-12 bulan, ada dua manajemen nutrisi yang harus dievaluasi yaitu:\n",
      "- Apakah ASI cukup?\n",
      "- Apakah kuantitas dan kualitas MPASI cukup?\n",
      "Pemberian sufor hanya dilakukan jika ASI tidak cukup.\n",
      "Pemberian ASI pada masa MPASI tetap dominan mencapai 120 ml x Berat badan perharinya.\n"
     ]
    },
    {
     "name": "stdin",
     "output_type": "stream",
     "text": [
      " Bagaimana cara menilai pertumbuhan dan perkembangan bayi prematur?\n"
     ]
    },
    {
     "name": "stdout",
     "output_type": "stream",
     "text": [
      "Pertumbuhan bayi prematur dipantau menggunakan kurva Fenton sampai usia koreksi 10 minggu, kemudian pindah ke kurva WHO.\n",
      "Sedangkan perkembangan (verbal, motoric halus dan kasar) menggunakan usia koreksi sampai usia 2 tahun, lalu dianggap sama dengan anak lain yang seusianya.\n"
     ]
    },
    {
     "name": "stdin",
     "output_type": "stream",
     "text": [
      " Bagaimana cara mengatasi defisiensi besi pada ibu hamil?\n"
     ]
    },
    {
     "name": "stdout",
     "output_type": "stream",
     "text": [
      "Pencegahan anemia pada ibu hamil harus dilakukan sebelum hamil.\n",
      "Jika anemia sudah terjadi saat hamil maka kondisi ini sudah terlambat, sehingga harus diatasi segera, pada umumnya dokter kandungan akan memberikan suplemen besi tergantung pada derajat keparahan defisiensinya (dapat berupa infus zat besi, suplemen minum).\n",
      "Namun perlu diingat, penyebab utama defisiensi besi adalah asupan besi yang kurang sehingga wajib mengubah pola makan sehingga tidak terulang di saat fase menyusui.\n"
     ]
    },
    {
     "name": "stdin",
     "output_type": "stream",
     "text": [
      " apakah saya bicara dengan bot?\n"
     ]
    },
    {
     "name": "stdout",
     "output_type": "stream",
     "text": [
      "Saya adalah Stunting ChatBot yang dibuat oleh Muhammad Falah Abdurrafi (20.01.53.0033)\n"
     ]
    },
    {
     "name": "stdin",
     "output_type": "stream",
     "text": [
      " akhiri chat\n"
     ]
    },
    {
     "name": "stdout",
     "output_type": "stream",
     "text": [
      "Terima kasih sudah menggunakan layanan Stunting ChatBot.\n",
      "Sampai jumpa!\n"
     ]
    },
    {
     "name": "stdin",
     "output_type": "stream",
     "text": [
      " /stop\n"
     ]
    }
   ],
   "source": [
    "from rasa.jupyter import chat\n",
    "\n",
    "# endpoints = \"endpoints.yml\"\n",
    "endpoints = None\n",
    "chat(model_path.model, endpoints)"
   ]
  }
 ],
 "metadata": {
  "kernelspec": {
   "display_name": "Python 3 (ipykernel)",
   "language": "python",
   "name": "python3"
  },
  "language_info": {
   "codemirror_mode": {
    "name": "ipython",
    "version": 3
   },
   "file_extension": ".py",
   "mimetype": "text/x-python",
   "name": "python",
   "nbconvert_exporter": "python",
   "pygments_lexer": "ipython3",
   "version": "3.8.15"
  },
  "vscode": {
   "interpreter": {
    "hash": "52bc4274009616494a5b3f04ab113e50f0f3d524d3fb33ecb960d5800cd4349d"
   }
  }
 },
 "nbformat": 4,
 "nbformat_minor": 4
}
