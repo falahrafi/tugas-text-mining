{
 "cells": [
  {
   "cell_type": "code",
   "execution_count": 1,
   "id": "8767b7e6-4856-4a60-92e2-09c3148b08d7",
   "metadata": {},
   "outputs": [
    {
     "name": "stdout",
     "output_type": "stream",
     "text": [
      "c:\\users\\asus\\appdata\\local\\programs\\python\\python38-32\\python.exe\n",
      "3.8.5 (tags/v3.8.5:580fbb0, Jul 20 2020, 15:43:08) [MSC v.1926 32 bit (Intel)]\n",
      "sys.version_info(major=3, minor=8, micro=5, releaselevel='final', serial=0)\n"
     ]
    }
   ],
   "source": [
    "import sys\n",
    "print(sys.executable)\n",
    "print(sys.version)\n",
    "print(sys.version_info)"
   ]
  },
  {
   "cell_type": "markdown",
   "id": "79b4ee35-b291-45df-aa72-d65bc0c13d51",
   "metadata": {},
   "source": [
    "<br>\n",
    "<h1><b>1. Scrapping Awal</b></h1>\n",
    "<hr>"
   ]
  },
  {
   "cell_type": "markdown",
   "id": "dbe297c3-b6e8-4ad8-9279-dae58d85e658",
   "metadata": {},
   "source": [
    "<h4><b>1.1. Import Library</b></h4>"
   ]
  },
  {
   "cell_type": "code",
   "execution_count": 2,
   "id": "e5b5db5e-0cfb-4cbc-9757-f9bbd639e55b",
   "metadata": {},
   "outputs": [],
   "source": [
    "from serpapi import GoogleSearch\n",
    "from urllib.parse import *"
   ]
  },
  {
   "cell_type": "markdown",
   "id": "360a4fe4-421a-42fe-a8b7-177e3f24ca99",
   "metadata": {},
   "source": [
    "<h4><b>1.2. Listing Utama</b></h4>"
   ]
  },
  {
   "cell_type": "code",
   "execution_count": 37,
   "id": "ece2e43f-a7be-4744-9432-9b128eefe524",
   "metadata": {},
   "outputs": [
    {
     "name": "stdout",
     "output_type": "stream",
     "text": [
      "https://serpapi.com/search\n",
      "https://serpapi.com/search\n",
      "https://serpapi.com/search\n",
      "https://serpapi.com/search\n",
      "https://serpapi.com/search\n",
      "https://serpapi.com/search\n"
     ]
    }
   ],
   "source": [
    "params = {\n",
    "  \"engine\": \"google_maps_reviews\",\n",
    "  \"data_id\": \"0x2e708b5abef7a4dd:0x7a30eb738bbb2c3a\",\n",
    "  \"api_key\": \"cff177eddb29d3fa50ee4c4449d2c2fa1a11d83af90154ef167505fd0daddd17\"\n",
    "}\n",
    "\n",
    "search = GoogleSearch(params)\n",
    "\n",
    "mPosition = 0 # Angka indeks dari data\n",
    "mNums = 50 # Batas jumlah data yang ditampilkan\n",
    "reviews = []\n",
    "data = {'name':[],\n",
    "        'rating':[],\n",
    "        'review':[]}\n",
    "\n",
    "while mPosition <= mNums:\n",
    "  results = search.get_dict()\n",
    "\n",
    "  for result in results[\"reviews\"]:\n",
    "    mPosition += 1\n",
    "\n",
    "    if mPosition <= mNums:\n",
    "      # Append data sesuai dengan batas jumlah yang sudah ditentukan\n",
    "      data['name'].append(result[\"user\"][\"name\"]);\n",
    "      data['rating'].append(result[\"rating\"]);\n",
    "      data['review'].append(result[\"snippet\"]);\n",
    "\n",
    "  if \"next\" in results.get(\"serpapi_pagination\", {}):\n",
    "    # Akan mengubah parameter dari 'GoogleSearch()' dengan isi parameter dari halaman selanjutnya\n",
    "    search.params_dict.update(dict(parse_qsl(urlsplit(results.get(\"serpapi_pagination\").get(\"next\")).query)))\n",
    "\n",
    "  else:\n",
    "    break\n",
    "    \n",
    "review_original = data['review']"
   ]
  },
  {
   "cell_type": "markdown",
   "id": "ea0b499d-4aae-4cf3-a396-46646011bf6f",
   "metadata": {},
   "source": [
    "<br><br>\n",
    "<h1><b>2. Case Folding</b></h1>\n",
    "<hr>"
   ]
  },
  {
   "cell_type": "markdown",
   "id": "2c36550e-19ae-49e8-9f94-d26349e6ecd4",
   "metadata": {},
   "source": [
    "<h4><b>2.1. Import Library</b></h4>"
   ]
  },
  {
   "cell_type": "code",
   "execution_count": 6,
   "id": "d1a260c7-427a-4ede-a09e-4516c6300bde",
   "metadata": {},
   "outputs": [],
   "source": [
    "import re\n",
    "import string"
   ]
  },
  {
   "cell_type": "markdown",
   "id": "4b0e64ef-0124-4d50-afe8-f143adbf7849",
   "metadata": {},
   "source": [
    "<h4><b>2.2. Listing Utama</b></h4>"
   ]
  },
  {
   "cell_type": "code",
   "execution_count": 41,
   "id": "653092c9-bb5b-41d1-91d5-5e7df20d99b1",
   "metadata": {},
   "outputs": [],
   "source": [
    "review_clean = []\n",
    "\n",
    "for review in review_original:\n",
    "    # Remove Unicode\n",
    "    review_test = re.sub(r'[^\\x00-\\x7F]+', ' ', review)\n",
    "    # Remove Mentions\n",
    "    review_test = re.sub(r'@\\w+', '', review_test)\n",
    "    # Lowercase the document\n",
    "    review_test = review_test.lower()\n",
    "    # Remove punctuations\n",
    "    review_test = re.sub(r'[%s]' % re.escape(string.punctuation), ' ', review_test)\n",
    "    # Remove the numbers\n",
    "    review_test = re.sub(r'[0-9]', '', review_test)\n",
    "    # Remove the doubled space\n",
    "    review_test = re.sub(r'\\s{2,}', ' ', review_test)\n",
    "    \n",
    "    review_clean.append(review_test)"
   ]
  },
  {
   "cell_type": "markdown",
   "id": "0853c3c0-71ce-4e82-a233-a03174c0fb30",
   "metadata": {},
   "source": [
    "<br><br>\n",
    "<h1><b>3. Tokenizing</b></h1>\n",
    "<hr>"
   ]
  },
  {
   "cell_type": "markdown",
   "id": "57bbb265-f36f-4648-ad5d-b480e8ff373f",
   "metadata": {},
   "source": [
    "<h4><b>3.1. Import Library</b></h4>"
   ]
  },
  {
   "cell_type": "code",
   "execution_count": 8,
   "id": "d79ae692-f7f9-4d3f-9572-24322193d54a",
   "metadata": {},
   "outputs": [
    {
     "name": "stdout",
     "output_type": "stream",
     "text": [
      "Requirement already satisfied: nltk in c:\\users\\asus\\appdata\\local\\programs\\python\\python38-32\\lib\\site-packages (3.7)\n",
      "Requirement already satisfied: regex>=2021.8.3 in c:\\users\\asus\\appdata\\local\\programs\\python\\python38-32\\lib\\site-packages (from nltk) (2022.9.13)\n",
      "Requirement already satisfied: joblib in c:\\users\\asus\\appdata\\local\\programs\\python\\python38-32\\lib\\site-packages (from nltk) (1.2.0)\n",
      "Requirement already satisfied: click in c:\\users\\asus\\appdata\\local\\programs\\python\\python38-32\\lib\\site-packages (from nltk) (8.1.3)\n",
      "Requirement already satisfied: tqdm in c:\\users\\asus\\appdata\\local\\programs\\python\\python38-32\\lib\\site-packages (from nltk) (4.64.1)\n",
      "Requirement already satisfied: colorama in c:\\users\\asus\\appdata\\roaming\\python\\python38\\site-packages (from click->nltk) (0.4.3)\n",
      "Note: you may need to restart the kernel to use updated packages.\n"
     ]
    }
   ],
   "source": [
    "# pip install nltk"
   ]
  },
  {
   "cell_type": "code",
   "execution_count": 29,
   "id": "ab2da0de-97a6-4283-a167-ac39b65dac42",
   "metadata": {},
   "outputs": [],
   "source": [
    "import nltk\n",
    "# nltk.download('punkt')\n",
    "from nltk.tokenize import sent_tokenize, word_tokenize "
   ]
  },
  {
   "cell_type": "markdown",
   "id": "2a1f92d9-d7f8-49de-8443-d6df19d4ffb0",
   "metadata": {},
   "source": [
    "<h4><b>3.2. Listing Utama</b></h4>"
   ]
  },
  {
   "cell_type": "code",
   "execution_count": 43,
   "id": "56755a7b-f42d-4383-9783-21500eb90dd7",
   "metadata": {},
   "outputs": [],
   "source": [
    "review_tokenized = []\n",
    "\n",
    "for review in review_clean:\n",
    "  review_tokenized.append(word_tokenize(review))"
   ]
  },
  {
   "cell_type": "markdown",
   "id": "d180d905-1bf8-4cb5-9073-e7d9c77e9688",
   "metadata": {},
   "source": [
    "<br><br>\n",
    "<h1><b>4. Filtering (Stopword Removal)</b></h1>\n",
    "<hr>"
   ]
  },
  {
   "cell_type": "markdown",
   "id": "e651fd41-613c-4a74-a7a2-22673ca1722c",
   "metadata": {},
   "source": [
    "<h4><b>4.1. Import Library</b></h4>"
   ]
  },
  {
   "cell_type": "code",
   "execution_count": 47,
   "id": "f62d308f-1abb-4a21-9933-af5160ed425f",
   "metadata": {},
   "outputs": [],
   "source": [
    "from nltk.corpus import stopwords\n",
    "# nltk.download('stopwords')"
   ]
  },
  {
   "cell_type": "markdown",
   "id": "86b1dbce-3633-49f8-b028-707ce5d45308",
   "metadata": {},
   "source": [
    "<h4><b>4.2. Listing Utama</b></h4>"
   ]
  },
  {
   "cell_type": "code",
   "execution_count": 50,
   "id": "6bda775a-1b9d-4c6b-a22f-99c7522872d9",
   "metadata": {},
   "outputs": [],
   "source": [
    "review_filtered = []\n",
    "listStopword =  set(stopwords.words('english'))\n",
    "\n",
    "for review in review_tokenized:\n",
    "  \n",
    "  review_each_filtered = []\n",
    "  \n",
    "  for r in review:\n",
    "    if r not in listStopword:\n",
    "        review_each_filtered.append(r)\n",
    "        \n",
    "  review_filtered.append(review_each_filtered)"
   ]
  },
  {
   "cell_type": "markdown",
   "id": "a534abe3-a5de-4c41-92db-c070aa109a1b",
   "metadata": {},
   "source": [
    "<br><br>\n",
    "<h1><b>5. Stemming</b></h1>\n",
    "<hr>"
   ]
  },
  {
   "cell_type": "markdown",
   "id": "6018e4d5-4ae9-40ce-b47c-9f7f010029db",
   "metadata": {},
   "source": [
    "<p>Pilih salah satu <b>algoritma stemming</b> dibawah:</p>\n",
    "<hr>"
   ]
  },
  {
   "cell_type": "markdown",
   "id": "3cf6204d-1217-4650-8cfa-9eefb4bcb714",
   "metadata": {},
   "source": [
    "<h4><b>5.1. Algoritma <i>\"PorterStemmer\"</i></b></h4>"
   ]
  },
  {
   "cell_type": "code",
   "execution_count": 96,
   "id": "702cfa67-466b-4d3a-bdcb-9cfa09192851",
   "metadata": {},
   "outputs": [],
   "source": [
    "from nltk.stem import PorterStemmer\n",
    "ps = PorterStemmer() \n",
    "\n",
    "review_stemmed = []\n",
    "    \n",
    "for review in review_filtered:\n",
    "  \n",
    "  review_each_stemmed = []\n",
    "  \n",
    "  for r in review:\n",
    "    review_each_stemmed.append(ps.stem(r))\n",
    "        \n",
    "  review_stemmed.append(review_each_stemmed)"
   ]
  },
  {
   "cell_type": "markdown",
   "id": "f4c89df9-6930-4a77-ab6e-f4b4e505675a",
   "metadata": {},
   "source": [
    "<hr>\n",
    "<h4><b>5.2. Algoritma <i>\"LancasterStemmer\"</i></b></h4>"
   ]
  },
  {
   "cell_type": "code",
   "execution_count": 85,
   "id": "61672805-cf5d-44fa-9ec3-aadfe61d0f3b",
   "metadata": {},
   "outputs": [],
   "source": [
    "from nltk.stem import LancasterStemmer\n",
    "ps = LancasterStemmer() "
   ]
  },
  {
   "cell_type": "code",
   "execution_count": 94,
   "id": "80beeae8-8c66-4911-9974-9fc8cfb7013a",
   "metadata": {},
   "outputs": [
    {
     "name": "stderr",
     "output_type": "stream",
     "text": [
      "[nltk_data] Downloading package omw-1.4 to\n",
      "[nltk_data]     C:\\Users\\ASUS\\AppData\\Roaming\\nltk_data...\n"
     ]
    }
   ],
   "source": [
    "from nltk.stem import WordNetLemmatizer\n",
    "# nltk.download('wordnet')\n",
    "# nltk.download('omw-1.4')\n",
    "ps = WordNetLemmatizer() "
   ]
  },
  {
   "cell_type": "code",
   "execution_count": 95,
   "id": "caf5adb9-d640-4ab9-8495-8b6f6345fe2f",
   "metadata": {},
   "outputs": [
    {
     "name": "stdout",
     "output_type": "stream",
     "text": [
      "pretty  :  pretty\n",
      "location  :  location\n",
      "strategic  :  strategic\n",
      "already  :  already\n",
      "experience  :  experience\n",
      "minute  :  minute\n"
     ]
    }
   ],
   "source": [
    "kata = [\"pretty\", \"location\", \"strategic\", \"already\", \"experience\", \"minute\"] \n",
    "for k in kata: \n",
    "    print(k, \" : \", ps.lemmatize(k))#"
   ]
  },
  {
   "cell_type": "markdown",
   "id": "9942ff4d-5f6b-4cc6-b58a-c394c3330efe",
   "metadata": {},
   "source": [
    "<br><br>\n",
    "<h1><b>6. Export CSV</b></h1>\n",
    "<hr>"
   ]
  },
  {
   "cell_type": "markdown",
   "id": "67cf8166-0275-4f6f-8a04-798d61b0c333",
   "metadata": {},
   "source": [
    "<h4><b>6.1. Import Library</b></h4>"
   ]
  },
  {
   "cell_type": "code",
   "execution_count": 11,
   "id": "7df62d11-8674-46e0-9c44-22ceae5c5ec9",
   "metadata": {},
   "outputs": [],
   "source": [
    "import pandas as pd"
   ]
  },
  {
   "cell_type": "markdown",
   "id": "c6c4cb9d-0f7f-4b59-9a04-2aaf55a46671",
   "metadata": {},
   "source": [
    "<h4><b>6.2. Listing Utama</b></h4>"
   ]
  },
  {
   "cell_type": "code",
   "execution_count": 80,
   "id": "1b1ad87a-81cc-4fc1-9683-fe28c9e43fab",
   "metadata": {},
   "outputs": [],
   "source": [
    "data_preprocessed = data\n",
    "data_preprocessed['review'] = review_stemmed\n",
    "# data_preprocessed['review'] = review_original"
   ]
  },
  {
   "cell_type": "code",
   "execution_count": 81,
   "id": "6ee536b4-9513-4ad9-98c6-b006c3e22907",
   "metadata": {},
   "outputs": [
    {
     "data": {
      "text/html": [
       "<div>\n",
       "<style scoped>\n",
       "    .dataframe tbody tr th:only-of-type {\n",
       "        vertical-align: middle;\n",
       "    }\n",
       "\n",
       "    .dataframe tbody tr th {\n",
       "        vertical-align: top;\n",
       "    }\n",
       "\n",
       "    .dataframe thead th {\n",
       "        text-align: right;\n",
       "    }\n",
       "</style>\n",
       "<table border=\"1\" class=\"dataframe\">\n",
       "  <thead>\n",
       "    <tr style=\"text-align: right;\">\n",
       "      <th></th>\n",
       "      <th>name</th>\n",
       "      <th>rating</th>\n",
       "      <th>review</th>\n",
       "    </tr>\n",
       "  </thead>\n",
       "  <tbody>\n",
       "    <tr>\n",
       "      <th>0</th>\n",
       "      <td>karteenknee karteenknee</td>\n",
       "      <td>2.0</td>\n",
       "      <td>[hotel, pretti, old, light, room, quit, dim, m...</td>\n",
       "    </tr>\n",
       "    <tr>\n",
       "      <th>1</th>\n",
       "      <td>Faqih Alfatih</td>\n",
       "      <td>4.0</td>\n",
       "      <td>[old, build, still, quit, function, pain, slow...</td>\n",
       "    </tr>\n",
       "    <tr>\n",
       "      <th>2</th>\n",
       "      <td>Dwi Suseno</td>\n",
       "      <td>4.0</td>\n",
       "      <td>[old, hotel, still, comfort, enough, stay, are...</td>\n",
       "    </tr>\n",
       "    <tr>\n",
       "      <th>3</th>\n",
       "      <td>Cyril Draws</td>\n",
       "      <td>4.0</td>\n",
       "      <td>[strateg, locat, room, okay, pretti, old, park...</td>\n",
       "    </tr>\n",
       "    <tr>\n",
       "      <th>4</th>\n",
       "      <td>Kamlesh RC</td>\n",
       "      <td>1.0</td>\n",
       "      <td>[ac, room, cold, tri, call, recept, later, rea...</td>\n",
       "    </tr>\n",
       "    <tr>\n",
       "      <th>5</th>\n",
       "      <td>opiq yaa 1m4n djamal</td>\n",
       "      <td>4.0</td>\n",
       "      <td>[hotel, alreadi, worn, room, renov, locat, nea...</td>\n",
       "    </tr>\n",
       "    <tr>\n",
       "      <th>6</th>\n",
       "      <td>Christina Natalia</td>\n",
       "      <td>5.0</td>\n",
       "      <td>[good, experi, near, simpang, lima, semarang, ...</td>\n",
       "    </tr>\n",
       "    <tr>\n",
       "      <th>7</th>\n",
       "      <td>Arrakh TV</td>\n",
       "      <td>1.0</td>\n",
       "      <td>[hot, water, work, build, seem, old, maintenan...</td>\n",
       "    </tr>\n",
       "    <tr>\n",
       "      <th>8</th>\n",
       "      <td>Amir Syafrudin</td>\n",
       "      <td>3.0</td>\n",
       "      <td>[stay, hotel, night, locat, easi, reach, quit,...</td>\n",
       "    </tr>\n",
       "    <tr>\n",
       "      <th>9</th>\n",
       "      <td>Calvin Perdana</td>\n",
       "      <td>5.0</td>\n",
       "      <td>[staff, help, room, breakfast, okay, price, gi...</td>\n",
       "    </tr>\n",
       "    <tr>\n",
       "      <th>10</th>\n",
       "      <td>Andi Dianni Anggraini</td>\n",
       "      <td>2.0</td>\n",
       "      <td>[book, last, minut, one, night, transit, chose...</td>\n",
       "    </tr>\n",
       "    <tr>\n",
       "      <th>11</th>\n",
       "      <td>Gunawan Anindyamantri</td>\n",
       "      <td>5.0</td>\n",
       "      <td>[locat, center, citi, also, near, gift, shop, ...</td>\n",
       "    </tr>\n",
       "    <tr>\n",
       "      <th>12</th>\n",
       "      <td>hari cahyo</td>\n",
       "      <td>4.0</td>\n",
       "      <td>[old, build, gon, na, give, star, renov, itroo...</td>\n",
       "    </tr>\n",
       "    <tr>\n",
       "      <th>13</th>\n",
       "      <td>Hengky Mokoginta</td>\n",
       "      <td>5.0</td>\n",
       "      <td>[old, style, hotel, good, clean, comfort, affo...</td>\n",
       "    </tr>\n",
       "    <tr>\n",
       "      <th>14</th>\n",
       "      <td>Heru Heru</td>\n",
       "      <td>2.0</td>\n",
       "      <td>[hotel, look, old, smell, old, unless, stay, c...</td>\n",
       "    </tr>\n",
       "    <tr>\n",
       "      <th>15</th>\n",
       "      <td>Bray Wok</td>\n",
       "      <td>3.0</td>\n",
       "      <td>[quit, old, hotel, plenti, room, bit, date, no...</td>\n",
       "    </tr>\n",
       "    <tr>\n",
       "      <th>16</th>\n",
       "      <td>Meindayani Artanti</td>\n",
       "      <td>5.0</td>\n",
       "      <td>[nice, clean, hotel, recomend]</td>\n",
       "    </tr>\n",
       "    <tr>\n",
       "      <th>17</th>\n",
       "      <td>Faaza Fakhrunnas</td>\n",
       "      <td>4.0</td>\n",
       "      <td>[worth, need, improv, food, clean]</td>\n",
       "    </tr>\n",
       "    <tr>\n",
       "      <th>18</th>\n",
       "      <td>Brahmanto Anindito</td>\n",
       "      <td>4.0</td>\n",
       "      <td>[wife, daughter, superior, delux, room, hotel,...</td>\n",
       "    </tr>\n",
       "    <tr>\n",
       "      <th>19</th>\n",
       "      <td>Hendra Septa</td>\n",
       "      <td>4.0</td>\n",
       "      <td>[good, hotel, center, town, simpang, lima, hos...</td>\n",
       "    </tr>\n",
       "    <tr>\n",
       "      <th>20</th>\n",
       "      <td>Arsita Mutaqin</td>\n",
       "      <td>5.0</td>\n",
       "      <td>[good, servic, yummi, food, clean, room]</td>\n",
       "    </tr>\n",
       "    <tr>\n",
       "      <th>21</th>\n",
       "      <td>bazz beto</td>\n",
       "      <td>3.0</td>\n",
       "      <td>[room, clean, good, price, rate, breakfast, ex...</td>\n",
       "    </tr>\n",
       "    <tr>\n",
       "      <th>22</th>\n",
       "      <td>Mawar Kusumawardani</td>\n",
       "      <td>5.0</td>\n",
       "      <td>[nice, hotel, nice, friendli, staff, locat, st...</td>\n",
       "    </tr>\n",
       "    <tr>\n",
       "      <th>23</th>\n",
       "      <td>Bismi Rakasiwi</td>\n",
       "      <td>4.0</td>\n",
       "      <td>[room, pretti, nice, big, window, fast, intern...</td>\n",
       "    </tr>\n",
       "    <tr>\n",
       "      <th>24</th>\n",
       "      <td>Cia</td>\n",
       "      <td>4.0</td>\n",
       "      <td>[like, interior, hotel, feel, tradit, aromat, ...</td>\n",
       "    </tr>\n",
       "    <tr>\n",
       "      <th>25</th>\n",
       "      <td>arief kas</td>\n",
       "      <td>5.0</td>\n",
       "      <td>[hotel, tua, yg, nyaman, di, semarang, cuma, b...</td>\n",
       "    </tr>\n",
       "    <tr>\n",
       "      <th>26</th>\n",
       "      <td>Fadhil Hidayat</td>\n",
       "      <td>3.0</td>\n",
       "      <td>[strateg, locat, breakfast, menu, tasti, quit,...</td>\n",
       "    </tr>\n",
       "    <tr>\n",
       "      <th>27</th>\n",
       "      <td>Tegar Andito</td>\n",
       "      <td>4.0</td>\n",
       "      <td>[old, look, hotel, good, breakfast]</td>\n",
       "    </tr>\n",
       "    <tr>\n",
       "      <th>28</th>\n",
       "      <td>Sivvis (Sivvis)</td>\n",
       "      <td>4.0</td>\n",
       "      <td>[good, hotel, good, price, much, free, breakfa...</td>\n",
       "    </tr>\n",
       "    <tr>\n",
       "      <th>29</th>\n",
       "      <td>Crisopras “YΛVL” Kainama</td>\n",
       "      <td>5.0</td>\n",
       "      <td>[read, know, million, peopl, around, world, wo...</td>\n",
       "    </tr>\n",
       "    <tr>\n",
       "      <th>30</th>\n",
       "      <td>Agus Wahyuadianto</td>\n",
       "      <td>5.0</td>\n",
       "      <td>[second, visit, cheap, clean, still, best, fea...</td>\n",
       "    </tr>\n",
       "    <tr>\n",
       "      <th>31</th>\n",
       "      <td>RASHEED PUTRANTO</td>\n",
       "      <td>3.0</td>\n",
       "      <td>[ok, hotel, els, expect, old, hotel, realli, m...</td>\n",
       "    </tr>\n",
       "    <tr>\n",
       "      <th>32</th>\n",
       "      <td>Joko Christian</td>\n",
       "      <td>4.0</td>\n",
       "      <td>[good, old, hotel, clean, bathroom, adequ, fac...</td>\n",
       "    </tr>\n",
       "    <tr>\n",
       "      <th>33</th>\n",
       "      <td>Rizca Nur Afivtya Puteri</td>\n",
       "      <td>4.0</td>\n",
       "      <td>[like, hotel, compact, clean, comfort, swim, p...</td>\n",
       "    </tr>\n",
       "    <tr>\n",
       "      <th>34</th>\n",
       "      <td>Nora Valk</td>\n",
       "      <td>2.0</td>\n",
       "      <td>[first, came, pandanaran, year, ago, fell, lov...</td>\n",
       "    </tr>\n",
       "    <tr>\n",
       "      <th>35</th>\n",
       "      <td>Vicky Sabadius</td>\n",
       "      <td>3.0</td>\n",
       "      <td>[old, hotel, moder, room, clean, good, food, g...</td>\n",
       "    </tr>\n",
       "    <tr>\n",
       "      <th>36</th>\n",
       "      <td>budi mega prasetyo</td>\n",
       "      <td>4.0</td>\n",
       "      <td>[valu, money, famili, weekend, among, cheapest...</td>\n",
       "    </tr>\n",
       "    <tr>\n",
       "      <th>37</th>\n",
       "      <td>Gio Taufan (Disgiovery)</td>\n",
       "      <td>3.0</td>\n",
       "      <td>[old, hotel, comfi, nice, atmospher, pandanara...</td>\n",
       "    </tr>\n",
       "    <tr>\n",
       "      <th>38</th>\n",
       "      <td>E.A.P.</td>\n",
       "      <td>5.0</td>\n",
       "      <td>[like, vibe, hotel, spaciou, clean, room, reas...</td>\n",
       "    </tr>\n",
       "    <tr>\n",
       "      <th>39</th>\n",
       "      <td>Matze Ko</td>\n",
       "      <td>4.0</td>\n",
       "      <td>[pandanaran, hotel, score, central, locat, kin...</td>\n",
       "    </tr>\n",
       "    <tr>\n",
       "      <th>40</th>\n",
       "      <td>key</td>\n",
       "      <td>3.0</td>\n",
       "      <td>[first, look, hotel, think, hotel, fanci, go, ...</td>\n",
       "    </tr>\n",
       "    <tr>\n",
       "      <th>41</th>\n",
       "      <td>amelia safitri</td>\n",
       "      <td>4.0</td>\n",
       "      <td>[great, place, stay, heart, semarang, citi, si...</td>\n",
       "    </tr>\n",
       "    <tr>\n",
       "      <th>42</th>\n",
       "      <td>Steffani Sylvia Tan</td>\n",
       "      <td>4.0</td>\n",
       "      <td>[spaciou, bed, great, bathroom, great, famili,...</td>\n",
       "    </tr>\n",
       "    <tr>\n",
       "      <th>43</th>\n",
       "      <td>daniel tambunan</td>\n",
       "      <td>5.0</td>\n",
       "      <td>[locat, facil, hospit, expect, well, could, pe...</td>\n",
       "    </tr>\n",
       "    <tr>\n",
       "      <th>44</th>\n",
       "      <td>Christina Syah</td>\n",
       "      <td>5.0</td>\n",
       "      <td>[book, room, hotel, traveloka, first, time, st...</td>\n",
       "    </tr>\n",
       "    <tr>\n",
       "      <th>45</th>\n",
       "      <td>Sekti Wicaksono</td>\n",
       "      <td>5.0</td>\n",
       "      <td>[great, locat, great, room, amaz, servicesroom...</td>\n",
       "    </tr>\n",
       "    <tr>\n",
       "      <th>46</th>\n",
       "      <td>Jawoto Setyono</td>\n",
       "      <td>5.0</td>\n",
       "      <td>[one, oldest, hotel, town]</td>\n",
       "    </tr>\n",
       "    <tr>\n",
       "      <th>47</th>\n",
       "      <td>Demina Sitepu</td>\n",
       "      <td>5.0</td>\n",
       "      <td>[good, hotel, classroom, servic, locat]</td>\n",
       "    </tr>\n",
       "    <tr>\n",
       "      <th>48</th>\n",
       "      <td>Cornellia Widiastuti</td>\n",
       "      <td>5.0</td>\n",
       "      <td>[great, hotel, price, littl, bit, higher, comp...</td>\n",
       "    </tr>\n",
       "    <tr>\n",
       "      <th>49</th>\n",
       "      <td>Josse Luca</td>\n",
       "      <td>4.0</td>\n",
       "      <td>[clean, comfi, hotel, affod, price]</td>\n",
       "    </tr>\n",
       "  </tbody>\n",
       "</table>\n",
       "</div>"
      ],
      "text/plain": [
       "                        name  rating  \\\n",
       "0    karteenknee karteenknee     2.0   \n",
       "1              Faqih Alfatih     4.0   \n",
       "2                 Dwi Suseno     4.0   \n",
       "3                Cyril Draws     4.0   \n",
       "4                 Kamlesh RC     1.0   \n",
       "5       opiq yaa 1m4n djamal     4.0   \n",
       "6          Christina Natalia     5.0   \n",
       "7                  Arrakh TV     1.0   \n",
       "8             Amir Syafrudin     3.0   \n",
       "9             Calvin Perdana     5.0   \n",
       "10     Andi Dianni Anggraini     2.0   \n",
       "11     Gunawan Anindyamantri     5.0   \n",
       "12                hari cahyo     4.0   \n",
       "13          Hengky Mokoginta     5.0   \n",
       "14                 Heru Heru     2.0   \n",
       "15                  Bray Wok     3.0   \n",
       "16        Meindayani Artanti     5.0   \n",
       "17          Faaza Fakhrunnas     4.0   \n",
       "18        Brahmanto Anindito     4.0   \n",
       "19              Hendra Septa     4.0   \n",
       "20            Arsita Mutaqin     5.0   \n",
       "21                 bazz beto     3.0   \n",
       "22       Mawar Kusumawardani     5.0   \n",
       "23            Bismi Rakasiwi     4.0   \n",
       "24                       Cia     4.0   \n",
       "25                 arief kas     5.0   \n",
       "26            Fadhil Hidayat     3.0   \n",
       "27              Tegar Andito     4.0   \n",
       "28           Sivvis (Sivvis)     4.0   \n",
       "29  Crisopras “YΛVL” Kainama     5.0   \n",
       "30         Agus Wahyuadianto     5.0   \n",
       "31          RASHEED PUTRANTO     3.0   \n",
       "32            Joko Christian     4.0   \n",
       "33  Rizca Nur Afivtya Puteri     4.0   \n",
       "34                 Nora Valk     2.0   \n",
       "35            Vicky Sabadius     3.0   \n",
       "36        budi mega prasetyo     4.0   \n",
       "37   Gio Taufan (Disgiovery)     3.0   \n",
       "38                    E.A.P.     5.0   \n",
       "39                  Matze Ko     4.0   \n",
       "40                       key     3.0   \n",
       "41            amelia safitri     4.0   \n",
       "42       Steffani Sylvia Tan     4.0   \n",
       "43           daniel tambunan     5.0   \n",
       "44            Christina Syah     5.0   \n",
       "45           Sekti Wicaksono     5.0   \n",
       "46            Jawoto Setyono     5.0   \n",
       "47             Demina Sitepu     5.0   \n",
       "48      Cornellia Widiastuti     5.0   \n",
       "49                Josse Luca     4.0   \n",
       "\n",
       "                                               review  \n",
       "0   [hotel, pretti, old, light, room, quit, dim, m...  \n",
       "1   [old, build, still, quit, function, pain, slow...  \n",
       "2   [old, hotel, still, comfort, enough, stay, are...  \n",
       "3   [strateg, locat, room, okay, pretti, old, park...  \n",
       "4   [ac, room, cold, tri, call, recept, later, rea...  \n",
       "5   [hotel, alreadi, worn, room, renov, locat, nea...  \n",
       "6   [good, experi, near, simpang, lima, semarang, ...  \n",
       "7   [hot, water, work, build, seem, old, maintenan...  \n",
       "8   [stay, hotel, night, locat, easi, reach, quit,...  \n",
       "9   [staff, help, room, breakfast, okay, price, gi...  \n",
       "10  [book, last, minut, one, night, transit, chose...  \n",
       "11  [locat, center, citi, also, near, gift, shop, ...  \n",
       "12  [old, build, gon, na, give, star, renov, itroo...  \n",
       "13  [old, style, hotel, good, clean, comfort, affo...  \n",
       "14  [hotel, look, old, smell, old, unless, stay, c...  \n",
       "15  [quit, old, hotel, plenti, room, bit, date, no...  \n",
       "16                     [nice, clean, hotel, recomend]  \n",
       "17                 [worth, need, improv, food, clean]  \n",
       "18  [wife, daughter, superior, delux, room, hotel,...  \n",
       "19  [good, hotel, center, town, simpang, lima, hos...  \n",
       "20           [good, servic, yummi, food, clean, room]  \n",
       "21  [room, clean, good, price, rate, breakfast, ex...  \n",
       "22  [nice, hotel, nice, friendli, staff, locat, st...  \n",
       "23  [room, pretti, nice, big, window, fast, intern...  \n",
       "24  [like, interior, hotel, feel, tradit, aromat, ...  \n",
       "25  [hotel, tua, yg, nyaman, di, semarang, cuma, b...  \n",
       "26  [strateg, locat, breakfast, menu, tasti, quit,...  \n",
       "27                [old, look, hotel, good, breakfast]  \n",
       "28  [good, hotel, good, price, much, free, breakfa...  \n",
       "29  [read, know, million, peopl, around, world, wo...  \n",
       "30  [second, visit, cheap, clean, still, best, fea...  \n",
       "31  [ok, hotel, els, expect, old, hotel, realli, m...  \n",
       "32  [good, old, hotel, clean, bathroom, adequ, fac...  \n",
       "33  [like, hotel, compact, clean, comfort, swim, p...  \n",
       "34  [first, came, pandanaran, year, ago, fell, lov...  \n",
       "35  [old, hotel, moder, room, clean, good, food, g...  \n",
       "36  [valu, money, famili, weekend, among, cheapest...  \n",
       "37  [old, hotel, comfi, nice, atmospher, pandanara...  \n",
       "38  [like, vibe, hotel, spaciou, clean, room, reas...  \n",
       "39  [pandanaran, hotel, score, central, locat, kin...  \n",
       "40  [first, look, hotel, think, hotel, fanci, go, ...  \n",
       "41  [great, place, stay, heart, semarang, citi, si...  \n",
       "42  [spaciou, bed, great, bathroom, great, famili,...  \n",
       "43  [locat, facil, hospit, expect, well, could, pe...  \n",
       "44  [book, room, hotel, traveloka, first, time, st...  \n",
       "45  [great, locat, great, room, amaz, servicesroom...  \n",
       "46                         [one, oldest, hotel, town]  \n",
       "47            [good, hotel, classroom, servic, locat]  \n",
       "48  [great, hotel, price, littl, bit, higher, comp...  \n",
       "49                [clean, comfi, hotel, affod, price]  "
      ]
     },
     "execution_count": 81,
     "metadata": {},
     "output_type": "execute_result"
    }
   ],
   "source": [
    "df = pd.DataFrame(data_preprocessed)\n",
    "df"
   ]
  },
  {
   "cell_type": "code",
   "execution_count": 55,
   "id": "6ef1cdd8-0e2d-4d02-a008-65314d5900eb",
   "metadata": {},
   "outputs": [],
   "source": [
    "df.to_csv('data_preprocessed.csv', index=False)"
   ]
  },
  {
   "cell_type": "markdown",
   "id": "f38beb64-1200-4fe7-9ba8-545e4a0c982a",
   "metadata": {},
   "source": [
    "<br><br><br><br>"
   ]
  },
  {
   "cell_type": "code",
   "execution_count": 13,
   "id": "1e26cbd0-b2e7-4d16-8f37-87c7902d33e9",
   "metadata": {},
   "outputs": [],
   "source": [
    " coba = {'name':['John','William','Nick'],\n",
    "          'rating':[2.0,5.0,4.0],\n",
    "          # 'review':['Lorem ipsum dolor','Sit amet consectetur', 'Adipsicing Elit']}\n",
    "          'review':[['Lorem', 'ipsum', 'dolor'],['Sit', 'amet', 'consectetur'], ['Adipsicing', 'Elit']]}\n",
    "\n",
    "cb = pd.DataFrame(coba)\n",
    "cb\n",
    "\n",
    "cb.to_csv('coba.csv', index=False)"
   ]
  }
 ],
 "metadata": {
  "kernelspec": {
   "display_name": "Python 3 (ipykernel)",
   "language": "python",
   "name": "python3"
  },
  "language_info": {
   "codemirror_mode": {
    "name": "ipython",
    "version": 3
   },
   "file_extension": ".py",
   "mimetype": "text/x-python",
   "name": "python",
   "nbconvert_exporter": "python",
   "pygments_lexer": "ipython3",
   "version": "3.8.5"
  }
 },
 "nbformat": 4,
 "nbformat_minor": 5
}
