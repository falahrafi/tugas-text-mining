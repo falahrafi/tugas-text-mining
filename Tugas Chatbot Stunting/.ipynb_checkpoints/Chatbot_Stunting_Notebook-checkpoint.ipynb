{
 "cells": [
  {
   "cell_type": "markdown",
   "metadata": {
    "id": "71_gcbahKU-R"
   },
   "source": [
    "<h1 style=\"text-align:center\"><b>Tugas Chatbot Stunting</b></h1>"
   ]
  },
  {
   "cell_type": "markdown",
   "metadata": {
    "id": "CVm08OyEKU-T"
   },
   "source": [
    "<hr>\n",
    "<table>\n",
    "    <tr>\n",
    "        <td><b>NIM</b></td>\n",
    "        <td>:</td>\n",
    "        <td>20.01.53.0033</td>\n",
    "    </tr>\n",
    "    <tr>\n",
    "        <td><b>Nama</b></td>\n",
    "        <td>:</td>\n",
    "        <td>MUHAMMAD FALAH ABDURRAFI</td>\n",
    "    </tr>\n",
    "    <tr>\n",
    "        <td><b>Progdi</b></td>\n",
    "        <td>:</td>\n",
    "        <td>Teknik Informatika - S1</td>\n",
    "    </tr>\n",
    "    <tr>\n",
    "        <td><b>Mata Kuliah</b></td>\n",
    "        <td>:</td>\n",
    "        <td>Text Mining</td>\n",
    "    </tr>\n",
    "    <tr>\n",
    "        <td><b>Kelas</b></td>\n",
    "        <td>:</td>\n",
    "        <td>A1</td>\n",
    "    </tr>\n",
    "    <tr>\n",
    "        <td><b>Dosen Pengampu</b></td>\n",
    "        <td>:</td>\n",
    "        <td>Dr. Drs. ERI ZULIARSO, M.Kom.</td>\n",
    "    </tr>\n",
    "</table>\n",
    "<hr>"
   ]
  },
  {
   "cell_type": "code",
   "execution_count": 1,
   "metadata": {
    "colab": {
     "base_uri": "https://localhost:8080/"
    },
    "id": "ZY1Af34DKU-W",
    "outputId": "c2cb3cb5-afd8-45c6-a15e-32a9402879d8"
   },
   "outputs": [
    {
     "name": "stdout",
     "output_type": "stream",
     "text": [
      "EXECUTABLE\t: /usr/bin/python3\n",
      "VERSION\t\t: 3.8.16 (default, Dec  7 2022, 01:12:13) \n",
      "[GCC 7.5.0]\n",
      "VERSION INFO\t: sys.version_info(major=3, minor=8, micro=16, releaselevel='final', serial=0)\n"
     ]
    }
   ],
   "source": [
    "import sys\n",
    "print(\"EXECUTABLE\\t:\",sys.executable)\n",
    "print(\"VERSION\\t\\t:\",sys.version)\n",
    "print(\"VERSION INFO\\t:\",sys.version_info)"
   ]
  },
  {
   "cell_type": "code",
   "execution_count": 11,
   "metadata": {
    "id": "HVIUO1PmKU-Z"
   },
   "outputs": [],
   "source": [
    "import warnings\n",
    "warnings.filterwarnings('ignore')"
   ]
  },
  {
   "cell_type": "markdown",
   "metadata": {
    "id": "J7I9nsLHKU-Z",
    "tags": []
   },
   "source": [
    "<br>\n",
    "<h2><b>Inisisalisasi Awal</b></h2>"
   ]
  },
  {
   "cell_type": "code",
   "execution_count": null,
   "metadata": {
    "colab": {
     "base_uri": "https://localhost:8080/"
    },
    "id": "UyQsK1hYKU-b",
    "outputId": "73a3cdd3-f9ea-4e61-c110-05a903bb0652"
   },
   "outputs": [],
   "source": [
    "# !pip install nest_asyncio"
   ]
  },
  {
   "cell_type": "code",
   "execution_count": 9,
   "metadata": {
    "colab": {
     "base_uri": "https://localhost:8080/"
    },
    "id": "JeJsK80_KU-c",
    "outputId": "c288e0a1-1378-4266-d134-afabe8a661b0"
   },
   "outputs": [
    {
     "name": "stdout",
     "output_type": "stream",
     "text": [
      "Event loop ready.\n"
     ]
    }
   ],
   "source": [
    "import nest_asyncio\n",
    "\n",
    "nest_asyncio.apply()\n",
    "print(\"Event loop ready.\")"
   ]
  },
  {
   "cell_type": "code",
   "execution_count": null,
   "metadata": {
    "colab": {
     "base_uri": "https://localhost:8080/",
     "height": 1000
    },
    "id": "EqrKI9s8Lk9x",
    "outputId": "7d09ecb0-a177-42db-e229-800db8ac4bdb"
   },
   "outputs": [],
   "source": [
    "# !pip install rasa"
   ]
  },
  {
   "cell_type": "code",
   "execution_count": 2,
   "metadata": {
    "colab": {
     "base_uri": "https://localhost:8080/"
    },
    "id": "mTJzoxx4KU-d",
    "outputId": "bbcc2b54-42ee-47ec-a353-374a5fbe2eac"
   },
   "outputs": [
    {
     "name": "stdout",
     "output_type": "stream",
     "text": [
      "['config.yml', 'data', 'models', 'endpoints.yml', 'tests', 'images', 'actions', '.ipynb_checkpoints', 'domain.yml', 'credentials.yml']\n"
     ]
    }
   ],
   "source": [
    "from rasa.cli.scaffold import create_initial_project\n",
    "import os\n",
    "\n",
    "project = \"chatbot_stunting\"\n",
    "\n",
    "# Hanya jalankan jika project belum ada\n",
    "# create_initial_project(project)\n",
    "\n",
    "# move into project directory and show files\n",
    "os.chdir(project)\n",
    "print(os.listdir(\".\"))"
   ]
  },
  {
   "cell_type": "code",
   "execution_count": 3,
   "metadata": {
    "colab": {
     "base_uri": "https://localhost:8080/"
    },
    "id": "GTiEuILHKU-g",
    "outputId": "38b229de-c890-4304-a2a6-5637ce051c80"
   },
   "outputs": [
    {
     "name": "stdout",
     "output_type": "stream",
     "text": [
      "config.yml data/ domain.yml models/\n"
     ]
    }
   ],
   "source": [
    "config = \"config.yml\"\n",
    "training_files = \"data/\"\n",
    "stories = \"data/stories.yml\"\n",
    "nlu = \"data/nlu.yml\"\n",
    "domain = \"domain.yml\"\n",
    "output = \"models/\"\n",
    "print(config, training_files, domain, output)"
   ]
  },
  {
   "cell_type": "markdown",
   "metadata": {
    "id": "8CKA3Xs0KU-j",
    "tags": []
   },
   "source": [
    "<br>\n",
    "<h2><b>Training Model</b></h2>"
   ]
  },
  {
   "cell_type": "code",
   "execution_count": 4,
   "metadata": {
    "colab": {
     "base_uri": "https://localhost:8080/"
    },
    "id": "NDRXbZx0KU-k",
    "outputId": "6f570973-3ea3-4a4e-d463-de14d49bb12c"
   },
   "outputs": [
    {
     "name": "stderr",
     "output_type": "stream",
     "text": [
      "/usr/local/lib/python3.8/dist-packages/past/types/oldstr.py:5: DeprecationWarning: Using or importing the ABCs from 'collections' instead of from 'collections.abc' is deprecated since Python 3.3, and in 3.10 it will stop working\n",
      "  from collections import Iterable\n",
      "/usr/local/lib/python3.8/dist-packages/past/builtins/misc.py:4: DeprecationWarning: Using or importing the ABCs from 'collections' instead of from 'collections.abc' is deprecated since Python 3.3, and in 3.10 it will stop working\n",
      "  from collections import Mapping\n"
     ]
    },
    {
     "name": "stdout",
     "output_type": "stream",
     "text": [
      "\u001b[94mThe configuration for pipeline and policies was chosen automatically. It was written into the config file at 'config.yml'.\u001b[0m\n"
     ]
    },
    {
     "name": "stderr",
     "output_type": "stream",
     "text": [
      "/usr/local/lib/python3.8/dist-packages/rasa/utils/tensorflow/model_data.py:774: VisibleDeprecationWarning: Creating an ndarray from ragged nested sequences (which is a list-or-tuple of lists-or-tuples-or ndarrays with different lengths or shapes) is deprecated. If you meant to do this, you must specify 'dtype=object' when creating the ndarray.\n",
      "  np.concatenate(np.array(f)),\n",
      "Epochs: 100%|██████████| 100/100 [01:14<00:00,  1.34it/s, t_loss=1.37, i_acc=1]\n",
      "Processed story blocks: 100%|██████████| 10/10 [00:00<00:00, 248.68it/s, # trackers=2]\n",
      "Processed story blocks: 100%|██████████| 10/10 [00:00<00:00, 134.56it/s, # trackers=18]\n",
      "Processed story blocks: 100%|██████████| 10/10 [00:00<00:00, 15.81it/s, # trackers=100]\n",
      "Processed story blocks: 100%|██████████| 10/10 [00:00<00:00, 37.61it/s, # trackers=100]\n",
      "Processed rules: 100%|██████████| 4/4 [00:00<00:00, 357.81it/s, # trackers=1]\n",
      "Processed trackers: 100%|██████████| 9/9 [00:00<00:00, 153.22it/s, # action=24]\n",
      "Processed actions: 24it [00:00, 447.54it/s, # examples=24]\n",
      "Processed trackers: 100%|██████████| 3/3 [00:00<00:00, 147.86it/s, # action=7]\n",
      "Processed actions: 7it [00:00, 717.12it/s, # examples=6]\n",
      "Processed trackers: 100%|██████████| 9/9 [00:00<00:00, 173.57it/s, # action=24]\n",
      "Processed trackers: 100%|██████████| 3/3 [00:00<00:00, 538.93it/s]\n",
      "Processed trackers: 100%|██████████| 12/12 [00:00<00:00, 452.46it/s]\n",
      "Processed trackers: 100%|██████████| 509/509 [00:00<00:00, 522.88it/s, # action=186]\n",
      "/usr/local/lib/python3.8/dist-packages/rasa/utils/tensorflow/model_data_utils.py:388: VisibleDeprecationWarning: Creating an ndarray from ragged nested sequences (which is a list-or-tuple of lists-or-tuples-or ndarrays with different lengths or shapes) is deprecated. If you meant to do this, you must specify 'dtype=object' when creating the ndarray.\n",
      "  np.array(values), number_of_dimensions=4\n",
      "/usr/local/lib/python3.8/dist-packages/rasa/utils/tensorflow/model_data_utils.py:404: VisibleDeprecationWarning: Creating an ndarray from ragged nested sequences (which is a list-or-tuple of lists-or-tuples-or ndarrays with different lengths or shapes) is deprecated. If you meant to do this, you must specify 'dtype=object' when creating the ndarray.\n",
      "  MASK: [FeatureArray(np.array(attribute_masks), number_of_dimensions=3)]\n",
      "Epochs:   0%|          | 0/100 [00:00<?, ?it/s]/usr/local/lib/python3.8/dist-packages/tensorflow/python/framework/indexed_slices.py:444: UserWarning: Converting sparse IndexedSlices(IndexedSlices(indices=Tensor(\"gradients/cond_grad/Identity_1:0\", shape=(None,), dtype=int64), values=Tensor(\"gradients/cond_grad/Identity:0\", shape=(None,), dtype=float32), dense_shape=Tensor(\"gradients/cond_grad/Identity_2:0\", shape=(1,), dtype=int32))) to a dense Tensor of unknown shape. This may consume a large amount of memory.\n",
      "  warnings.warn(\n",
      "/usr/local/lib/python3.8/dist-packages/tensorflow/python/framework/indexed_slices.py:444: UserWarning: Converting sparse IndexedSlices(IndexedSlices(indices=Tensor(\"gradients/cond_1_grad/Identity_1:0\", shape=(None,), dtype=int64), values=Tensor(\"gradients/cond_1_grad/Identity:0\", shape=(None,), dtype=float32), dense_shape=Tensor(\"gradients/cond_1_grad/Identity_2:0\", shape=(1,), dtype=int32))) to a dense Tensor of unknown shape. This may consume a large amount of memory.\n",
      "  warnings.warn(\n",
      "Epochs: 100%|██████████| 100/100 [00:44<00:00,  2.26it/s, t_loss=2, loss=1.82, acc=0.995]\n",
      "WARNING:rasa.shared.utils.common:The UnexpecTED Intent Policy is currently experimental and might change or be removed in the future 🔬 Please share your feedback on it in the forum (https://forum.rasa.com) to help us make this feature ready for production.\n",
      "Processed trackers: 100%|██████████| 509/509 [00:00<00:00, 580.43it/s, # intent=64]\n",
      "Epochs: 100%|██████████| 100/100 [00:24<00:00,  4.07it/s, t_loss=0.144, loss=0.0281, acc=0.997]\n"
     ]
    },
    {
     "name": "stdout",
     "output_type": "stream",
     "text": [
      "\u001b[92mYour Rasa model is trained and saved at 'models/20221227-115450-resolving-set.tar.gz'.\u001b[0m\n"
     ]
    }
   ],
   "source": [
    "import rasa\n",
    "\n",
    "model_path = rasa.train(domain, config, [training_files], output)"
   ]
  },
  {
   "cell_type": "code",
   "execution_count": 5,
   "metadata": {
    "colab": {
     "base_uri": "https://localhost:8080/"
    },
    "id": "PRkpJSTMKU-n",
    "outputId": "db01a668-04c3-42ad-cc88-d0ecc4ad5377"
   },
   "outputs": [
    {
     "name": "stdout",
     "output_type": "stream",
     "text": [
      "TrainingResult(model='models/20221227-115450-resolving-set.tar.gz', code=0, dry_run_results=None)\n",
      "models/20221227-115450-resolving-set.tar.gz\n"
     ]
    }
   ],
   "source": [
    "print(model_path)\n",
    "print(model_path.model)"
   ]
  },
  {
   "cell_type": "markdown",
   "metadata": {
    "id": "fve2eYw9KU-o",
    "tags": []
   },
   "source": [
    "<br>\n",
    "<h2><b>Visualisasi Alur ChatBot</b></h2>"
   ]
  },
  {
   "cell_type": "code",
   "execution_count": 6,
   "metadata": {
    "colab": {
     "base_uri": "https://localhost:8080/"
    },
    "id": "lPzllhz1KU-p",
    "outputId": "c3cbcd41-d52d-4043-e738-20f791364b1a"
   },
   "outputs": [
    {
     "name": "stderr",
     "output_type": "stream",
     "text": [
      "Processed story blocks: 100%|██████████| 10/10 [00:00<00:00, 330.77it/s, # trackers=1]\n",
      "/usr/local/lib/python3.8/dist-packages/pkg_resources/__init__.py:1130: DeprecationWarning: Use of .. or absolute path in a resource path is not allowed and will raise exceptions in a future release.\n",
      "  return get_provider(package_or_requirement).get_resource_filename(\n"
     ]
    }
   ],
   "source": [
    "from rasa.core.visualize import visualize\n",
    "\n",
    "visualize(domain, stories, nlu, \"./graph.html\", 99)"
   ]
  },
  {
   "cell_type": "code",
   "execution_count": 7,
   "metadata": {
    "colab": {
     "base_uri": "https://localhost:8080/",
     "height": 39
    },
    "id": "kQg9VnZ4KU-q",
    "outputId": "1fe6d99f-6b9f-4e65-e7c2-3cbd3b278a14"
   },
   "outputs": [
    {
     "data": {
      "text/html": [
       "<a href=\"chatbot_stunting/graph.html\" download><button>DOWNLOAD VISUALISASI</button></a>"
      ],
      "text/plain": [
       "<IPython.core.display.HTML object>"
      ]
     },
     "execution_count": 7,
     "metadata": {},
     "output_type": "execute_result"
    }
   ],
   "source": [
    "from IPython.core.display import HTML\n",
    "HTML('<a href=\"chatbot_stunting/graph.html\" download><button>DOWNLOAD VISUALISASI</button></a>')"
   ]
  },
  {
   "cell_type": "markdown",
   "metadata": {
    "id": "VGdcNPAzKU-r",
    "tags": []
   },
   "source": [
    "<br>\n",
    "<h2><b>Jalankan ChatBot</b></h2>"
   ]
  },
  {
   "cell_type": "code",
   "execution_count": 13,
   "metadata": {
    "colab": {
     "base_uri": "https://localhost:8080/",
     "height": 1000
    },
    "id": "o9MyaWYHKU-s",
    "outputId": "e1a4a56d-5660-44a7-ca47-f2120bacd097"
   },
   "outputs": [
    {
     "name": "stderr",
     "output_type": "stream",
     "text": [
      "WARNING:rasa.shared.utils.common:The UnexpecTED Intent Policy is currently experimental and might change or be removed in the future 🔬 Please share your feedback on it in the forum (https://forum.rasa.com) to help us make this feature ready for production.\n"
     ]
    },
    {
     "name": "stdout",
     "output_type": "stream",
     "text": [
      "Your bot is ready to talk! Type your messages here or send '/stop'.\n",
      "Permisi, selamat malam\n",
      "\u001b[92mHalo, Selamat datang di Stunting ChatBot!\n",
      "Chatbot ini dibuat oleh:\n",
      "- Muhammad Falah Abdurrafi (20.01.53.0033)\n",
      ".\n",
      "Informasi apa yang ingin anda ketahui tentang stunting?\u001b[0m\n",
      "Apa itu stunting?\n",
      "\u001b[92mStunting adalah keadaan pendek yang khas disebabkan oleh gangguan nutrisi, infeksi berulang yang tidak tertangani dalam jangka waktu yang lama.\n",
      "- Illustrasi Stunting (Diambil dari siswapedia.com)\u001b[0m\n"
     ]
    },
    {
     "data": {
      "text/html": [
       "<img src=\"https://www.siswapedia.com/wp-content/uploads/2019/10/Penyebab-Ciri-Ciri-Dan-Dampak-Stunting.png\"/>"
      ],
      "text/plain": [
       "<IPython.core.display.Image object>"
      ]
     },
     "metadata": {},
     "output_type": "display_data"
    },
    {
     "name": "stdout",
     "output_type": "stream",
     "text": [
      "Bagaimana cara mengobati stunting?\n",
      "\u001b[92mAda dua masalah akibat stunting yaitu pertumbuhan otak dan tinggi badan.\n",
      "- Pertumbuhan otak sangat pesat terjadi pada 2 tahun pertama sehingga setelah usia 2 tahun, tidak bisa diperbaiki.\n",
      "- Tinggi badan masih bisa diperbaiki dengan berharap pada fase pubertas.\n",
      "Oleh karena itu JANGAN MENGOBATI stunting tapi lakukanlah PENCEGAHAN. Periode emas yang masih bisa memperbaiki stunting adalah sebelum usia 2 tahun, dan hasilnya pun tidak bisa kembali sempurna, artinya bisa diperbaiki namun optimal.\u001b[0m\n",
      "\u001b[92m.\n",
      "Apakah anda ingin tahu bagaimana cara mencegah stunting?\u001b[0m\n",
      "Ya, saya ingin tahu\n",
      "\u001b[92mBerikut ini adalah beberapa hal yang dapat dilakukan untuk mencegah stunting :\n",
      "a) Mempersiapkan remaja putri sebelum menempuh kehamilan\n",
      "b) Perencanaan keluarga dan kehamilan yang matang\n",
      "c) Menjaga kehamilan yang sehat\n",
      "d) Nutrisi saat hamil dan menyusui\n",
      "e) manajemen laktasi yang baik\n",
      "f) manajemen MPASI yang adekuat\n",
      "g) mencegah penyakit dengan imunisasi yang LENGKAP\n",
      "h) Pemantauan pertumbuhan anak secara terus-menerus\u001b[0m\n",
      "Apa saja nutrisi yang dapat mencegah stunting?\n",
      "\u001b[92mStunting dapat dicegah dengan pemberian nutrisi yang tepat. Nutrisi pembangun tumbuh adalah makronutrien yang terdiri dari Karbohidrat, protein dan lemak.\n",
      "- PERLU DIINGAT bahwa tidak ada vitamin dan suplemen pencegah stunting. Hal ini karena vitamin dan mineral merupakan mikronutrien yang merupakan zat pendukung, bukan pembangun. Vitamin dan mineral terbaik berasal dari makanan, bukan dari apotek.\u001b[0m\n",
      "Perlukah menambah sufor saat MPASI?\n",
      "\u001b[92mSaat usia 6-12 bulan, ada dua manajemen nutrisi yang harus dievaluasi yaitu:\n",
      "- Apakah ASI cukup?\n",
      "- Apakah kuantitas dan kualitas MPASI cukup?\n",
      "Pemberian sufor hanya dilakukan jika ASI tidak cukup.\n",
      "Pemberian ASI pada masa MPASI tetap dominan mencapai 120 ml x Berat badan perharinya.\u001b[0m\n",
      "Bagaimana cara menilai pertumbuhan dan perkembangan bayi prematur?\n",
      "\u001b[92mPertumbuhan bayi prematur dipantau menggunakan kurva Fenton sampai usia koreksi 10 minggu, kemudian pindah ke kurva WHO.\n",
      "Sedangkan perkembangan (verbal, motoric halus dan kasar) menggunakan usia koreksi sampai usia 2 tahun, lalu dianggap sama dengan anak lain yang seusianya.\u001b[0m\n",
      "Bagaimana cara mengatasi defisiensi besi pada ibu hamil?\n",
      "\u001b[92mPencegahan anemia pada ibu hamil harus dilakukan sebelum hamil.\n",
      "Jika anemia sudah terjadi saat hamil maka kondisi ini sudah terlambat, sehingga harus diatasi segera, pada umumnya dokter kandungan akan memberikan suplemen besi tergantung pada derajat keparahan defisiensinya (dapat berupa infus zat besi, suplemen minum).\n",
      "Namun perlu diingat, penyebab utama defisiensi besi adalah asupan besi yang kurang sehingga wajib mengubah pola makan sehingga tidak terulang di saat fase menyusui.\u001b[0m\n",
      "Apakah saya bicara dengan bot?\n",
      "\u001b[92mSaya adalah Stunting ChatBot yang dibuat oleh Muhammad Falah Abdurrafi (20.01.53.0033)\u001b[0m\n",
      "Akhiri chat\n",
      "\u001b[92mTerima kasih sudah menggunakan layanan Stunting ChatBot.\n",
      "Sampai jumpa!\u001b[0m\n",
      "/stop\n"
     ]
    }
   ],
   "source": [
    "from rasa.jupyter import chat\n",
    "\n",
    "# endpoints = \"endpoints.yml\"\n",
    "endpoints = None\n",
    "chat(model_path.model, endpoints)"
   ]
  }
 ],
 "metadata": {
  "colab": {
   "provenance": []
  },
  "kernelspec": {
   "display_name": "Python 3 (ipykernel)",
   "language": "python",
   "name": "python3"
  },
  "language_info": {
   "codemirror_mode": {
    "name": "ipython",
    "version": 3
   },
   "file_extension": ".py",
   "mimetype": "text/x-python",
   "name": "python",
   "nbconvert_exporter": "python",
   "pygments_lexer": "ipython3",
   "version": "3.8.15"
  },
  "vscode": {
   "interpreter": {
    "hash": "52bc4274009616494a5b3f04ab113e50f0f3d524d3fb33ecb960d5800cd4349d"
   }
  }
 },
 "nbformat": 4,
 "nbformat_minor": 4
}
