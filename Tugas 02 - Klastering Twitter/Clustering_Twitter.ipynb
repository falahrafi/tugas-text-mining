{
 "cells": [
  {
   "cell_type": "markdown",
   "id": "59d44dd2-1860-4f02-81fa-a085184432c4",
   "metadata": {},
   "source": [
    "<h1 style=\"text-align:center\"><b>Tugas Klastering Twitter</b></h1>"
   ]
  },
  {
   "cell_type": "markdown",
   "id": "9cdc57c4-aed2-4c75-bf5f-f1b397ccc400",
   "metadata": {},
   "source": [
    "<hr>\n",
    "<table>\n",
    "    <tr>\n",
    "        <td><b>NIM</b></td>\n",
    "        <td>:</td>\n",
    "        <td>20.01.53.0033</td>\n",
    "    </tr>\n",
    "    <tr>\n",
    "        <td><b>Nama</b></td>\n",
    "        <td>:</td>\n",
    "        <td>MUHAMMAD FALAH ABDURRAFI</td>\n",
    "    </tr>\n",
    "    <tr>\n",
    "        <td><b>Progdi</b></td>\n",
    "        <td>:</td>\n",
    "        <td>Teknik Informatika - S1</td>\n",
    "    </tr>\n",
    "    <tr>\n",
    "        <td><b>Mata Kuliah</b></td>\n",
    "        <td>:</td>\n",
    "        <td>Text Mining</td>\n",
    "    </tr>\n",
    "    <tr>\n",
    "        <td><b>Kelas</b></td>\n",
    "        <td>:</td>\n",
    "        <td>A1</td>\n",
    "    </tr>\n",
    "    <tr>\n",
    "        <td><b>Dosen Pengampu</b></td>\n",
    "        <td>:</td>\n",
    "        <td>Dr. Drs. ERI ZULIARSO, M.Kom.</td>\n",
    "    </tr>\n",
    "</table>\n",
    "<hr>"
   ]
  },
  {
   "cell_type": "markdown",
   "id": "8e63606b-0d66-4cd8-beaf-b97a004e4b00",
   "metadata": {},
   "source": [
    "<br><br>\n",
    "<h1><b>1. Scrapping (SNScrape)</b></h1>\n",
    "<hr>"
   ]
  },
  {
   "cell_type": "markdown",
   "id": "2abe969a-6ea8-4363-a83b-72e46d13c92c",
   "metadata": {},
   "source": [
    "<h4><b>1.1. Import Library</b></h4>"
   ]
  },
  {
   "cell_type": "code",
   "execution_count": 1,
   "id": "75300ee2-9558-4f0a-a25c-1d6d85a30d4a",
   "metadata": {},
   "outputs": [],
   "source": [
    "import snscrape.modules.twitter as sntwitter\n",
    "import json\n",
    "from langdetect import detect"
   ]
  },
  {
   "cell_type": "markdown",
   "id": "e416db4d-1823-42c2-986d-6e0f85d2827b",
   "metadata": {},
   "source": [
    "<br>\n",
    "<h4><b>1.2. Menentukan Kata Kunci</b></h4>"
   ]
  },
  {
   "cell_type": "code",
   "execution_count": 2,
   "id": "a8d50208-98bc-4783-9b59-785b12dae345",
   "metadata": {},
   "outputs": [],
   "source": [
    "keywords=['pssi']\n",
    "start=\"2022–09–01\"\n",
    "end =\"2022–10–03\"\n",
    "max_num=20\n",
    "fname='tweet.json' \n",
    "languages=['id','en']"
   ]
  },
  {
   "cell_type": "markdown",
   "id": "3cfafb83-1d4e-4f23-9d6a-6a33d93c723d",
   "metadata": {},
   "source": [
    "<br>\n",
    "<h4><b>1.3. Proses Scrapping</b></h4>"
   ]
  },
  {
   "cell_type": "code",
   "execution_count": 3,
   "id": "4fc67526-2c25-41d0-b70c-963b090a343c",
   "metadata": {},
   "outputs": [
    {
     "name": "stderr",
     "output_type": "stream",
     "text": [
      "C:\\Users\\ASUS\\AppData\\Local\\Temp\\ipykernel_4344\\3992385352.py:14: FutureWarning: username is deprecated, use user.username instead\n",
      "  data = {'id': tweet.id, 'username':tweet.username, 'date': tweet.date, 'text': tweet.content,'url':tweet.url}\n"
     ]
    },
    {
     "name": "stdout",
     "output_type": "stream",
     "text": [
      "{\"id\": 1581214130673184769, \"username\": \"EsTeh_2500\", \"date\": \"2022-10-15 09:23:20+00:00\", \"text\": \"@MafiaWasit Ketua asprov sekaligus Exco PSSI yo mbah 😅\", \"url\": \"https://twitter.com/EsTeh_2500/status/1581214130673184769\"}\n",
      "{\"id\": 1581214048267382785, \"username\": \"MasJanoko8\", \"date\": \"2022-10-15 09:23:01+00:00\", \"text\": \"@Tan_Mar3M kan pssi dibawah fifa drun...cuma.himbauan.tidak bisa intervensi...arahnya tetap ke presiden yh salah..,kaum.iblis picek.matane.dobol.silite..😁😁😁\", \"url\": \"https://twitter.com/MasJanoko8/status/1581214048267382785\"}\n",
      "{\"id\": 1581213986737238016, \"username\": \"Clarenceamadeus\", \"date\": \"2022-10-15 09:22:46+00:00\", \"text\": \"@dengkul_cacing @maret19841 @mamunmurod_ Kenapa emangnya? Ngasih komentar / tanggapan itu bukan keharusan. Jadi tidak bisa dipaksa. Lagipula dari awal saya paling nggak pengen tau komentar ketum PSSI, lebih ingin tahu komentar Panpel, pt LIB, atau polisi2 yg bertugas disitu\", \"url\": \"https://twitter.com/Clarenceamadeus/status/1581213986737238016\"}\n",
      "{\"id\": 1581213952599818242, \"username\": \"ecwx48\", \"date\": \"2022-10-15 09:22:38+00:00\", \"text\": \"Gw dari dulu kurang paham. Ketua dan pengurus PSSI (dan asosiasi olah raga lain di indoensia) gitu yang milih siapa sih? pemerintah? masyarakat? klub2 bola? atau siapa? Mereka bertangung jawab kepada siapa?\", \"url\": \"https://twitter.com/ecwx48/status/1581213952599818242\"}\n",
      "{\"id\": 1581213912649052160, \"username\": \"akmaltahir97\", \"date\": \"2022-10-15 09:22:28+00:00\", \"text\": \"Melihat geliat Prof @mohmahfudmd belakangan ini, Saya ingat petuah beliau 3 tahun silam di TV One.Pandangan ini sejurus dan lurus dilaksanakan Prof Mahfud ketika memimpin TGPF tragedi Kanjuruhan, yaitu mengusulkan Ketum @PSSI @iriawan84 mundur sebagai bentuk tanggung jawab moral. https://t.co/tJevm1iLKw\", \"url\": \"https://twitter.com/akmaltahir97/status/1581213912649052160\"}\n",
      "{\"id\": 1581213861046165504, \"username\": \"Jojangan\", \"date\": \"2022-10-15 09:22:16+00:00\", \"text\": \"@HendroWibowoYZA @PSSI Cukup baik???? juara liga kalh sama tim asal laos, dibantai. Baik??? Tidak ada satupun liga under 20 . Ada pun cuma sebulan, baik???? Naturalisasi lama bandingkan dengan PERBASI, on point, sea games GATOT. Masih bilang baik?????\", \"url\": \"https://twitter.com/Jojangan/status/1581213861046165504\"}\n",
      "{\"id\": 1581213852121051136, \"username\": \"mayuriyuna\", \"date\": \"2022-10-15 09:22:14+00:00\", \"text\": \"@cnbcindonesia Bubar aja @PSSI ganti liga kasti saja\", \"url\": \"https://twitter.com/mayuriyuna/status/1581213852121051136\"}\n",
      "{\"id\": 1581213835980963840, \"username\": \"CelanaKotak_\", \"date\": \"2022-10-15 09:22:10+00:00\", \"text\": \"@Agungdwps @dahhh___ @iIhamzada Ya. Mudah-mudahan sty kalo dijabarin proyeksi visi misi PSSI setelah revolusi mau lah tetap ngelatih timnas. Kalo gak yaudah, ikhlaskan.\", \"url\": \"https://twitter.com/CelanaKotak_/status/1581213835980963840\"}\n",
      "{\"id\": 1581213818214313984, \"username\": \"pavinjs\", \"date\": \"2022-10-15 09:22:06+00:00\", \"text\": \"@mojokdotco Punya duit ngga itu yg mau jadi ketum?\\nJadi ketum pssi itu bakar duit, yg gaji sty aja pke duitnya ibul. Hahaha\", \"url\": \"https://twitter.com/pavinjs/status/1581213818214313984\"}\n",
      "{\"id\": 1581213784764731395, \"username\": \"hendrawk\", \"date\": \"2022-10-15 09:21:58+00:00\", \"text\": \"udah usir aja. paling dibanned fifa, bikin baru nanti namanya bukan pssi https://t.co/od261n7shS\", \"url\": \"https://twitter.com/hendrawk/status/1581213784764731395\"}\n",
      "{\"id\": 1581213669253582848, \"username\": \"GeenGeluk\", \"date\": \"2022-10-15 09:21:30+00:00\", \"text\": \"@SiaranBolaLive Menpora bagian dr PSSI atau Pemerintah? \\nSdgkan Pemerintah pada saat ini sejalan dg keinginan insan sepak bola Indonesia. \\nApa perlu Menporanya sekalian disuruh mundur aja?\", \"url\": \"https://twitter.com/GeenGeluk/status/1581213669253582848\"}\n",
      "{\"id\": 1581213528131633152, \"username\": \"noahmrs30\", \"date\": \"2022-10-15 09:20:57+00:00\", \"text\": \"@PorosHalangID Bersih-bersih PSSI Fifa take over sepak bola sehat\", \"url\": \"https://twitter.com/noahmrs30/status/1581213528131633152\"}\n",
      "{\"id\": 1581213493696790528, \"username\": \"MochYus71676673\", \"date\": \"2022-10-15 09:20:49+00:00\", \"text\": \"Save STY\\nGanti pengurus PSSI\", \"url\": \"https://twitter.com/MochYus71676673/status/1581213493696790528\"}\n",
      "{\"id\": 1581213479369068544, \"username\": \"cnbcindonesia\", \"date\": \"2022-10-15 09:20:45+00:00\", \"text\": \"RI Hilang dari Bursa Tuan Rumah Piala Asia, Ada Apa PSSI? https://t.co/yhZmcf3PCN\", \"url\": \"https://twitter.com/cnbcindonesia/status/1581213479369068544\"}\n",
      "{\"id\": 1581213362977148928, \"username\": \"PepepPermana\", \"date\": \"2022-10-15 09:20:17+00:00\", \"text\": \"@tvOneNews Menteri apaan itu ngoceh unfaedah, mmngnya pssi ketum dan pengurus nya itu sebangsa manusia dari negara ilegal, rusak sudah rezim kardus\", \"url\": \"https://twitter.com/PepepPermana/status/1581213362977148928\"}\n",
      "{\"id\": 1581213168784719873, \"username\": \"bolacomID\", \"date\": \"2022-10-15 09:19:31+00:00\", \"text\": \"TGIPF tidak bisa paksa Iwan Bule dan jajaran Exco PSSI keluar dari PSSI secara hukum. Kenapa?\\n\\nhttps://t.co/QYSdCq8Sjl\", \"url\": \"https://twitter.com/bolacomID/status/1581213168784719873\"}\n",
      "{\"id\": 1581213118604070912, \"username\": \"JokowiBekerja_\", \"date\": \"2022-10-15 09:19:19+00:00\", \"text\": \"Dalam salah satu rekomendasinya, Ketum PSSI Mochamad Iriawan dan jajaran Exco PSSI harus mundur.\\n\\n#BORNPINKinSeoul_DDAY \\n#LISA \\nD'Masiv \\nBORN PINK WORLD TOUR \\nBunda Corla \\nRest in Love https://t.co/0o5bEXAbbX\", \"url\": \"https://twitter.com/JokowiBekerja_/status/1581213118604070912\"}\n",
      "{\"id\": 1581213080868253696, \"username\": \"Shandy_P18\", \"date\": \"2022-10-15 09:19:10+00:00\", \"text\": \"@mojokdotco Wacana ganti ketum hanya omong kosong, dari dulu hingga saat ini hal tsb bukanlah sebuah solusi. Ketum di PSSI kebanyakan hanya sbg batu loncatan/kendaraan untuk dia bisa sampai ke jabatan selanjutnya! Bubarkan federasi, lalu menata ulang dgn SDM yg mumpuni mgkn bisa jd solusi.\", \"url\": \"https://twitter.com/Shandy_P18/status/1581213080868253696\"}\n"
     ]
    }
   ],
   "source": [
    "documents_twitter = []\n",
    "\n",
    "for keyword in keywords:\n",
    "   \n",
    "    for i, tweet in enumerate (sntwitter.TwitterSearchScraper(f'{keyword} ').get_items()):\n",
    "        \n",
    "        try:\n",
    "            lan=detect(tweet.content)\n",
    "        except:\n",
    "            lan='error'\n",
    "        if i == max_num:\n",
    "            break\n",
    "        if lan in languages:\n",
    "            data = {'id': tweet.id, 'username':tweet.username, 'date': tweet.date, 'text': tweet.content,'url':tweet.url}\n",
    "            \n",
    "            documents_twitter.append(data['text'])\n",
    "            \n",
    "            with open(fname, 'a+', encoding='utf-8') as f:\n",
    "                line = json.dumps(data, ensure_ascii=False,default=str)\n",
    "                print(line)\n",
    "                f.write(line)\n",
    "                f.write('\\n')"
   ]
  },
  {
   "cell_type": "markdown",
   "id": "b02f5643-6be6-4ad5-858e-6b3db3131427",
   "metadata": {},
   "source": [
    "<br><br>\n",
    "<h1><b>2. Preprocessing</b></h1>\n",
    "<ul>\n",
    "    <li>Case Folding</li>\n",
    "    <li>Stemming</li>\n",
    "    <li>Filtering (Stopword Remover)</li>\n",
    "</ul>\n",
    "<hr>"
   ]
  },
  {
   "cell_type": "markdown",
   "id": "70ccbf7c-4209-430d-a28c-79c0d9277f7a",
   "metadata": {},
   "source": [
    "<h4><b>2.1. Import Library</b></h4>"
   ]
  },
  {
   "cell_type": "code",
   "execution_count": 4,
   "id": "e40d1d2c-f15b-448a-a1e0-782ba4156478",
   "metadata": {},
   "outputs": [],
   "source": [
    "import re\n",
    "import string"
   ]
  },
  {
   "cell_type": "markdown",
   "id": "43b09a12-1744-4b9c-beaf-3fc4cbba782d",
   "metadata": {},
   "source": [
    "<br>\n",
    "<h4><b>2.2. Listing Utama</b></h4>"
   ]
  },
  {
   "cell_type": "code",
   "execution_count": 5,
   "id": "d009e5e1-1533-420f-a829-f4a73c3db868",
   "metadata": {},
   "outputs": [],
   "source": [
    "# Buat StemmerFactory\n",
    "from Sastrawi.Stemmer.StemmerFactory import StemmerFactory\n",
    "factory = StemmerFactory()\n",
    "stemmer = factory.create_stemmer()"
   ]
  },
  {
   "cell_type": "code",
   "execution_count": 6,
   "id": "d1ee1954-f727-429d-87a3-c5107e6d1725",
   "metadata": {},
   "outputs": [],
   "source": [
    "# Buat StopWordRemover\n",
    "from Sastrawi.StopWordRemover.StopWordRemoverFactory import StopWordRemoverFactory\n",
    "factory = StopWordRemoverFactory()\n",
    "stopword = factory.create_stop_word_remover()"
   ]
  },
  {
   "cell_type": "code",
   "execution_count": 7,
   "id": "9950dbfe-1c73-463f-a125-ed473f370c50",
   "metadata": {},
   "outputs": [],
   "source": [
    "documents_clean=[]\n",
    "\n",
    "for d in documents_twitter:\n",
    "  \n",
    "  # BEGIN: Case Folding\n",
    "\n",
    "  # Remove Unicode\n",
    "  document_test = re.sub(r'[^\\x00-\\x7F]+', ' ', d)\n",
    "  # Remove URL\n",
    "  document_test = re.sub(r'http\\S+', '', document_test)\n",
    "  # Remove Mentions\n",
    "  document_test = re.sub(r'@\\w+', '', document_test)\n",
    "  # Lowercase the document\n",
    "  document_test = document_test.lower()\n",
    "  # Remove punctuations\n",
    "  document_test = re.sub(r'[%s]' % re.escape(string.punctuation), ' ', document_test)\n",
    "  # Lowercase the numbers\n",
    "  document_test = re.sub(r'[0-9]', '', document_test)\n",
    "  # Remove the doubled space\n",
    "  outputcase = re.sub(r'\\s{2,}', ' ', document_test)\n",
    "    \n",
    "  # END: Case Folding\n",
    "    \n",
    "  # Proses Stemming\n",
    "  outputstem= stemmer.stem(outputcase)\n",
    "\n",
    "  # Proses Filtering (StopwordRemover)\n",
    "  outputstop= stopword.remove(outputstem)\n",
    "\n",
    "  documents_clean.append(outputstop)"
   ]
  },
  {
   "cell_type": "code",
   "execution_count": 8,
   "id": "14616dd4-97e9-444d-aa26-84c79abf0791",
   "metadata": {},
   "outputs": [
    {
     "data": {
      "text/plain": [
       "'bubar aja ganti liga kasti'"
      ]
     },
     "execution_count": 8,
     "metadata": {},
     "output_type": "execute_result"
    }
   ],
   "source": [
    "documents_clean[6]"
   ]
  },
  {
   "cell_type": "code",
   "execution_count": 9,
   "id": "e5b2da4c-a3ff-4d4a-be0a-3b39f64de089",
   "metadata": {},
   "outputs": [],
   "source": [
    "from sklearn.feature_extraction.text import TfidfVectorizer\n",
    "import pandas as pd\n",
    "tfidfvectorizer = TfidfVectorizer(analyzer='word')\n",
    "tfidf_wm = tfidfvectorizer.fit_transform(documents_clean)\n",
    "tfidf_tokens = tfidfvectorizer.get_feature_names_out()"
   ]
  },
  {
   "cell_type": "markdown",
   "id": "9673d1e4-5354-400d-a42f-a5bafface0d0",
   "metadata": {},
   "source": [
    "<br><br>\n",
    "<h1><b>3. Representasi Kata Sebagai Vektor </b></h1>\n",
    "Pilih salah satu metode.\n",
    "<hr>"
   ]
  },
  {
   "cell_type": "markdown",
   "id": "ceec0ab7-68d1-491c-b4c7-5eac02dafb55",
   "metadata": {},
   "source": [
    "<h4><b>3.1. Metode <i>TF-IDF Vectorizer</i></b></h4>"
   ]
  },
  {
   "cell_type": "code",
   "execution_count": 10,
   "id": "cad57a05-0126-41ae-9e77-1cfa5f289187",
   "metadata": {},
   "outputs": [],
   "source": [
    "import pandas as pd\n",
    "from sklearn.feature_extraction.text import TfidfVectorizer\n",
    "\n",
    "tfidfvectorizer = TfidfVectorizer(analyzer='word')\n",
    "tfidf_wm = tfidfvectorizer.fit_transform(documents_clean)\n",
    "tfidf_tokens = tfidfvectorizer.get_feature_names_out()\n",
    "\n",
    "tfidf_wm = tfidf_wm.T.toarray()\n",
    "frequency = pd.DataFrame(tfidf_wm, index=tfidf_tokens)"
   ]
  },
  {
   "cell_type": "markdown",
   "id": "fb354c47-85e7-4e0d-908b-570b91a0679e",
   "metadata": {},
   "source": [
    "<br>\n",
    "<h4><b>3.2. Metode <i>Count Vectorizer</i></b></h4>"
   ]
  },
  {
   "cell_type": "code",
   "execution_count": 11,
   "id": "62b97f24-ffbf-40ff-9b90-fe0ef26f3a5c",
   "metadata": {},
   "outputs": [],
   "source": [
    "import pandas as pd\n",
    "from sklearn.feature_extraction.text import CountVectorizer\n",
    "import matplotlib.pyplot as plt\n",
    "import numpy as np # linear algebra"
   ]
  },
  {
   "cell_type": "code",
   "execution_count": 12,
   "id": "0ec74ba7-129f-4a4d-89c0-1948a7bb8bf4",
   "metadata": {},
   "outputs": [],
   "source": [
    "cv = CountVectorizer()\n",
    "words = cv.fit_transform(documents_clean)\n",
    "sum_words = words.sum(axis=0)\n",
    "\n",
    "words_freq = [(word, sum_words[0, idx]) for word, idx in cv.vocabulary_.items()]\n",
    "words_freq = sorted(words_freq, key = lambda x: x[1], reverse = True)\n",
    "frequency = pd.DataFrame(words_freq, columns=['word', 'freq'])"
   ]
  },
  {
   "cell_type": "code",
   "execution_count": 13,
   "id": "2937c9cd-b0dd-42fe-a623-935a6302a29a",
   "metadata": {},
   "outputs": [
    {
     "data": {
      "text/plain": [
       "Text(0.5, 1.0, 'Most Frequently Occuring Words - Top 20')"
      ]
     },
     "execution_count": 13,
     "metadata": {},
     "output_type": "execute_result"
    },
    {
     "data": {
      "image/png": "[encoded data removed]",
      "text/plain": [
       "<Figure size 1500x700 with 1 Axes>"
      ]
     },
     "metadata": {},
     "output_type": "display_data"
    }
   ],
   "source": [
    "color = plt.cm.twilight(np.linspace(0, 1, 20))\n",
    "frequency.head(20).plot(x='word', y='freq', kind='bar', figsize=(15, 7), color = color)\n",
    "plt.title(\"Most Frequently Occuring Words - Top 20\")"
   ]
  }
 ],
 "metadata": {
  "kernelspec": {
   "display_name": "Python 3 (ipykernel)",
   "language": "python",
   "name": "python3"
  },
  "language_info": {
   "codemirror_mode": {
    "name": "ipython",
    "version": 3
   },
   "file_extension": ".py",
   "mimetype": "text/x-python",
   "name": "python",
   "nbconvert_exporter": "python",
   "pygments_lexer": "ipython3",
   "version": "3.10.6"
  }
 },
 "nbformat": 4,
 "nbformat_minor": 5
}
