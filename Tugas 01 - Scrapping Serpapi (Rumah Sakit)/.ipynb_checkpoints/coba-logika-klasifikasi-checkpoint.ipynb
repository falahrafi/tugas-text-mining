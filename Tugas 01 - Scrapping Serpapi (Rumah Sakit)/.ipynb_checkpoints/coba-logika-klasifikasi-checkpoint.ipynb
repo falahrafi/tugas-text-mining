{
 "cells": [
  {
   "cell_type": "code",
   "execution_count": 22,
   "id": "f1782384-3bc7-47c3-906e-7f60dfe6320d",
   "metadata": {},
   "outputs": [
    {
     "data": {
      "text/plain": [
       "1.0"
      ]
     },
     "execution_count": 22,
     "metadata": {},
     "output_type": "execute_result"
    }
   ],
   "source": [
    "from sklearn.feature_extraction.text import CountVectorizer\n",
    "cv = CountVectorizer()\n",
    "X_cv = cv.fit_transform(['layanan mahal buruk',\n",
    "                         'bagus enak murah',\n",
    "                         'lambat buruk sebal',\n",
    "                         'baik ramah bagus',\n",
    "                         'mahal jelek kecewa',\n",
    "                         'bantu menarik baik'])# 1: positif, 0: negatif\n",
    "y_cv = [0,\n",
    "        1,\n",
    "        0,\n",
    "        1,\n",
    "        0,\n",
    "        1]\n",
    "\n",
    "# Membagi data training dan data testing\n",
    "from sklearn.model_selection import train_test_split\n",
    "X_train_cv, X_test_cv, y_train_cv, y_test_cv = train_test_split(X_cv, y_cv, test_size=0.3, random_state=42)\n",
    "\n",
    "# Klasifikasi\n",
    "from sklearn.naive_bayes import MultinomialNB\n",
    "clf = MultinomialNB() #NAIVE BAYES\n",
    "clf.fit(X_train_cv, y_train_cv)\n",
    "clf.score(X_test_cv, y_test_cv)"
   ]
  },
  {
   "cell_type": "code",
   "execution_count": 23,
   "id": "090aebec-c377-48a5-b32a-47274418feed",
   "metadata": {},
   "outputs": [
    {
     "name": "stdout",
     "output_type": "stream",
     "text": [
      "[0 1 0]\n"
     ]
    }
   ],
   "source": [
    "# Prediksi\n",
    "data = [\"buruk sekali pelayanannya\", \"produk bagus\", \"harganya sangat mahal\"]\n",
    "vect = cv.transform(data).toarray()\n",
    "\n",
    "my_prediction = clf.predict(vect)\n",
    "print(my_prediction)"
   ]
  },
  {
   "cell_type": "code",
   "execution_count": null,
   "id": "2d0eae45-65a7-4752-bea2-1aae42093f0c",
   "metadata": {},
   "outputs": [],
   "source": []
  }
 ],
 "metadata": {
  "kernelspec": {
   "display_name": "Python 3 (ipykernel)",
   "language": "python",
   "name": "python3"
  },
  "language_info": {
   "codemirror_mode": {
    "name": "ipython",
    "version": 3
   },
   "file_extension": ".py",
   "mimetype": "text/x-python",
   "name": "python",
   "nbconvert_exporter": "python",
   "pygments_lexer": "ipython3",
   "version": "3.9.12"
  }
 },
 "nbformat": 4,
 "nbformat_minor": 5
}
