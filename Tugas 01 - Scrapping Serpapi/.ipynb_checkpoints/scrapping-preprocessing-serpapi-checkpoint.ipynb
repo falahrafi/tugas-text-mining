{
 "cells": [
  {
   "cell_type": "markdown",
   "id": "1c7e3363-1214-47ef-b8fc-149cde65840c",
   "metadata": {},
   "source": [
    "<h1 style=\"text-align:center\"><b>Tugas Scrapping SerpApi (+ Preprocessing)</b></h1>"
   ]
  },
  {
   "cell_type": "markdown",
   "id": "de5c8002-dbf6-4318-82ec-47b47e198581",
   "metadata": {},
   "source": [
    "<hr>\n",
    "<table>\n",
    "    <tr>\n",
    "        <td><b>NIM</b></td>\n",
    "        <td>:</td>\n",
    "        <td>20.01.53.0033</td>\n",
    "    </tr>\n",
    "    <tr>\n",
    "        <td><b>Nama</b></td>\n",
    "        <td>:</td>\n",
    "        <td>MUHAMMAD FALAH ABDURRAFI</td>\n",
    "    </tr>\n",
    "    <tr>\n",
    "        <td><b>Progdi</b></td>\n",
    "        <td>:</td>\n",
    "        <td>Teknik Informatika - S1</td>\n",
    "    </tr>\n",
    "    <tr>\n",
    "        <td><b>Mata Kuliah</b></td>\n",
    "        <td>:</td>\n",
    "        <td>Text Mining</td>\n",
    "    </tr>\n",
    "    <tr>\n",
    "        <td><b>Kelas</b></td>\n",
    "        <td>:</td>\n",
    "        <td>A1</td>\n",
    "    </tr>\n",
    "    <tr>\n",
    "        <td><b>Dosen Pengampu</b></td>\n",
    "        <td>:</td>\n",
    "        <td>Dr. Drs. ERI ZULIARSO, M.Kom.</td>\n",
    "    </tr>\n",
    "</table>\n",
    "<hr>"
   ]
  },
  {
   "cell_type": "markdown",
   "id": "79b4ee35-b291-45df-aa72-d65bc0c13d51",
   "metadata": {},
   "source": [
    "<br><br>\n",
    "<h1><b>1. Scrapping Awal</b></h1>\n",
    "<hr>"
   ]
  },
  {
   "cell_type": "markdown",
   "id": "dbe297c3-b6e8-4ad8-9279-dae58d85e658",
   "metadata": {},
   "source": [
    "<h4><b>1.1. Import Library</b></h4>"
   ]
  },
  {
   "cell_type": "code",
   "execution_count": 1,
   "id": "e5b5db5e-0cfb-4cbc-9757-f9bbd639e55b",
   "metadata": {},
   "outputs": [],
   "source": [
    "from serpapi import GoogleSearch\n",
    "from urllib.parse import *"
   ]
  },
  {
   "cell_type": "markdown",
   "id": "360a4fe4-421a-42fe-a8b7-177e3f24ca99",
   "metadata": {},
   "source": [
    "<h4><b>1.2. Scrapping <i>Local Results</i></b></h4>"
   ]
  },
  {
   "cell_type": "code",
   "execution_count": 31,
   "id": "ece2e43f-a7be-4744-9432-9b128eefe524",
   "metadata": {},
   "outputs": [
    {
     "name": "stdout",
     "output_type": "stream",
     "text": [
      "https://serpapi.com/search\n"
     ]
    }
   ],
   "source": [
    "params = {\n",
    "  \"engine\": \"google_maps\",\n",
    "  \"q\": \"hotel\",\n",
    "  \"ll\": \"@-6.9646169,109.0019955,8z\",\n",
    "  \"type\": \"search\",\n",
    "  \"api_key\": \"1b2f589fe640a6a5a848c706dfe5b764d5c1050b2c5f9c55516e9201bffaa575\"\n",
    "}\n",
    "\n",
    "search = GoogleSearch(params)\n",
    "\n",
    "mPosition = 0 # Angka indeks dari data\n",
    "mNums = 5 # Batas jumlah data yang ditampilkan\n",
    "local_results = []\n",
    "\n",
    "while mPosition <= mNums:\n",
    "  results = search.get_dict()\n",
    "\n",
    "  for result in results[\"local_results\"]:\n",
    "    mPosition += 1\n",
    "    \n",
    "    if mPosition <= mNums:\n",
    "      \n",
    "      # Jika jumlah review kurang dari 100, maka jangan masukkan datanya\n",
    "      if result[\"reviews\"] < 100:\n",
    "        mNums += 1\n",
    "        continue\n",
    "        \n",
    "      # Append data sesuai dengan batas jumlah yang sudah ditentukan\n",
    "      local_results.append({'title': result[\"title\"],\n",
    "                           'data_id': result[\"data_id\"],\n",
    "                           'reviews_total': result[\"reviews\"]});\n",
    "\n",
    "  if \"next\" in results.get(\"serpapi_pagination\", {}):\n",
    "    # Akan mengubah parameter dari 'GoogleSearch()' dengan isi parameter dari halaman selanjutnya\n",
    "    search.params_dict.update(dict(parse_qsl(urlsplit(results.get(\"serpapi_pagination\").get(\"next\")).query)))\n",
    "\n",
    "  else:\n",
    "    break"
   ]
  },
  {
   "cell_type": "code",
   "execution_count": 32,
   "id": "61b9c26a-5bac-42d7-882a-60395b8fe33a",
   "metadata": {},
   "outputs": [
    {
     "name": "stdout",
     "output_type": "stream",
     "text": [
      "{'title': 'PO HOtel Semarang', 'data_id': '0x2e708b52677c1227:0x6f87324171d2ec67', 'reviews_total': 5834}\n",
      "{'title': 'Grand Dian Hotel Brebes', 'data_id': '0x2e6fba805bd3d275:0x7e41f7168049fe7b', 'reviews_total': 1683}\n",
      "{'title': 'The Winner Hotel Pemalang', 'data_id': '0x2e6fdad5f0b5612f:0x2f3659d6e76d2bcb', 'reviews_total': 2124}\n",
      "{'title': 'Premiere Hotel Tegal', 'data_id': '0x2e6fb79d0c8f1d77:0xf1c0c6bba01325d9', 'reviews_total': 1803}\n",
      "{'title': 'Anggraeni Hotel Ketanggungan', 'data_id': '0x2e6fba7f0f79c461:0x232d9ab9b830393b', 'reviews_total': 818}\n"
     ]
    }
   ],
   "source": [
    "for lr in local_results:\n",
    "  print(lr)\n"
   ]
  },
  {
   "cell_type": "markdown",
   "id": "42ab14f7-bfe5-4c84-8f88-2a9e599ad4f8",
   "metadata": {},
   "source": [
    "<h4><b>1.3. Scrapping <i>Reviews</i></b></h4>"
   ]
  },
  {
   "cell_type": "code",
   "execution_count": 33,
   "id": "fc553256-f93f-4613-afdf-1ff14538ac06",
   "metadata": {},
   "outputs": [
    {
     "name": "stdout",
     "output_type": "stream",
     "text": [
      "https://serpapi.com/search\n",
      "https://serpapi.com/search\n",
      "https://serpapi.com/search\n",
      "https://serpapi.com/search\n",
      "https://serpapi.com/search\n",
      "https://serpapi.com/search\n",
      "https://serpapi.com/search\n",
      "https://serpapi.com/search\n",
      "https://serpapi.com/search\n",
      "https://serpapi.com/search\n",
      "https://serpapi.com/search\n",
      "https://serpapi.com/search\n",
      "https://serpapi.com/search\n",
      "https://serpapi.com/search\n",
      "https://serpapi.com/search\n",
      "https://serpapi.com/search\n",
      "https://serpapi.com/search\n",
      "https://serpapi.com/search\n",
      "https://serpapi.com/search\n",
      "https://serpapi.com/search\n",
      "https://serpapi.com/search\n",
      "https://serpapi.com/search\n",
      "https://serpapi.com/search\n",
      "https://serpapi.com/search\n",
      "https://serpapi.com/search\n",
      "https://serpapi.com/search\n",
      "https://serpapi.com/search\n",
      "https://serpapi.com/search\n",
      "https://serpapi.com/search\n",
      "https://serpapi.com/search\n",
      "https://serpapi.com/search\n",
      "https://serpapi.com/search\n",
      "https://serpapi.com/search\n",
      "https://serpapi.com/search\n",
      "https://serpapi.com/search\n",
      "https://serpapi.com/search\n",
      "https://serpapi.com/search\n",
      "https://serpapi.com/search\n",
      "https://serpapi.com/search\n",
      "https://serpapi.com/search\n",
      "https://serpapi.com/search\n",
      "https://serpapi.com/search\n",
      "https://serpapi.com/search\n",
      "https://serpapi.com/search\n",
      "https://serpapi.com/search\n",
      "https://serpapi.com/search\n",
      "https://serpapi.com/search\n",
      "https://serpapi.com/search\n",
      "https://serpapi.com/search\n",
      "https://serpapi.com/search\n",
      "https://serpapi.com/search\n",
      "https://serpapi.com/search\n",
      "https://serpapi.com/search\n",
      "https://serpapi.com/search\n",
      "https://serpapi.com/search\n"
     ]
    }
   ],
   "source": [
    "data = {'hotel_name':[],\n",
    "        'name':[],\n",
    "        'rating':[],\n",
    "        'review':[]}\n",
    "\n",
    "for lr in local_results:\n",
    "  \n",
    "  params = {\n",
    "    \"engine\": \"google_maps_reviews\",\n",
    "    \"data_id\": \"\",\n",
    "    \"api_key\": \"1b2f589fe640a6a5a848c706dfe5b764d5c1050b2c5f9c55516e9201bffaa575\"\n",
    "  }\n",
    "  \n",
    "  params[\"data_id\"] = lr['data_id']\n",
    "\n",
    "  search = GoogleSearch(params)\n",
    "\n",
    "  mPosition = 0 # Angka indeks dari data\n",
    "  mNums = 100 # Batas jumlah data yang ditampilkan\n",
    "\n",
    "  while mPosition <= mNums:\n",
    "    results = search.get_dict()\n",
    "\n",
    "    for result in results[\"reviews\"]:\n",
    "      mPosition += 1\n",
    "\n",
    "      if mPosition <= mNums:\n",
    "        # Append data sesuai dengan batas jumlah yang sudah ditentukan\n",
    "        data['hotel_name'].append(lr['title']);\n",
    "        data['name'].append(result[\"user\"][\"name\"]);\n",
    "        data['rating'].append(result[\"rating\"]);\n",
    "        data['review'].append(result[\"snippet\"]);\n",
    "\n",
    "    if \"next\" in results.get(\"serpapi_pagination\", {}):\n",
    "      # Akan mengubah parameter dari 'GoogleSearch()' dengan isi parameter dari halaman selanjutnya\n",
    "      search.params_dict.update(dict(parse_qsl(urlsplit(results.get(\"serpapi_pagination\").get(\"next\")).query)))\n",
    "\n",
    "    else:\n",
    "      break\n",
    "    \n",
    "review_original = data['review']"
   ]
  },
  {
   "cell_type": "code",
   "execution_count": 36,
   "id": "7df62d11-8674-46e0-9c44-22ceae5c5ec9",
   "metadata": {},
   "outputs": [],
   "source": [
    "import pandas as pd\n",
    "df_original = pd.DataFrame(data)\n",
    "df_original.to_csv('CSV/review_tanpa_preprocessing.csv', index=False)"
   ]
  },
  {
   "cell_type": "markdown",
   "id": "ea0b499d-4aae-4cf3-a396-46646011bf6f",
   "metadata": {},
   "source": [
    "<br><br>\n",
    "<h1><b>2. Case Folding</b></h1>\n",
    "<hr>"
   ]
  },
  {
   "cell_type": "markdown",
   "id": "2c36550e-19ae-49e8-9f94-d26349e6ecd4",
   "metadata": {},
   "source": [
    "<h4><b>2.1. Import Library</b></h4>"
   ]
  },
  {
   "cell_type": "code",
   "execution_count": 37,
   "id": "d1a260c7-427a-4ede-a09e-4516c6300bde",
   "metadata": {},
   "outputs": [],
   "source": [
    "import re\n",
    "import string"
   ]
  },
  {
   "cell_type": "markdown",
   "id": "4b0e64ef-0124-4d50-afe8-f143adbf7849",
   "metadata": {},
   "source": [
    "<h4><b>2.2. Listing Utama</b></h4>"
   ]
  },
  {
   "cell_type": "code",
   "execution_count": 38,
   "id": "653092c9-bb5b-41d1-91d5-5e7df20d99b1",
   "metadata": {},
   "outputs": [],
   "source": [
    "review_clean = []\n",
    "\n",
    "for review in review_original:\n",
    "    # Remove Unicode\n",
    "    review_test = re.sub(r'[^\\x00-\\x7F]+', ' ', review)\n",
    "    # Remove Mentions\n",
    "    review_test = re.sub(r'@\\w+', '', review_test)\n",
    "    # Lowercase the document\n",
    "    review_test = review_test.lower()\n",
    "    # Remove punctuations\n",
    "    review_test = re.sub(r'[%s]' % re.escape(string.punctuation), ' ', review_test)\n",
    "    # Remove the numbers\n",
    "    review_test = re.sub(r'[0-9]', '', review_test)\n",
    "    # Remove the doubled space\n",
    "    review_test = re.sub(r'\\s{2,}', ' ', review_test)\n",
    "    \n",
    "    review_clean.append(review_test)"
   ]
  },
  {
   "cell_type": "markdown",
   "id": "0853c3c0-71ce-4e82-a233-a03174c0fb30",
   "metadata": {},
   "source": [
    "<br><br>\n",
    "<h1><b>3. Tokenizing</b></h1>\n",
    "<hr>"
   ]
  },
  {
   "cell_type": "markdown",
   "id": "57bbb265-f36f-4648-ad5d-b480e8ff373f",
   "metadata": {},
   "source": [
    "<h4><b>3.1. Import Library</b></h4>"
   ]
  },
  {
   "cell_type": "code",
   "execution_count": 131,
   "id": "d79ae692-f7f9-4d3f-9572-24322193d54a",
   "metadata": {},
   "outputs": [],
   "source": [
    "# pip install nltk"
   ]
  },
  {
   "cell_type": "code",
   "execution_count": 39,
   "id": "ab2da0de-97a6-4283-a167-ac39b65dac42",
   "metadata": {},
   "outputs": [],
   "source": [
    "import nltk\n",
    "# nltk.download('punkt')\n",
    "from nltk.tokenize import sent_tokenize, word_tokenize "
   ]
  },
  {
   "cell_type": "markdown",
   "id": "2a1f92d9-d7f8-49de-8443-d6df19d4ffb0",
   "metadata": {},
   "source": [
    "<h4><b>3.2. Listing Utama</b></h4>"
   ]
  },
  {
   "cell_type": "code",
   "execution_count": 40,
   "id": "56755a7b-f42d-4383-9783-21500eb90dd7",
   "metadata": {},
   "outputs": [],
   "source": [
    "review_tokenized = []\n",
    "\n",
    "for review in review_clean:\n",
    "  review_tokenized.append(word_tokenize(review))"
   ]
  },
  {
   "cell_type": "markdown",
   "id": "d180d905-1bf8-4cb5-9073-e7d9c77e9688",
   "metadata": {},
   "source": [
    "<br><br>\n",
    "<h1><b>4. Filtering (Stopword Removal)</b></h1>\n",
    "<hr>"
   ]
  },
  {
   "cell_type": "markdown",
   "id": "e651fd41-613c-4a74-a7a2-22673ca1722c",
   "metadata": {},
   "source": [
    "<h4><b>4.1. Import Library</b></h4>"
   ]
  },
  {
   "cell_type": "code",
   "execution_count": 41,
   "id": "f62d308f-1abb-4a21-9933-af5160ed425f",
   "metadata": {},
   "outputs": [],
   "source": [
    "from nltk.corpus import stopwords\n",
    "# nltk.download('stopwords')"
   ]
  },
  {
   "cell_type": "markdown",
   "id": "86b1dbce-3633-49f8-b028-707ce5d45308",
   "metadata": {},
   "source": [
    "<h4><b>4.2. Listing Utama</b></h4>"
   ]
  },
  {
   "cell_type": "code",
   "execution_count": 42,
   "id": "6bda775a-1b9d-4c6b-a22f-99c7522872d9",
   "metadata": {},
   "outputs": [],
   "source": [
    "review_filtered = []\n",
    "listStopword =  set(stopwords.words('english'))\n",
    "\n",
    "for review in review_tokenized:\n",
    "  \n",
    "  review_each_filtered = []\n",
    "  \n",
    "  for r in review:\n",
    "    if r not in listStopword:\n",
    "        review_each_filtered.append(r)\n",
    "        \n",
    "  review_filtered.append(review_each_filtered)"
   ]
  },
  {
   "cell_type": "markdown",
   "id": "a534abe3-a5de-4c41-92db-c070aa109a1b",
   "metadata": {},
   "source": [
    "<br><br>\n",
    "<h1><b>5. Stemming</b></h1>"
   ]
  },
  {
   "cell_type": "markdown",
   "id": "6018e4d5-4ae9-40ce-b47c-9f7f010029db",
   "metadata": {},
   "source": [
    "<p>Pilih salah satu <b>algoritma stemming</b> dibawah:</p>\n",
    "<hr>"
   ]
  },
  {
   "cell_type": "markdown",
   "id": "3cf6204d-1217-4650-8cfa-9eefb4bcb714",
   "metadata": {},
   "source": [
    "<h4><b>5.1. Algoritma <i>\"PorterStemmer\"</i></b></h4>"
   ]
  },
  {
   "cell_type": "code",
   "execution_count": 43,
   "id": "702cfa67-466b-4d3a-bdcb-9cfa09192851",
   "metadata": {},
   "outputs": [],
   "source": [
    "from nltk.stem import PorterStemmer\n",
    "stemmer = PorterStemmer() \n",
    "\n",
    "review_stemmed = []\n",
    "    \n",
    "for review in review_filtered:\n",
    "  \n",
    "  review_each_stemmed = []\n",
    "  \n",
    "  for r in review:\n",
    "    review_each_stemmed.append(stemmer.stem(r))\n",
    "        \n",
    "  review_stemmed.append(review_each_stemmed)"
   ]
  },
  {
   "cell_type": "markdown",
   "id": "f4c89df9-6930-4a77-ab6e-f4b4e505675a",
   "metadata": {},
   "source": [
    "<hr>\n",
    "<h4><b>5.2. Algoritma <i>\"LancasterStemmer\"</i></b></h4>"
   ]
  },
  {
   "cell_type": "code",
   "execution_count": 117,
   "id": "61672805-cf5d-44fa-9ec3-aadfe61d0f3b",
   "metadata": {},
   "outputs": [],
   "source": [
    "from nltk.stem import LancasterStemmer\n",
    "stemmer = LancasterStemmer() \n",
    "\n",
    "review_stemmed = []\n",
    "    \n",
    "for review in review_filtered:\n",
    "  \n",
    "  review_each_stemmed = []\n",
    "  \n",
    "  for r in review:\n",
    "    review_each_stemmed.append(stemmer.stem(r))\n",
    "        \n",
    "  review_stemmed.append(review_each_stemmed)"
   ]
  },
  {
   "cell_type": "markdown",
   "id": "2f126eec-8586-49b5-b93a-565a42639fc3",
   "metadata": {},
   "source": [
    "<hr>\n",
    "<h4><b>5.3. Algoritma <i>\"WordNetLemmatizer\"</i></b></h4>"
   ]
  },
  {
   "cell_type": "code",
   "execution_count": 101,
   "id": "80beeae8-8c66-4911-9974-9fc8cfb7013a",
   "metadata": {},
   "outputs": [],
   "source": [
    "from nltk.stem import WordNetLemmatizer\n",
    "# nltk.download('wordnet')\n",
    "# nltk.download('omw-1.4')\n",
    "stemmer = WordNetLemmatizer() \n",
    "\n",
    "review_stemmed = []\n",
    "    \n",
    "for review in review_filtered:\n",
    "  \n",
    "  review_each_stemmed = []\n",
    "  \n",
    "  for r in review:\n",
    "    review_each_stemmed.append(stemmer.lemmatize(r))\n",
    "        \n",
    "  review_stemmed.append(review_each_stemmed)"
   ]
  },
  {
   "cell_type": "markdown",
   "id": "7930e1aa-52e3-4893-b59e-4c0ab787a8da",
   "metadata": {},
   "source": [
    "<hr>\n",
    "<h4><b>5.4. Algoritma <i>\"SnowballStemmer\"</i></b></h4>"
   ]
  },
  {
   "cell_type": "code",
   "execution_count": 111,
   "id": "72124f4a-cd61-4ab9-82f6-6246c8fe5644",
   "metadata": {},
   "outputs": [],
   "source": [
    "from nltk.stem import SnowballStemmer\n",
    "stemmer = SnowballStemmer(\"german\")\n",
    "\n",
    "review_stemmed = []\n",
    "    \n",
    "for review in review_filtered:\n",
    "  \n",
    "  review_each_stemmed = []\n",
    "  \n",
    "  for r in review:\n",
    "    review_each_stemmed.append(stemmer.stem(r))\n",
    "        \n",
    "  review_stemmed.append(review_each_stemmed)"
   ]
  },
  {
   "cell_type": "markdown",
   "id": "9942ff4d-5f6b-4cc6-b58a-c394c3330efe",
   "metadata": {},
   "source": [
    "<br><br>\n",
    "<h1><b>6. Export CSV (Hasil Pre-processing)</b></h1>\n",
    "<hr>"
   ]
  },
  {
   "cell_type": "markdown",
   "id": "67cf8166-0275-4f6f-8a04-798d61b0c333",
   "metadata": {},
   "source": [
    "<h4><b>6.1. Import Library</b></h4>"
   ]
  },
  {
   "cell_type": "code",
   "execution_count": 44,
   "id": "c0c9281e-4d7f-4bd5-93e0-e15750062a1e",
   "metadata": {},
   "outputs": [],
   "source": [
    "import pandas as pd"
   ]
  },
  {
   "cell_type": "markdown",
   "id": "c6c4cb9d-0f7f-4b59-9a04-2aaf55a46671",
   "metadata": {},
   "source": [
    "<h4><b>6.2. Listing Utama</b></h4>"
   ]
  },
  {
   "cell_type": "code",
   "execution_count": 45,
   "id": "1b1ad87a-81cc-4fc1-9683-fe28c9e43fab",
   "metadata": {},
   "outputs": [],
   "source": [
    "data_preprocessed = data\n",
    "data_preprocessed['review'] = review_stemmed\n",
    "# data_preprocessed['review'] = review_original"
   ]
  },
  {
   "cell_type": "code",
   "execution_count": 46,
   "id": "6ee536b4-9513-4ad9-98c6-b006c3e22907",
   "metadata": {},
   "outputs": [
    {
     "data": {
      "text/html": [
       "<div>\n",
       "<style scoped>\n",
       "    .dataframe tbody tr th:only-of-type {\n",
       "        vertical-align: middle;\n",
       "    }\n",
       "\n",
       "    .dataframe tbody tr th {\n",
       "        vertical-align: top;\n",
       "    }\n",
       "\n",
       "    .dataframe thead th {\n",
       "        text-align: right;\n",
       "    }\n",
       "</style>\n",
       "<table border=\"1\" class=\"dataframe\">\n",
       "  <thead>\n",
       "    <tr style=\"text-align: right;\">\n",
       "      <th></th>\n",
       "      <th>hotel_name</th>\n",
       "      <th>name</th>\n",
       "      <th>rating</th>\n",
       "      <th>review</th>\n",
       "    </tr>\n",
       "  </thead>\n",
       "  <tbody>\n",
       "    <tr>\n",
       "      <th>0</th>\n",
       "      <td>PO HOtel Semarang</td>\n",
       "      <td>Agus Rivai</td>\n",
       "      <td>4.0</td>\n",
       "      <td>[nice, hotel, strateg, locat, build, mall, nic...</td>\n",
       "    </tr>\n",
       "    <tr>\n",
       "      <th>1</th>\n",
       "      <td>PO HOtel Semarang</td>\n",
       "      <td>Cat tseng</td>\n",
       "      <td>3.0</td>\n",
       "      <td>[old, hotel, badli, maintain, pictur, web, ser...</td>\n",
       "    </tr>\n",
       "    <tr>\n",
       "      <th>2</th>\n",
       "      <td>PO HOtel Semarang</td>\n",
       "      <td>Raymond Tandika</td>\n",
       "      <td>1.0</td>\n",
       "      <td>[air, condit, cold, liter, sweat, night, long,...</td>\n",
       "    </tr>\n",
       "    <tr>\n",
       "      <th>3</th>\n",
       "      <td>PO HOtel Semarang</td>\n",
       "      <td>A.M S</td>\n",
       "      <td>1.0</td>\n",
       "      <td>[first, last, stay, hotel, towel, bedsheet, fi...</td>\n",
       "    </tr>\n",
       "    <tr>\n",
       "      <th>4</th>\n",
       "      <td>PO HOtel Semarang</td>\n",
       "      <td>Rikza GameFreaks</td>\n",
       "      <td>3.0</td>\n",
       "      <td>[servic, great, food, okay, furnitur, facil, s...</td>\n",
       "    </tr>\n",
       "    <tr>\n",
       "      <th>...</th>\n",
       "      <td>...</td>\n",
       "      <td>...</td>\n",
       "      <td>...</td>\n",
       "      <td>...</td>\n",
       "    </tr>\n",
       "    <tr>\n",
       "      <th>495</th>\n",
       "      <td>Anggraeni Hotel Ketanggungan</td>\n",
       "      <td>Dito Satriyadi</td>\n",
       "      <td>5.0</td>\n",
       "      <td>[translat, googl, comfort, tran, monang, rent,...</td>\n",
       "    </tr>\n",
       "    <tr>\n",
       "      <th>496</th>\n",
       "      <td>Anggraeni Hotel Ketanggungan</td>\n",
       "      <td>khoirul anam</td>\n",
       "      <td>4.0</td>\n",
       "      <td>[translat, googl, good, hotel, locat, far, cit...</td>\n",
       "    </tr>\n",
       "    <tr>\n",
       "      <th>497</th>\n",
       "      <td>Anggraeni Hotel Ketanggungan</td>\n",
       "      <td>robie hamisena</td>\n",
       "      <td>2.0</td>\n",
       "      <td>[translat, googl, price, match, cleanli, bathr...</td>\n",
       "    </tr>\n",
       "    <tr>\n",
       "      <th>498</th>\n",
       "      <td>Anggraeni Hotel Ketanggungan</td>\n",
       "      <td>Warsono Dwijo Sudiutomo</td>\n",
       "      <td>4.0</td>\n",
       "      <td>[translat, googl, strateg, place, near, mosqu,...</td>\n",
       "    </tr>\n",
       "    <tr>\n",
       "      <th>499</th>\n",
       "      <td>Anggraeni Hotel Ketanggungan</td>\n",
       "      <td>Ferry Ferdiansyah</td>\n",
       "      <td>2.0</td>\n",
       "      <td>[translat, googl, neat, room, hot, tub, hot, w...</td>\n",
       "    </tr>\n",
       "  </tbody>\n",
       "</table>\n",
       "<p>500 rows × 4 columns</p>\n",
       "</div>"
      ],
      "text/plain": [
       "                       hotel_name                     name  rating  \\\n",
       "0               PO HOtel Semarang               Agus Rivai     4.0   \n",
       "1               PO HOtel Semarang                Cat tseng     3.0   \n",
       "2               PO HOtel Semarang          Raymond Tandika     1.0   \n",
       "3               PO HOtel Semarang                    A.M S     1.0   \n",
       "4               PO HOtel Semarang         Rikza GameFreaks     3.0   \n",
       "..                            ...                      ...     ...   \n",
       "495  Anggraeni Hotel Ketanggungan           Dito Satriyadi     5.0   \n",
       "496  Anggraeni Hotel Ketanggungan             khoirul anam     4.0   \n",
       "497  Anggraeni Hotel Ketanggungan           robie hamisena     2.0   \n",
       "498  Anggraeni Hotel Ketanggungan  Warsono Dwijo Sudiutomo     4.0   \n",
       "499  Anggraeni Hotel Ketanggungan        Ferry Ferdiansyah     2.0   \n",
       "\n",
       "                                                review  \n",
       "0    [nice, hotel, strateg, locat, build, mall, nic...  \n",
       "1    [old, hotel, badli, maintain, pictur, web, ser...  \n",
       "2    [air, condit, cold, liter, sweat, night, long,...  \n",
       "3    [first, last, stay, hotel, towel, bedsheet, fi...  \n",
       "4    [servic, great, food, okay, furnitur, facil, s...  \n",
       "..                                                 ...  \n",
       "495  [translat, googl, comfort, tran, monang, rent,...  \n",
       "496  [translat, googl, good, hotel, locat, far, cit...  \n",
       "497  [translat, googl, price, match, cleanli, bathr...  \n",
       "498  [translat, googl, strateg, place, near, mosqu,...  \n",
       "499  [translat, googl, neat, room, hot, tub, hot, w...  \n",
       "\n",
       "[500 rows x 4 columns]"
      ]
     },
     "execution_count": 46,
     "metadata": {},
     "output_type": "execute_result"
    }
   ],
   "source": [
    "df = pd.DataFrame(data_preprocessed)\n",
    "df"
   ]
  },
  {
   "cell_type": "code",
   "execution_count": 47,
   "id": "6ef1cdd8-0e2d-4d02-a008-65314d5900eb",
   "metadata": {},
   "outputs": [],
   "source": [
    "df.to_csv('CSV/review_hasil_preprocessing.csv', index=False)"
   ]
  }
 ],
 "metadata": {
  "kernelspec": {
   "display_name": "Python 3 (ipykernel)",
   "language": "python",
   "name": "python3"
  },
  "language_info": {
   "codemirror_mode": {
    "name": "ipython",
    "version": 3
   },
   "file_extension": ".py",
   "mimetype": "text/x-python",
   "name": "python",
   "nbconvert_exporter": "python",
   "pygments_lexer": "ipython3",
   "version": "3.8.5"
  }
 },
 "nbformat": 4,
 "nbformat_minor": 5
}
