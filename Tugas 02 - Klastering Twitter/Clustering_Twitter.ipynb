{
 "cells": [
  {
   "cell_type": "markdown",
   "id": "59d44dd2-1860-4f02-81fa-a085184432c4",
   "metadata": {},
   "source": [
    "<h1 style=\"text-align:center\"><b>Tugas Klastering Twitter</b></h1>"
   ]
  },
  {
   "cell_type": "markdown",
   "id": "9cdc57c4-aed2-4c75-bf5f-f1b397ccc400",
   "metadata": {},
   "source": [
    "<hr>\n",
    "<table>\n",
    "    <tr>\n",
    "        <td><b>NIM</b></td>\n",
    "        <td>:</td>\n",
    "        <td>20.01.53.0033</td>\n",
    "    </tr>\n",
    "    <tr>\n",
    "        <td><b>Nama</b></td>\n",
    "        <td>:</td>\n",
    "        <td>MUHAMMAD FALAH ABDURRAFI</td>\n",
    "    </tr>\n",
    "    <tr>\n",
    "        <td><b>Progdi</b></td>\n",
    "        <td>:</td>\n",
    "        <td>Teknik Informatika - S1</td>\n",
    "    </tr>\n",
    "    <tr>\n",
    "        <td><b>Mata Kuliah</b></td>\n",
    "        <td>:</td>\n",
    "        <td>Text Mining</td>\n",
    "    </tr>\n",
    "    <tr>\n",
    "        <td><b>Kelas</b></td>\n",
    "        <td>:</td>\n",
    "        <td>A1</td>\n",
    "    </tr>\n",
    "    <tr>\n",
    "        <td><b>Dosen Pengampu</b></td>\n",
    "        <td>:</td>\n",
    "        <td>Dr. Drs. ERI ZULIARSO, M.Kom.</td>\n",
    "    </tr>\n",
    "</table>\n",
    "<hr>"
   ]
  },
  {
   "cell_type": "markdown",
   "id": "8e63606b-0d66-4cd8-beaf-b97a004e4b00",
   "metadata": {},
   "source": [
    "<br><br>\n",
    "<h1><b>1. Scrapping (SNScrape)</b></h1>\n",
    "<hr>"
   ]
  },
  {
   "cell_type": "markdown",
   "id": "2abe969a-6ea8-4363-a83b-72e46d13c92c",
   "metadata": {},
   "source": [
    "<h4><b>1.1. Import Library</b></h4>"
   ]
  },
  {
   "cell_type": "code",
   "execution_count": 3,
   "id": "75300ee2-9558-4f0a-a25c-1d6d85a30d4a",
   "metadata": {},
   "outputs": [],
   "source": [
    "import snscrape.modules.twitter as sntwitter\n",
    "import json\n",
    "from langdetect import detect"
   ]
  },
  {
   "cell_type": "markdown",
   "id": "e416db4d-1823-42c2-986d-6e0f85d2827b",
   "metadata": {},
   "source": [
    "<br>\n",
    "<h4><b>1.2. Menentukan Kata Kunci</b></h4>"
   ]
  },
  {
   "cell_type": "code",
   "execution_count": 4,
   "id": "a8d50208-98bc-4783-9b59-785b12dae345",
   "metadata": {},
   "outputs": [],
   "source": [
    "keywords=['pssi']\n",
    "start=\"2022–09–01\"\n",
    "end =\"2022–10–03\"\n",
    "max_num=20\n",
    "fname='tweet.json' \n",
    "languages=['id','en']"
   ]
  },
  {
   "cell_type": "markdown",
   "id": "3cfafb83-1d4e-4f23-9d6a-6a33d93c723d",
   "metadata": {},
   "source": [
    "<br>\n",
    "<h4><b>1.3. Proses Scrapping</b></h4>"
   ]
  },
  {
   "cell_type": "code",
   "execution_count": 5,
   "id": "4fc67526-2c25-41d0-b70c-963b090a343c",
   "metadata": {},
   "outputs": [
    {
     "name": "stderr",
     "output_type": "stream",
     "text": [
      "C:\\Users\\ASUS\\AppData\\Local\\Temp\\ipykernel_13692\\3992385352.py:14: FutureWarning: username is deprecated, use user.username instead\n",
      "  data = {'id': tweet.id, 'username':tweet.username, 'date': tweet.date, 'text': tweet.content,'url':tweet.url}\n"
     ]
    },
    {
     "name": "stdout",
     "output_type": "stream",
     "text": [
      "{\"id\": 1581188315575091200, \"username\": \"morgangerry\", \"date\": \"2022-10-15 07:40:46+00:00\", \"text\": \"Lagi ngebayangin Ratu Tisha jadi Ketua PSSI dan Exco dogsnti semua sama orang2 yang cinta sepakbola 😍\", \"url\": \"https://twitter.com/morgangerry/status/1581188315575091200\"}\n",
      "{\"id\": 1581188291717578752, \"username\": \"yudar30\", \"date\": \"2022-10-15 07:40:40+00:00\", \"text\": \"Demi ambisi nyawa ratusan tdk menyentuh sama sekali hatinya . Kehendak rakyat ya suara allah utk ketua PSSI bertanggung jawab mundurrr .. https://t.co/ghgqRvH9kl\", \"url\": \"https://twitter.com/yudar30/status/1581188291717578752\"}\n",
      "{\"id\": 1581188248071991297, \"username\": \"tribunSUPERBALL\", \"date\": \"2022-10-15 07:40:30+00:00\", \"text\": \"Pemerintah Indonesia tak akan memberikan izin pertandingan Liga 1, Liga 2, dan Liga 3, untuk dilanjutkan kembali jika PSSI tak menggelar Kongres Luar Biasa (KLB). Pernyataan itu merupakan poin-poin yang diberikan TGIPF kepada Presiden Jokowi.\\nhttps://t.co/KHAe92CB7G\", \"url\": \"https://twitter.com/tribunSUPERBALL/status/1581188248071991297\"}\n",
      "{\"id\": 1581188238567669760, \"username\": \"BolaSportcom\", \"date\": \"2022-10-15 07:40:27+00:00\", \"text\": \"Pemerintah Indonesia tak akan memberikan izin pertandingan Liga 1, Liga 2, dan Liga 3, untuk dilanjutkan kembali jika PSSI tak menggelar Kongres Luar Biasa (KLB). Pernyataan itu merupakan poin-poin yang diberikan TGIPF kepada Presiden Jokowi.\\nhttps://t.co/L7IaIaY9Wq\", \"url\": \"https://twitter.com/BolaSportcom/status/1581188238567669760\"}\n",
      "{\"id\": 1581188117054492673, \"username\": \"wargipasundan85\", \"date\": \"2022-10-15 07:39:58+00:00\", \"text\": \"@NarasiNewsroom Gak ada masalh \\n sty turun iwan bule turun semua pengurus pssi juga harus berani mundur semua.\\nRevolusi pssi itu wajib.\", \"url\": \"https://twitter.com/wargipasundan85/status/1581188117054492673\"}\n",
      "{\"id\": 1581188088977444864, \"username\": \"PabrikBuisBeton\", \"date\": \"2022-10-15 07:39:52+00:00\", \"text\": \"@mohmahfudmd Berarti PSSI ini dah jadi lembaga anti bodi, bahkan dah kayak negara dalam negara dong Pak ?\\n\\nMasak negara gak bisa masuk ke PSSI kalau disana ada pelanggaran hukum ❓bahkan sampai menghilangkan nyawa banyak orang..\\n\\nBuat apa kita punya negara dan pemerintahan klo gitu ❓\", \"url\": \"https://twitter.com/PabrikBuisBeton/status/1581188088977444864\"}\n",
      "{\"id\": 1581187866054766592, \"username\": \"restyca_yah\", \"date\": \"2022-10-15 07:38:58+00:00\", \"text\": \"Fyi . Itu si arikupi yg kena skak krn meremehkan akun  yg kritik PSSI itu pernah kegep pake foto org BSD dan ngaku jakmania saat dia membully para  korban Kanjuruhan https://t.co/G83lJKy9Za\", \"url\": \"https://twitter.com/restyca_yah/status/1581187866054766592\"}\n",
      "{\"id\": 1581187740523466752, \"username\": \"DonFabio77794\", \"date\": \"2022-10-15 07:38:29+00:00\", \"text\": \"@mojokdotco dan segala hal diperbaikin mulai tata kelola liga, jam tayang yang ramah, exco yang kompeten insya allah siapa pun yang jadi ketum berikutnya akan selalu dikenang karena berhasil bawa perubahan di tubuh pssi\", \"url\": \"https://twitter.com/DonFabio77794/status/1581187740523466752\"}\n",
      "{\"id\": 1581187633493213185, \"username\": \"sgs939\", \"date\": \"2022-10-15 07:38:03+00:00\", \"text\": \"@mohmahfudmd Maaf Prof...tanpa mengurangi rasa hormat, dan masih dalam rasa kedukaan atas tragedi kanjuruhan, Sepakbola kita sedang dalam prestasi dan perbaikan yg cukup signifikan, saya rasa merekomendasikan hasil, pssi dan jajaran pengurusan untuk mundur bukan solusi terbaik...\", \"url\": \"https://twitter.com/sgs939/status/1581187633493213185\"}\n",
      "{\"id\": 1581187620788666368, \"username\": \"smartizen_\", \"date\": \"2022-10-15 07:38:00+00:00\", \"text\": \"Imbas Tragedi Kanjuruhan Desakan Mundur Ketum PSSI dan Jajarannya Bergemuruh https://t.co/iVkinPcK0V\", \"url\": \"https://twitter.com/smartizen_/status/1581187620788666368\"}\n",
      "{\"id\": 1581187574668079104, \"username\": \"kulonuwunlove\", \"date\": \"2022-10-15 07:37:49+00:00\", \"text\": \"@DonFabio77794 @mojokdotco Yang milih pelatih timnas itu sekjend yaitu ratu tisha,ratu tisha mundur karena ternyata pssi bobrok sekali dalemnya gajauh jauh dari mafia bola,nah lucunya sty ga mundur ketika ratu tisha mundur,jadi perlu dicurigai kontraknya sty ini secara lembaga apa perorangan\", \"url\": \"https://twitter.com/kulonuwunlove/status/1581187574668079104\"}\n",
      "{\"id\": 1581187207523864576, \"username\": \"Dyananjani89\", \"date\": \"2022-10-15 07:36:21+00:00\", \"text\": \"@03__nakula Tragedi Kanjuruhan itu FIX !!! KESALAHAN KOLEKTIF !!\\nOknum Supporter,Oknum Aparat PANPEL,PSSI dan @Indosiar \\n\\nKnp @AremaniaFC MERASA PALING KORBAN !\\nKalian jg PENYUMBANG UTAMA masalah !\\n\\nKalian pikir kl ada yg nyalahin Supporter,trs anggap kita GA SIMPATI SAMA KORBAN gitu?\\n\\nPekok\", \"url\": \"https://twitter.com/Dyananjani89/status/1581187207523864576\"}\n",
      "{\"id\": 1581187162074415104, \"username\": \"DonFabio77794\", \"date\": \"2022-10-15 07:36:11+00:00\", \"text\": \"@mojokdotco andai ketum yang baru bisa lebih baik dari era ibul dengan ngasih tropi entah aff atau emas sea games dan timnasnya tampil bagus udah pasti era ibul akan dengan sendirinya terlupakan atau hanya jadi catatan sejarah perjalanan pssi dari era ke era\", \"url\": \"https://twitter.com/DonFabio77794/status/1581187162074415104\"}\n",
      "{\"id\": 1581187004859314178, \"username\": \"nobartvlink\", \"date\": \"2022-10-15 07:35:33+00:00\", \"text\": \"Dibela untuk Tetap sebagai Ketum PSSI, Berikut Momen Kedekatan Iwan Bule &amp; Punggawa Timnas Indonesia! https://t.co/ODq27U5Hu4 #nobartvNews #beritaBola #nobartv #prediksiBola #prediksiSkor\", \"url\": \"https://twitter.com/nobartvlink/status/1581187004859314178\"}\n",
      "{\"id\": 1581186979256946689, \"username\": \"JuhariJajang\", \"date\": \"2022-10-15 07:35:27+00:00\", \"text\": \"ini mesti dari tingkat kabupaten/asprov kab dulu dirembukinnya,karna mau gimana juga yg ditingkat kabupaten ini yg juga berpengaruh besar buat kepentingan NASIONAL.rangkul asprov kabupaten se INDONESIA inshaallah jadi KETUM PSSI.Yakiiin gue https://t.co/J0PGcKl1Ww\", \"url\": \"https://twitter.com/JuhariJajang/status/1581186979256946689\"}\n",
      "{\"id\": 1581186963427983362, \"username\": \"Risknurh\", \"date\": \"2022-10-15 07:35:23+00:00\", \"text\": \"@r__u__mine_ @n_llvr @The_RedsIndo Gue juga benci bgt pssi, setuju klo revolusi pssi. Tapi gua ga setuju sty out. Klo pendapat sty keliru ya jgn suruh out juga dong. Beri pnjelasan klo yg bobrok tu federasinya. Anda tdk prlu mundur. Cari solusinya\", \"url\": \"https://twitter.com/Risknurh/status/1581186963427983362\"}\n",
      "{\"id\": 1581186801128984576, \"username\": \"Mat16_16\", \"date\": \"2022-10-15 07:34:45+00:00\", \"text\": \"Polri dan TNI yg diperbantukan:\\n•Hrs pny buku SOP penanganan pengamanan di stadion\\n•Pakai seragam pengamanan khusus, bukan seragam polri/TNI\\n•Gak bawa pentungan\\n•Bawa anjing pelacak utk pengamanan flare, narkotik, miras, bom\\n\\nPSSI\\nKapolda\\ndetikcom\\nhttps://t.co/wqX3eQ6hbo\", \"url\": \"https://twitter.com/Mat16_16/status/1581186801128984576\"}\n",
      "{\"id\": 1581186557155106816, \"username\": \"harismaldini\", \"date\": \"2022-10-15 07:33:46+00:00\", \"text\": \"@anandabadudu Jadi ketum PSSI pun bisa\", \"url\": \"https://twitter.com/harismaldini/status/1581186557155106816\"}\n"
     ]
    }
   ],
   "source": [
    "documents_twitter = []\n",
    "\n",
    "for keyword in keywords:\n",
    "   \n",
    "    for i, tweet in enumerate (sntwitter.TwitterSearchScraper(f'{keyword} ').get_items()):\n",
    "        \n",
    "        try:\n",
    "            lan=detect(tweet.content)\n",
    "        except:\n",
    "            lan='error'\n",
    "        if i == max_num:\n",
    "            break\n",
    "        if lan in languages:\n",
    "            data = {'id': tweet.id, 'username':tweet.username, 'date': tweet.date, 'text': tweet.content,'url':tweet.url}\n",
    "            \n",
    "            documents_twitter.append(data['text'])\n",
    "            \n",
    "            with open(fname, 'a+', encoding='utf-8') as f:\n",
    "                line = json.dumps(data, ensure_ascii=False,default=str)\n",
    "                print(line)\n",
    "                f.write(line)\n",
    "                f.write('\\n')"
   ]
  }
 ],
 "metadata": {
  "kernelspec": {
   "display_name": "Python 3 (ipykernel)",
   "language": "python",
   "name": "python3"
  },
  "language_info": {
   "codemirror_mode": {
    "name": "ipython",
    "version": 3
   },
   "file_extension": ".py",
   "mimetype": "text/x-python",
   "name": "python",
   "nbconvert_exporter": "python",
   "pygments_lexer": "ipython3",
   "version": "3.10.6"
  }
 },
 "nbformat": 4,
 "nbformat_minor": 5
}
