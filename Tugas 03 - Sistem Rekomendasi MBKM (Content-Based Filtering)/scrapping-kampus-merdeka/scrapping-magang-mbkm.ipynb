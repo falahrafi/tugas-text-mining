{
 "cells": [
  {
   "cell_type": "markdown",
   "id": "13565b75-67f1-4a5e-b9ed-3c2b16a3a1ae",
   "metadata": {},
   "source": [
    "<center>\n",
    "<h1><b>Scrapping Data</b></h1>\n",
    "<h4><b>(Kampus Merdeka - Magang)</b></h4>\n",
    "</center>\n",
    "\n",
    "<br>"
   ]
  },
  {
   "cell_type": "code",
   "execution_count": 6,
   "id": "0011dd24-3a2d-4ea5-b285-3d8f490bdca1",
   "metadata": {},
   "outputs": [],
   "source": [
    "import requests"
   ]
  },
  {
   "cell_type": "markdown",
   "id": "671e0ad7-6b06-4ecf-a60f-cf631393270e",
   "metadata": {
    "tags": []
   },
   "source": [
    "<br>\n",
    "<h3><b>Ambil ID dari Sector (Bidang) yang Diinginkan</b></h3>"
   ]
  },
  {
   "cell_type": "code",
   "execution_count": 7,
   "id": "e72cfc67-4937-4483-89c9-30d92e582760",
   "metadata": {},
   "outputs": [],
   "source": [
    "url = \"https://api.kampusmerdeka.kemdikbud.go.id/mitra/sector\"\n",
    "r = requests.get(url)\n",
    "sectors = r.json()"
   ]
  },
  {
   "cell_type": "code",
   "execution_count": 8,
   "id": "24417630-8fb0-4e41-8872-545cc6dc11d1",
   "metadata": {},
   "outputs": [
    {
     "name": "stdout",
     "output_type": "stream",
     "text": [
      "{'id': '19ecc0f8-8c0a-45c8-a96b-a7ba8c97caf1', 'name': 'Technology', 'description': 'Technology'}\n",
      "{'id': 'cf8bbc12-c4b8-4d50-a79d-0d0274c6d2a0', 'name': 'Healthcare & Hospitality', 'description': 'Healthcare & Hospitality'}\n",
      "{'id': '3d4a2ccd-a612-498b-8d1b-e08c5e65c315', 'name': 'BUMN', 'description': 'BUMN'}\n",
      "{'id': 'a97e1f17-35a6-4e65-bef8-4ff2947242c9', 'name': 'Multilaterals & Non-Profits', 'description': 'Multilaterals & Non-Profits'}\n",
      "{'id': 'e5192b1b-26d4-4468-9bec-5744d5f6e236', 'name': 'Professional Services', 'description': 'Professional Services'}\n",
      "{'id': '37178d06-d903-4011-93b7-f945079bb04c', 'name': 'Others', 'description': 'Others'}\n"
     ]
    }
   ],
   "source": [
    "for sector in sectors['data']:\n",
    "  print(sector)\n",
    "  \n",
    "  if(sector['name'] == 'Technology'):\n",
    "    sector_tech_id = sector['id']"
   ]
  },
  {
   "cell_type": "markdown",
   "id": "646d9dee-2ba5-4c80-a2c3-62d784c98162",
   "metadata": {
    "tags": []
   },
   "source": [
    "<br>\n",
    "<h3><b>Ambil ID dari Posisi Magang & Mitra yang Termasuk Bidang Teknologi</b></h3>"
   ]
  },
  {
   "cell_type": "code",
   "execution_count": 9,
   "id": "158b22de-65cb-4377-9583-3c41ed485378",
   "metadata": {},
   "outputs": [],
   "source": [
    "url = \"https://api.kampusmerdeka.kemdikbud.go.id/magang/browse/position?sector_id=\" + sector_tech_id\n",
    "r = requests.get(url)\n",
    "positions = r.json()"
   ]
  },
  {
   "cell_type": "code",
   "execution_count": 10,
   "id": "0cb67c4e-de3f-4776-8b6b-5bc15b2ae27f",
   "metadata": {},
   "outputs": [
    {
     "data": {
      "text/plain": [
       "{'id': '7ec68ba6-e017-11ec-8b86-6224b3eafd0c',\n",
       " 'name': '01BD - Systems Analyst',\n",
       " 'activity_name': 'Systems Analysis and Design: Industrial Standard & Practice',\n",
       " 'total': 7,\n",
       " 'start_duration': '2022-08-18T07:00:00+07:00',\n",
       " 'end_duration': '2022-12-29T07:00:00+07:00',\n",
       " 'start_registration': '2022-07-12T07:00:00+07:00',\n",
       " 'end_registration': '2022-08-12T07:00:00+07:00',\n",
       " 'credits_count': 20,\n",
       " 'activity_type': 'BLENDED',\n",
       " 'location': '1. Cibubur, Kabupaten Bogor, Jawa Barat; 2. Online',\n",
       " 'location_kotakab_code': '',\n",
       " 'mitra_id': '62d93dd1-ea71-4c66-a8f2-3c2b0067cef5',\n",
       " 'certified': True,\n",
       " 'logo': 'https://storage.googleapis.com/kampusmerdeka_kemdikbud_go_id/mitra/mitra_b135ed06-fc7e-4c4e-ada1-0beaf66b4296.png',\n",
       " 'mitra_name': 'Braindevs'}"
      ]
     },
     "execution_count": 10,
     "metadata": {},
     "output_type": "execute_result"
    }
   ],
   "source": [
    "positions['data'][0]"
   ]
  },
  {
   "cell_type": "code",
   "execution_count": 11,
   "id": "96f20e4c-3dbf-4b22-a6c2-d06c52a91e20",
   "metadata": {},
   "outputs": [],
   "source": [
    "positions_dict = {'mitra_id': [],\n",
    "                'position_id': []}\n",
    "\n",
    "for position in positions['data']:\n",
    "  positions_dict['mitra_id'].append(position['mitra_id'])\n",
    "  positions_dict['position_id'].append(position['id'])"
   ]
  },
  {
   "cell_type": "code",
   "execution_count": 12,
   "id": "e302c0c9-c27e-45f5-a28f-44f8fa8afee1",
   "metadata": {},
   "outputs": [],
   "source": [
    "import pandas as pd\n",
    "df_position = pd.DataFrame(positions_dict)"
   ]
  },
  {
   "cell_type": "code",
   "execution_count": 13,
   "id": "b94ac48e-d158-416a-bbbb-5c6182180478",
   "metadata": {},
   "outputs": [
    {
     "data": {
      "text/html": [
       "<div>\n",
       "<style scoped>\n",
       "    .dataframe tbody tr th:only-of-type {\n",
       "        vertical-align: middle;\n",
       "    }\n",
       "\n",
       "    .dataframe tbody tr th {\n",
       "        vertical-align: top;\n",
       "    }\n",
       "\n",
       "    .dataframe thead th {\n",
       "        text-align: right;\n",
       "    }\n",
       "</style>\n",
       "<table border=\"1\" class=\"dataframe\">\n",
       "  <thead>\n",
       "    <tr style=\"text-align: right;\">\n",
       "      <th></th>\n",
       "      <th>mitra_id</th>\n",
       "      <th>position_id</th>\n",
       "    </tr>\n",
       "  </thead>\n",
       "  <tbody>\n",
       "    <tr>\n",
       "      <th>0</th>\n",
       "      <td>62d93dd1-ea71-4c66-a8f2-3c2b0067cef5</td>\n",
       "      <td>7ec68ba6-e017-11ec-8b86-6224b3eafd0c</td>\n",
       "    </tr>\n",
       "    <tr>\n",
       "      <th>1</th>\n",
       "      <td>62d93dd1-ea71-4c66-a8f2-3c2b0067cef5</td>\n",
       "      <td>11aa2b34-ee16-11ec-bbbd-2a960ab1f44c</td>\n",
       "    </tr>\n",
       "    <tr>\n",
       "      <th>2</th>\n",
       "      <td>62d93dd1-ea71-4c66-a8f2-3c2b0067cef5</td>\n",
       "      <td>9b7fc3df-ee18-11ec-95f3-e23b9e4ca805</td>\n",
       "    </tr>\n",
       "    <tr>\n",
       "      <th>3</th>\n",
       "      <td>62d93dd1-ea71-4c66-a8f2-3c2b0067cef5</td>\n",
       "      <td>4ea7a9ce-ee1a-11ec-be4c-ea6ef431ee02</td>\n",
       "    </tr>\n",
       "    <tr>\n",
       "      <th>4</th>\n",
       "      <td>62d93dd1-ea71-4c66-a8f2-3c2b0067cef5</td>\n",
       "      <td>50b1f351-dffd-11ec-a2f8-6224b3eafd0c</td>\n",
       "    </tr>\n",
       "    <tr>\n",
       "      <th>...</th>\n",
       "      <td>...</td>\n",
       "      <td>...</td>\n",
       "    </tr>\n",
       "    <tr>\n",
       "      <th>986</th>\n",
       "      <td>ae9a3576-23cb-42c2-9885-4cb1a4141799</td>\n",
       "      <td>49113789-f0b1-11ec-bc53-96553684b83f</td>\n",
       "    </tr>\n",
       "    <tr>\n",
       "      <th>987</th>\n",
       "      <td>38b1780f-5eac-4fb2-922b-a38c739477e3</td>\n",
       "      <td>50c7e840-fe5d-11ec-9856-2e368c3deea0</td>\n",
       "    </tr>\n",
       "    <tr>\n",
       "      <th>988</th>\n",
       "      <td>cfca8159-1096-4dd6-a3b7-ab0da4507cc6</td>\n",
       "      <td>be3fc8ae-efed-11ec-baf9-0e3d4be38985</td>\n",
       "    </tr>\n",
       "    <tr>\n",
       "      <th>989</th>\n",
       "      <td>8bbe4d2b-fcb8-4bc3-a414-4393f5cb0d1b</td>\n",
       "      <td>ecf1dc25-e6f8-11ec-91c0-3241d2ee5bf4</td>\n",
       "    </tr>\n",
       "    <tr>\n",
       "      <th>990</th>\n",
       "      <td>20f87c97-71f0-4bb0-a591-ed22c767891d</td>\n",
       "      <td>f970b3e0-f3b2-11ec-9479-228dce90d462</td>\n",
       "    </tr>\n",
       "  </tbody>\n",
       "</table>\n",
       "<p>991 rows × 2 columns</p>\n",
       "</div>"
      ],
      "text/plain": [
       "                                 mitra_id  \\\n",
       "0    62d93dd1-ea71-4c66-a8f2-3c2b0067cef5   \n",
       "1    62d93dd1-ea71-4c66-a8f2-3c2b0067cef5   \n",
       "2    62d93dd1-ea71-4c66-a8f2-3c2b0067cef5   \n",
       "3    62d93dd1-ea71-4c66-a8f2-3c2b0067cef5   \n",
       "4    62d93dd1-ea71-4c66-a8f2-3c2b0067cef5   \n",
       "..                                    ...   \n",
       "986  ae9a3576-23cb-42c2-9885-4cb1a4141799   \n",
       "987  38b1780f-5eac-4fb2-922b-a38c739477e3   \n",
       "988  cfca8159-1096-4dd6-a3b7-ab0da4507cc6   \n",
       "989  8bbe4d2b-fcb8-4bc3-a414-4393f5cb0d1b   \n",
       "990  20f87c97-71f0-4bb0-a591-ed22c767891d   \n",
       "\n",
       "                              position_id  \n",
       "0    7ec68ba6-e017-11ec-8b86-6224b3eafd0c  \n",
       "1    11aa2b34-ee16-11ec-bbbd-2a960ab1f44c  \n",
       "2    9b7fc3df-ee18-11ec-95f3-e23b9e4ca805  \n",
       "3    4ea7a9ce-ee1a-11ec-be4c-ea6ef431ee02  \n",
       "4    50b1f351-dffd-11ec-a2f8-6224b3eafd0c  \n",
       "..                                    ...  \n",
       "986  49113789-f0b1-11ec-bc53-96553684b83f  \n",
       "987  50c7e840-fe5d-11ec-9856-2e368c3deea0  \n",
       "988  be3fc8ae-efed-11ec-baf9-0e3d4be38985  \n",
       "989  ecf1dc25-e6f8-11ec-91c0-3241d2ee5bf4  \n",
       "990  f970b3e0-f3b2-11ec-9479-228dce90d462  \n",
       "\n",
       "[991 rows x 2 columns]"
      ]
     },
     "execution_count": 13,
     "metadata": {},
     "output_type": "execute_result"
    }
   ],
   "source": [
    "df_position"
   ]
  },
  {
   "cell_type": "markdown",
   "id": "00020412-130b-4cae-bd6c-00fe0d568229",
   "metadata": {
    "tags": []
   },
   "source": [
    "<br>\n",
    "<h3><b>Ambil Nama & Alamat Mitra</b></h3>"
   ]
  },
  {
   "cell_type": "code",
   "execution_count": 14,
   "id": "abb82bc3-f8a0-4310-a866-6de2472191b7",
   "metadata": {},
   "outputs": [],
   "source": [
    "mitra_details = []\n",
    "\n",
    "for mitra_id in df_position['mitra_id']:\n",
    "  url = \"https://api.kampusmerdeka.kemdikbud.go.id/mitra/public/id/\" + mitra_id\n",
    "  r = requests.get(url)\n",
    "  mitra_detail = r.json()\n",
    "  mitra_details.append(mitra_detail)"
   ]
  },
  {
   "cell_type": "code",
   "execution_count": 17,
   "id": "7af06310-d9b1-4342-bb93-5a4071874fb1",
   "metadata": {},
   "outputs": [
    {
     "data": {
      "text/plain": [
       "{'data': {'id': '40b16585-db0e-4276-aec3-76be45f6cb1b',\n",
       "  'name': 'PT Mafela Ranca Wana',\n",
       "  'website': 'www.marawastudio.com',\n",
       "  'brand_name': 'Marawa Studio',\n",
       "  'description': 'Solutions to your various problems in the field of multimedia design',\n",
       "  'about_us': 'Want To Play Hard? Come Find Us',\n",
       "  'hq_address': 'Jl. Tan Malaka No. 138 Lt 3 , Kota Payakumbuh,\\nSumatera Barat',\n",
       "  'logo': 'https://storage.googleapis.com/kampusmerdeka_kemdikbud_go_id/mitra/mitra_8f2117b9-b07a-4811-be61-f81d0a150fbf.png',\n",
       "  'organization_size': {'id': 'f0fba397-5b9d-43f2-8685-9029df2443a9',\n",
       "   'code': 'B',\n",
       "   'description': '1-10 employees'},\n",
       "  'category': {'id': '51a3fffc-e868-4ecf-bc91-44b3a52a45a9',\n",
       "   'name': 'Multinational companies',\n",
       "   'description': 'Multinational companies'},\n",
       "  'sector': {'id': '19ecc0f8-8c0a-45c8-a96b-a7ba8c97caf1',\n",
       "   'name': 'Technology',\n",
       "   'description': 'Technology'}},\n",
       " 'meta': None}"
      ]
     },
     "execution_count": 17,
     "metadata": {},
     "output_type": "execute_result"
    }
   ],
   "source": [
    "mitra_details[10]"
   ]
  },
  {
   "cell_type": "code",
   "execution_count": 16,
   "id": "2d9b3d08-0029-4c84-b63a-48b4fa034775",
   "metadata": {},
   "outputs": [],
   "source": [
    "mitra_dict = {'mitra_name': [],\n",
    "             'address': []}\n",
    "\n",
    "for md in mitra_details:    \n",
    "  mitra_dict['mitra_name'].append(md['data']['name'])\n",
    "  mitra_dict['address'].append(md['data']['hq_address'])"
   ]
  },
  {
   "cell_type": "markdown",
   "id": "035a10b9-c4c2-4e7b-8b7c-f3b53f71d85b",
   "metadata": {
    "tags": []
   },
   "source": [
    "<br>\n",
    "<h3><b>Ambil Data Kompetensi dari Tiap Posisi</b></h3>"
   ]
  },
  {
   "cell_type": "code",
   "execution_count": 18,
   "id": "408058db-dcec-4172-b373-759899850fb9",
   "metadata": {},
   "outputs": [],
   "source": [
    "position_details = []\n",
    "\n",
    "for position_id in df_position['position_id']:\n",
    "  url = \"https://api.kampusmerdeka.kemdikbud.go.id/magang/browse/position/\" + position_id\n",
    "  r = requests.get(url)\n",
    "  position_detail = r.json()\n",
    "  position_details.append(position_detail)"
   ]
  },
  {
   "cell_type": "code",
   "execution_count": 19,
   "id": "f36d6784-5f0e-4ef6-81fa-649612cb05f0",
   "metadata": {},
   "outputs": [
    {
     "data": {
      "text/plain": [
       "{'data': {'id': 'c2da9f03-f106-11ec-97ef-96553684b83f',\n",
       "  'id_int': 0,\n",
       "  'name': '2D Artist',\n",
       "  'additional_title': 'Creating and Development  Remote  3D Animation Production',\n",
       "  'code': 'MB-10',\n",
       "  'total': 5,\n",
       "  'requirement': 'Jurusan  :  Multimedia / Desain Komunikasi Visual/Seni Rupa\\nJenjang :  D3 / D4 / S1\\nSemester :  Minimal Semester 3\\n\\nKriteria Hard Skils :\\n- Pandai Menggambar\\n- Pandai Membaca Naskah dan Shotlist\\n- Paham Penggunaan Software Multimedia \\n- Paham Penggunaan EMAIL dan ONLINE SUBMITION \\n\\nKriteria Soft Skill :\\n- Analis\\n- Memiliki inisiatif tinggi\\n- Analitis\\n- Kemampuan Observasi dan mencari akar masalah\\n- Attention to detail\\n- Mampu beradaptasi\\n- Bekerja dalam tim\\n\\nKriteria Lainnya:\\n- Bersedia ditempatkan di remote area\\n- Memiliki Komputer untuk bekerja\\n- Memilik Portofolio atau Karya Yang Pernah di kerjakan\\n',\n",
       "  'wishlist': False,\n",
       "  'registered': False,\n",
       "  'activity_id': {'id': '01152463-eec7-11ec-a360-6286206a8793',\n",
       "   'name': 'Creating and Development  Remote  3D Animation Production',\n",
       "   'description': 'Program  Marawa 3D Animation Remote Production  melalui Program MJJ 2022 dimulai berdasarkan kebutuhan human resource didalam industri animasi yang dapat menunjang kebutuhan Divisi sesuai PIPELINE Animation Production. Kebutuhan itu berupa Divisi Kreatif, Divisi Produksi, dan Divisi Pasca Produksi. Setiap Divisi tersebut memiliki beberapa sub divisi yang memiliki keilmuan yang berbeda-beda. Maka dari ini diperlukan keahlihan dan kompetensi yang beragam dalam satu divisi.',\n",
       "   'additional_information': '- Memahami logika bekerja dengan sistem jarah jauh\\n- Mahasiswa dituntut untuk lebih aktif dalam berkomunikasi. dalam mencermati arahan, mengerjakan sesuai panduan, memberikan report yang baik serta cepat tanggap\\n- Mahasiswa dituntut untuk cepat memahami pola  data  dengan sistem penamaan dan  kode unik yang sistematis',\n",
       "   'start_duration': '2022-08-18T07:00:00+07:00',\n",
       "   'end_duration': '2022-12-31T07:00:00+07:00',\n",
       "   'start_registration': '2022-07-12T07:00:00+07:00',\n",
       "   'end_registration': '2022-07-31T07:00:00+07:00',\n",
       "   'credits_count': 20,\n",
       "   'activity_type': 'BLENDED',\n",
       "   'location': 'Kota Payakumbuh',\n",
       "   'location_kotakab_code': '086500',\n",
       "   'mitra_id': '40b16585-db0e-4276-aec3-76be45f6cb1b',\n",
       "   'certified': True},\n",
       "  'skills': [{'id': 'd23a6748-f107-11ec-866e-ee509e24a5b4',\n",
       "    'name': 'Framing Shot',\n",
       "    'target': 'Mampu mengerti macam-macam adegan framing',\n",
       "    'detail': 'Peserta diberikan pembelajaran soal macam-macam framing, angle camera dan karakteristiknya',\n",
       "    'method': 'Penilaian terhadap pemahaman tentang macam-macam framing dan pengembangannya berdasarkan motivasi sebuah adegan yang ditekankan'},\n",
       "   {'id': 'd23a65a2-f107-11ec-866e-ee509e24a5b4',\n",
       "    'name': 'Gambar Ilustrasi Environment',\n",
       "    'target': 'Mampu menerjemahkan settingan tempat dalam cerita menjadi sebuah gambar',\n",
       "    'detail': 'Peserta diberikan latihan untuk mencari referensi foto dan gambar yang sudah ada untuk membuat sebuah gambar yang baru',\n",
       "    'method': 'Penilaian terhadap kecocokan ilustrasi gambar dengan penjelasan setingan tempat dalam sebuah naskah '},\n",
       "   {'id': 'd23a77c8-f107-11ec-97ef-96553684b83f',\n",
       "    'name': 'Pemahaman Dasar Menggambar Perspektif,  Proporsi dan Komposis',\n",
       "    'target': 'Mampu menggambar sesuai dengan kaedahnya',\n",
       "    'detail': 'Peserta diberikan latihan menentukan titik hilang dalam sebuah gambar, mempelajari ukuran-ukuran umum suatu benda, menyusun objek-objek untuk mendukung suasana dalam sebuah gambar',\n",
       "    'method': 'Penilaian terhadap kreatifitas dan teknik dalam menggambar'},\n",
       "   {'id': 'd23a8743-f107-11ec-97ef-96553684b83f',\n",
       "    'name': 'Storyboard',\n",
       "    'target': 'Mampu mebuat sebuah storyboard berdasarkan shotlist dan naskah',\n",
       "    'detail': 'Peserta diberikan latihan mengubah shotlist dengan storyboard',\n",
       "    'method': 'Penilaian terhadap teknik dan kemampuan membaca shotlist'},\n",
       "   {'id': 'd23c40bc-f107-11ec-866e-ee509e24a5b4',\n",
       "    'name': 'Concept Art Character',\n",
       "    'target': 'Mampu menerjemahkan data-data seorang tokoh cerita menjadi sebuah gambar',\n",
       "    'detail': 'Peserta diberikan latihan dengan memperhatikan data 3 dimensi penokohan, serta memberikan karakteristik unik yang menunjang dari sifat dan fisik dari karakter',\n",
       "    'method': 'Penilaian terhadap kecocokan dari sifat dan fisik dalam cerita ke dalam sebuah gambar'},\n",
       "   {'id': 'd23a7891-f107-11ec-97ef-96553684b83f',\n",
       "    'name': 'Visual Editing ',\n",
       "    'target': 'Mampu membuat penggambaran berupa animatic video dari hasil dari storyboard',\n",
       "    'detail': 'Peserta akan melakukan penyusunan data gambar storyboard dan data suara menjadi sebuah animatic',\n",
       "    'method': 'Penilaian atas kesesuaian data storyboard dan audio dengan memperhatikan durasi yang pas untuk tiap adegan'}],\n",
       "  'available_to_apply': True,\n",
       "  'is_quota_full': True,\n",
       "  'activity_active_id': 0},\n",
       " 'meta': None}"
      ]
     },
     "execution_count": 19,
     "metadata": {},
     "output_type": "execute_result"
    }
   ],
   "source": [
    "position_details[10]"
   ]
  },
  {
   "cell_type": "code",
   "execution_count": 21,
   "id": "abd9facb-23fc-4f64-a6ff-2a860a1fe465",
   "metadata": {},
   "outputs": [],
   "source": [
    "desc_dict = {'description': [],\n",
    "            'position_name': []}\n",
    "\n",
    "for pd in position_details:\n",
    "  \n",
    "  desc_text = \"\"\n",
    "\n",
    "  for skill in pd['data']['skills']:\n",
    "    desc_text += skill['name'] + ' '\n",
    "    \n",
    "  desc_dict['description'].append(desc_text)\n",
    "  desc_dict['position_name'].append(pd['data']['name'])"
   ]
  },
  {
   "cell_type": "markdown",
   "id": "ccfef0dc-531e-40b8-ac79-4de1228e7816",
   "metadata": {
    "tags": []
   },
   "source": [
    "<br>\n",
    "<h3><b>Export Dataset (Bahasa Indonesia)</b></h3>"
   ]
  },
  {
   "cell_type": "code",
   "execution_count": 24,
   "id": "f7b5d5e7-889f-4aee-9c66-31cb39ab0ae1",
   "metadata": {},
   "outputs": [
    {
     "data": {
      "text/html": [
       "<div>\n",
       "<style scoped>\n",
       "    .dataframe tbody tr th:only-of-type {\n",
       "        vertical-align: middle;\n",
       "    }\n",
       "\n",
       "    .dataframe tbody tr th {\n",
       "        vertical-align: top;\n",
       "    }\n",
       "\n",
       "    .dataframe thead th {\n",
       "        text-align: right;\n",
       "    }\n",
       "</style>\n",
       "<table border=\"1\" class=\"dataframe\">\n",
       "  <thead>\n",
       "    <tr style=\"text-align: right;\">\n",
       "      <th></th>\n",
       "      <th>mitra_name</th>\n",
       "      <th>position_name</th>\n",
       "      <th>address</th>\n",
       "      <th>description</th>\n",
       "    </tr>\n",
       "  </thead>\n",
       "  <tbody>\n",
       "    <tr>\n",
       "      <th>0</th>\n",
       "      <td>PT. IlmuKomputerCom Braindevs Sistema</td>\n",
       "      <td>01BD - Systems Analyst</td>\n",
       "      <td>Menara Bidakara 1  Lantai 2,\\nJl. Gatot Subrot...</td>\n",
       "      <td>Systems Analysis and Design Team Work Communic...</td>\n",
       "    </tr>\n",
       "    <tr>\n",
       "      <th>1</th>\n",
       "      <td>PT. IlmuKomputerCom Braindevs Sistema</td>\n",
       "      <td>02BD - Business Analyst</td>\n",
       "      <td>Menara Bidakara 1  Lantai 2,\\nJl. Gatot Subrot...</td>\n",
       "      <td>Time Management Systems Analysis &amp; Design Crit...</td>\n",
       "    </tr>\n",
       "    <tr>\n",
       "      <th>2</th>\n",
       "      <td>PT. IlmuKomputerCom Braindevs Sistema</td>\n",
       "      <td>03BD - Product Manager</td>\n",
       "      <td>Menara Bidakara 1  Lantai 2,\\nJl. Gatot Subrot...</td>\n",
       "      <td>Systems Analysis and Design Communication Skil...</td>\n",
       "    </tr>\n",
       "    <tr>\n",
       "      <th>3</th>\n",
       "      <td>PT. IlmuKomputerCom Braindevs Sistema</td>\n",
       "      <td>04BD - Software Engineer</td>\n",
       "      <td>Menara Bidakara 1  Lantai 2,\\nJl. Gatot Subrot...</td>\n",
       "      <td>Software Engineering Time Management Communica...</td>\n",
       "    </tr>\n",
       "    <tr>\n",
       "      <th>4</th>\n",
       "      <td>PT. IlmuKomputerCom Braindevs Sistema</td>\n",
       "      <td>05BD - Data Scientist</td>\n",
       "      <td>Menara Bidakara 1  Lantai 2,\\nJl. Gatot Subrot...</td>\n",
       "      <td>Data Mining Text Mining Data Visualization Tea...</td>\n",
       "    </tr>\n",
       "    <tr>\n",
       "      <th>...</th>\n",
       "      <td>...</td>\n",
       "      <td>...</td>\n",
       "      <td>...</td>\n",
       "      <td>...</td>\n",
       "    </tr>\n",
       "    <tr>\n",
       "      <th>986</th>\n",
       "      <td>PT Home Credit Indonesia</td>\n",
       "      <td>Web Developer</td>\n",
       "      <td>Plaza Oleos Lantai 8 Jl. TB Simatupang No. 53A...</td>\n",
       "      <td>Kemampuan adaptasi  Application Design Kerjasa...</td>\n",
       "    </tr>\n",
       "    <tr>\n",
       "      <th>987</th>\n",
       "      <td>PT Traveloka Indonesia</td>\n",
       "      <td>Web Engineer Intern</td>\n",
       "      <td>Traveloka Campus (d/h Green Office Park 1) Nor...</td>\n",
       "      <td>Core Competency: Accountability Technical Comp...</td>\n",
       "    </tr>\n",
       "    <tr>\n",
       "      <th>988</th>\n",
       "      <td>PT BISA ARTIFISIAL INDONESIA</td>\n",
       "      <td>Web Programmer</td>\n",
       "      <td>JLN. IR H JUANDA NO. 84 BANDUNG</td>\n",
       "      <td>UI/UX Jr. Lead Programmer Manajemen Proyek Jr....</td>\n",
       "    </tr>\n",
       "    <tr>\n",
       "      <th>989</th>\n",
       "      <td>PT Suitmedia Kreasi Indonesia</td>\n",
       "      <td>Web UI/UX Designer</td>\n",
       "      <td>Suitmedia HQ\\nJl. Pejaten Barat II No. 3A \\nJa...</td>\n",
       "      <td>Pemahaman terkait Design Brief Perkenalan pada...</td>\n",
       "    </tr>\n",
       "    <tr>\n",
       "      <th>990</th>\n",
       "      <td>PT Huawei Tech Investment</td>\n",
       "      <td>Wireless Engineer</td>\n",
       "      <td></td>\n",
       "      <td>Project Management HCIA-WLAN</td>\n",
       "    </tr>\n",
       "  </tbody>\n",
       "</table>\n",
       "<p>991 rows × 4 columns</p>\n",
       "</div>"
      ],
      "text/plain": [
       "                                mitra_name             position_name  \\\n",
       "0    PT. IlmuKomputerCom Braindevs Sistema    01BD - Systems Analyst   \n",
       "1    PT. IlmuKomputerCom Braindevs Sistema  02BD - Business Analyst    \n",
       "2    PT. IlmuKomputerCom Braindevs Sistema    03BD - Product Manager   \n",
       "3    PT. IlmuKomputerCom Braindevs Sistema  04BD - Software Engineer   \n",
       "4    PT. IlmuKomputerCom Braindevs Sistema     05BD - Data Scientist   \n",
       "..                                     ...                       ...   \n",
       "986               PT Home Credit Indonesia             Web Developer   \n",
       "987                 PT Traveloka Indonesia       Web Engineer Intern   \n",
       "988           PT BISA ARTIFISIAL INDONESIA            Web Programmer   \n",
       "989          PT Suitmedia Kreasi Indonesia        Web UI/UX Designer   \n",
       "990              PT Huawei Tech Investment         Wireless Engineer   \n",
       "\n",
       "                                               address  \\\n",
       "0    Menara Bidakara 1  Lantai 2,\\nJl. Gatot Subrot...   \n",
       "1    Menara Bidakara 1  Lantai 2,\\nJl. Gatot Subrot...   \n",
       "2    Menara Bidakara 1  Lantai 2,\\nJl. Gatot Subrot...   \n",
       "3    Menara Bidakara 1  Lantai 2,\\nJl. Gatot Subrot...   \n",
       "4    Menara Bidakara 1  Lantai 2,\\nJl. Gatot Subrot...   \n",
       "..                                                 ...   \n",
       "986  Plaza Oleos Lantai 8 Jl. TB Simatupang No. 53A...   \n",
       "987  Traveloka Campus (d/h Green Office Park 1) Nor...   \n",
       "988                    JLN. IR H JUANDA NO. 84 BANDUNG   \n",
       "989  Suitmedia HQ\\nJl. Pejaten Barat II No. 3A \\nJa...   \n",
       "990                                                      \n",
       "\n",
       "                                           description  \n",
       "0    Systems Analysis and Design Team Work Communic...  \n",
       "1    Time Management Systems Analysis & Design Crit...  \n",
       "2    Systems Analysis and Design Communication Skil...  \n",
       "3    Software Engineering Time Management Communica...  \n",
       "4    Data Mining Text Mining Data Visualization Tea...  \n",
       "..                                                 ...  \n",
       "986  Kemampuan adaptasi  Application Design Kerjasa...  \n",
       "987  Core Competency: Accountability Technical Comp...  \n",
       "988  UI/UX Jr. Lead Programmer Manajemen Proyek Jr....  \n",
       "989  Pemahaman terkait Design Brief Perkenalan pada...  \n",
       "990                      Project Management HCIA-WLAN   \n",
       "\n",
       "[991 rows x 4 columns]"
      ]
     },
     "execution_count": 24,
     "metadata": {},
     "output_type": "execute_result"
    }
   ],
   "source": [
    "import pandas as pd\n",
    "\n",
    "df_magang = df_position.copy()\n",
    "\n",
    "df_magang[\"mitra_name\"] = mitra_dict['mitra_name']\n",
    "df_magang[\"position_name\"] = desc_dict['position_name']\n",
    "df_magang[\"address\"] = mitra_dict['address']\n",
    "df_magang[\"description\"] = desc_dict['description']\n",
    "\n",
    "del df_magang[\"mitra_id\"]\n",
    "del df_magang[\"position_id\"]\n",
    "\n",
    "df_magang.to_csv('CSV/dataset_magang.csv', index=False)\n",
    "\n",
    "df_magang"
   ]
  },
  {
   "cell_type": "markdown",
   "id": "117441f7-9712-44d6-8493-1497eeafeda6",
   "metadata": {
    "tags": []
   },
   "source": [
    "<br>\n",
    "<h3><b>Export Dataset (Bahasa Inggris)</b></h3>"
   ]
  },
  {
   "cell_type": "code",
   "execution_count": 151,
   "id": "dd199a47-63eb-41d1-bb0d-5d9404584fed",
   "metadata": {},
   "outputs": [],
   "source": [
    "# pip install -U deep-translator"
   ]
  },
  {
   "cell_type": "code",
   "execution_count": 25,
   "id": "838ce9ec-f2a1-4296-ba12-c32e9d614486",
   "metadata": {},
   "outputs": [],
   "source": [
    "import nltk\n",
    "from deep_translator import GoogleTranslator\n",
    "\n",
    "df_magang_eng = df_magang.copy()\n",
    "\n",
    "for i, desc in enumerate(df_magang_eng['description']):\n",
    "\n",
    "  desc_translated = \"\"\n",
    "  desc_token = nltk.tokenize.sent_tokenize(desc)\n",
    "\n",
    "  # Mengatasi batasan jumlah karakter deep translator\n",
    "  for sentence in desc_token:\n",
    "    desc_translated += GoogleTranslator(source='auto', target='en').translate(sentence)\n",
    "\n",
    "  df_magang_eng.at[i, 'description'] = desc_translated "
   ]
  },
  {
   "cell_type": "code",
   "execution_count": 26,
   "id": "6e53c6fe-7703-455c-9fdb-566737119e77",
   "metadata": {},
   "outputs": [
    {
     "data": {
      "text/html": [
       "<div>\n",
       "<style scoped>\n",
       "    .dataframe tbody tr th:only-of-type {\n",
       "        vertical-align: middle;\n",
       "    }\n",
       "\n",
       "    .dataframe tbody tr th {\n",
       "        vertical-align: top;\n",
       "    }\n",
       "\n",
       "    .dataframe thead th {\n",
       "        text-align: right;\n",
       "    }\n",
       "</style>\n",
       "<table border=\"1\" class=\"dataframe\">\n",
       "  <thead>\n",
       "    <tr style=\"text-align: right;\">\n",
       "      <th></th>\n",
       "      <th>mitra_name</th>\n",
       "      <th>position_name</th>\n",
       "      <th>address</th>\n",
       "      <th>description</th>\n",
       "    </tr>\n",
       "  </thead>\n",
       "  <tbody>\n",
       "    <tr>\n",
       "      <th>0</th>\n",
       "      <td>PT. IlmuKomputerCom Braindevs Sistema</td>\n",
       "      <td>01BD - Systems Analyst</td>\n",
       "      <td>Menara Bidakara 1  Lantai 2,\\nJl. Gatot Subrot...</td>\n",
       "      <td>Systems Analysis and Design Team Work Communic...</td>\n",
       "    </tr>\n",
       "    <tr>\n",
       "      <th>1</th>\n",
       "      <td>PT. IlmuKomputerCom Braindevs Sistema</td>\n",
       "      <td>02BD - Business Analyst</td>\n",
       "      <td>Menara Bidakara 1  Lantai 2,\\nJl. Gatot Subrot...</td>\n",
       "      <td>Time Management Systems Analysis &amp; Design Crit...</td>\n",
       "    </tr>\n",
       "    <tr>\n",
       "      <th>2</th>\n",
       "      <td>PT. IlmuKomputerCom Braindevs Sistema</td>\n",
       "      <td>03BD - Product Manager</td>\n",
       "      <td>Menara Bidakara 1  Lantai 2,\\nJl. Gatot Subrot...</td>\n",
       "      <td>Systems Analysis and Design Communication Skil...</td>\n",
       "    </tr>\n",
       "    <tr>\n",
       "      <th>3</th>\n",
       "      <td>PT. IlmuKomputerCom Braindevs Sistema</td>\n",
       "      <td>04BD - Software Engineer</td>\n",
       "      <td>Menara Bidakara 1  Lantai 2,\\nJl. Gatot Subrot...</td>\n",
       "      <td>Software Engineering Time Management Communica...</td>\n",
       "    </tr>\n",
       "    <tr>\n",
       "      <th>4</th>\n",
       "      <td>PT. IlmuKomputerCom Braindevs Sistema</td>\n",
       "      <td>05BD - Data Scientist</td>\n",
       "      <td>Menara Bidakara 1  Lantai 2,\\nJl. Gatot Subrot...</td>\n",
       "      <td>Data Mining Text Mining Data Visualization Tea...</td>\n",
       "    </tr>\n",
       "    <tr>\n",
       "      <th>...</th>\n",
       "      <td>...</td>\n",
       "      <td>...</td>\n",
       "      <td>...</td>\n",
       "      <td>...</td>\n",
       "    </tr>\n",
       "    <tr>\n",
       "      <th>986</th>\n",
       "      <td>PT Home Credit Indonesia</td>\n",
       "      <td>Web Developer</td>\n",
       "      <td>Plaza Oleos Lantai 8 Jl. TB Simatupang No. 53A...</td>\n",
       "      <td>Adaptability Application Design Teamwork dynam...</td>\n",
       "    </tr>\n",
       "    <tr>\n",
       "      <th>987</th>\n",
       "      <td>PT Traveloka Indonesia</td>\n",
       "      <td>Web Engineer Intern</td>\n",
       "      <td>Traveloka Campus (d/h Green Office Park 1) Nor...</td>\n",
       "      <td>Core Competency: Accountability Technical Comp...</td>\n",
       "    </tr>\n",
       "    <tr>\n",
       "      <th>988</th>\n",
       "      <td>PT BISA ARTIFISIAL INDONESIA</td>\n",
       "      <td>Web Programmer</td>\n",
       "      <td>JLN. IR H JUANDA NO. 84 BANDUNG</td>\n",
       "      <td>UI/UX Jr. Project Management Lead Programmer J...</td>\n",
       "    </tr>\n",
       "    <tr>\n",
       "      <th>989</th>\n",
       "      <td>PT Suitmedia Kreasi Indonesia</td>\n",
       "      <td>Web UI/UX Designer</td>\n",
       "      <td>Suitmedia HQ\\nJl. Pejaten Barat II No. 3A \\nJa...</td>\n",
       "      <td>Understanding of Design Brief Introduction to ...</td>\n",
       "    </tr>\n",
       "    <tr>\n",
       "      <th>990</th>\n",
       "      <td>PT Huawei Tech Investment</td>\n",
       "      <td>Wireless Engineer</td>\n",
       "      <td></td>\n",
       "      <td>Project Management HCIA-WLAN</td>\n",
       "    </tr>\n",
       "  </tbody>\n",
       "</table>\n",
       "<p>991 rows × 4 columns</p>\n",
       "</div>"
      ],
      "text/plain": [
       "                                mitra_name             position_name  \\\n",
       "0    PT. IlmuKomputerCom Braindevs Sistema    01BD - Systems Analyst   \n",
       "1    PT. IlmuKomputerCom Braindevs Sistema  02BD - Business Analyst    \n",
       "2    PT. IlmuKomputerCom Braindevs Sistema    03BD - Product Manager   \n",
       "3    PT. IlmuKomputerCom Braindevs Sistema  04BD - Software Engineer   \n",
       "4    PT. IlmuKomputerCom Braindevs Sistema     05BD - Data Scientist   \n",
       "..                                     ...                       ...   \n",
       "986               PT Home Credit Indonesia             Web Developer   \n",
       "987                 PT Traveloka Indonesia       Web Engineer Intern   \n",
       "988           PT BISA ARTIFISIAL INDONESIA            Web Programmer   \n",
       "989          PT Suitmedia Kreasi Indonesia        Web UI/UX Designer   \n",
       "990              PT Huawei Tech Investment         Wireless Engineer   \n",
       "\n",
       "                                               address  \\\n",
       "0    Menara Bidakara 1  Lantai 2,\\nJl. Gatot Subrot...   \n",
       "1    Menara Bidakara 1  Lantai 2,\\nJl. Gatot Subrot...   \n",
       "2    Menara Bidakara 1  Lantai 2,\\nJl. Gatot Subrot...   \n",
       "3    Menara Bidakara 1  Lantai 2,\\nJl. Gatot Subrot...   \n",
       "4    Menara Bidakara 1  Lantai 2,\\nJl. Gatot Subrot...   \n",
       "..                                                 ...   \n",
       "986  Plaza Oleos Lantai 8 Jl. TB Simatupang No. 53A...   \n",
       "987  Traveloka Campus (d/h Green Office Park 1) Nor...   \n",
       "988                    JLN. IR H JUANDA NO. 84 BANDUNG   \n",
       "989  Suitmedia HQ\\nJl. Pejaten Barat II No. 3A \\nJa...   \n",
       "990                                                      \n",
       "\n",
       "                                           description  \n",
       "0    Systems Analysis and Design Team Work Communic...  \n",
       "1    Time Management Systems Analysis & Design Crit...  \n",
       "2    Systems Analysis and Design Communication Skil...  \n",
       "3    Software Engineering Time Management Communica...  \n",
       "4    Data Mining Text Mining Data Visualization Tea...  \n",
       "..                                                 ...  \n",
       "986  Adaptability Application Design Teamwork dynam...  \n",
       "987  Core Competency: Accountability Technical Comp...  \n",
       "988  UI/UX Jr. Project Management Lead Programmer J...  \n",
       "989  Understanding of Design Brief Introduction to ...  \n",
       "990                       Project Management HCIA-WLAN  \n",
       "\n",
       "[991 rows x 4 columns]"
      ]
     },
     "execution_count": 26,
     "metadata": {},
     "output_type": "execute_result"
    }
   ],
   "source": [
    "df_magang_eng.to_csv('CSV/dataset_magang_english.csv', index=False)\n",
    "df_magang_eng"
   ]
  },
  {
   "cell_type": "code",
   "execution_count": null,
   "id": "bef9e474-afe7-4ef2-8b52-925ab9b8eef4",
   "metadata": {},
   "outputs": [],
   "source": []
  }
 ],
 "metadata": {
  "kernelspec": {
   "display_name": "Python 3 (ipykernel)",
   "language": "python",
   "name": "python3"
  },
  "language_info": {
   "codemirror_mode": {
    "name": "ipython",
    "version": 3
   },
   "file_extension": ".py",
   "mimetype": "text/x-python",
   "name": "python",
   "nbconvert_exporter": "python",
   "pygments_lexer": "ipython3",
   "version": "3.9.12"
  }
 },
 "nbformat": 4,
 "nbformat_minor": 5
}
