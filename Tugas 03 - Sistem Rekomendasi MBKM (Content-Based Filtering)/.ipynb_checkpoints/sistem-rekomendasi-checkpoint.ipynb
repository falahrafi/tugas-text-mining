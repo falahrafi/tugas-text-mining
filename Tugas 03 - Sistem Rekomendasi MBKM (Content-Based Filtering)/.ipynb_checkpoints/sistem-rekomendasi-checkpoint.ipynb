{
 "cells": [
  {
   "cell_type": "markdown",
   "metadata": {},
   "source": [
    "<h1 style=\"text-align: center;\"><b>Content Based Filtering : Kampus Merdeka</b></h1>"
   ]
  },
  {
   "cell_type": "markdown",
   "metadata": {},
   "source": [
    "<hr>\n",
    "<table>\n",
    "    <tr>\n",
    "        <td><b>NIM</b></td>\n",
    "        <td>:</td>\n",
    "        <td>20.01.53.0033</td>\n",
    "    </tr>\n",
    "    <tr>\n",
    "        <td><b>Nama</b></td>\n",
    "        <td>:</td>\n",
    "        <td>MUHAMMAD FALAH ABDURRAFI</td>\n",
    "    </tr>\n",
    "    <tr>\n",
    "        <td><b>Progdi</b></td>\n",
    "        <td>:</td>\n",
    "        <td>Teknik Informatika - S1</td>\n",
    "    </tr>\n",
    "    <tr>\n",
    "        <td><b>Mata Kuliah</b></td>\n",
    "        <td>:</td>\n",
    "        <td>Text Mining</td>\n",
    "    </tr>\n",
    "    <tr>\n",
    "        <td><b>Kelas</b></td>\n",
    "        <td>:</td>\n",
    "        <td>A1</td>\n",
    "    </tr>\n",
    "    <tr>\n",
    "        <td><b>Dosen Pengampu</b></td>\n",
    "        <td>:</td>\n",
    "        <td>Dr. Drs. ERI ZULIARSO, M.Kom.</td>\n",
    "    </tr>\n",
    "</table>\n",
    "<hr>\n",
    "<br>"
   ]
  },
  {
   "cell_type": "code",
   "execution_count": 270,
   "metadata": {},
   "outputs": [
    {
     "data": {
      "text/html": [
       "<div>\n",
       "<style scoped>\n",
       "    .dataframe tbody tr th:only-of-type {\n",
       "        vertical-align: middle;\n",
       "    }\n",
       "\n",
       "    .dataframe tbody tr th {\n",
       "        vertical-align: top;\n",
       "    }\n",
       "\n",
       "    .dataframe thead th {\n",
       "        text-align: right;\n",
       "    }\n",
       "</style>\n",
       "<table border=\"1\" class=\"dataframe\">\n",
       "  <thead>\n",
       "    <tr style=\"text-align: right;\">\n",
       "      <th></th>\n",
       "      <th>mitra_name</th>\n",
       "      <th>address</th>\n",
       "      <th>description</th>\n",
       "      <th>program</th>\n",
       "      <th>course_position</th>\n",
       "    </tr>\n",
       "  </thead>\n",
       "  <tbody>\n",
       "    <tr>\n",
       "      <th>0</th>\n",
       "      <td>Muhammad Falah Abdurrafi</td>\n",
       "      <td>Kaliwungu Selatan, Kendal, Jawa Tengah, 51372</td>\n",
       "      <td>Programming Algorithm, Programming Language, D...</td>\n",
       "      <td>Kuliah</td>\n",
       "      <td>Mata Kuliah</td>\n",
       "    </tr>\n",
       "    <tr>\n",
       "      <th>1</th>\n",
       "      <td>PT Semesta Integrasi Digital</td>\n",
       "      <td>Jl. Jeruk Purut Dalam No.33, RT.6/RW.3, Ciland...</td>\n",
       "      <td>Digital integrated blended learning Student-ce...</td>\n",
       "      <td>Studi Independen</td>\n",
       "      <td>21st-Century Digital Educator (Guru Digital Ab...</td>\n",
       "    </tr>\n",
       "    <tr>\n",
       "      <th>2</th>\n",
       "      <td>PT STECHOQ ROBOTIKA INDONESIA</td>\n",
       "      <td>Jalan Belimbing A-17 Perum Sidoarum Blok II, G...</td>\n",
       "      <td>Pre Production Advanced 3D Final Production Po...</td>\n",
       "      <td>Studi Independen</td>\n",
       "      <td>3D Designing Course for Digital Transformation...</td>\n",
       "    </tr>\n",
       "    <tr>\n",
       "      <th>3</th>\n",
       "      <td>Terra Weather Pte. Ltd</td>\n",
       "      <td>10 Bukit Batok Crescent, 04-03D The Spire, Sin...</td>\n",
       "      <td>Design Thinking for Web-Based, Data-Driven Int...</td>\n",
       "      <td>Studi Independen</td>\n",
       "      <td>AI4IMPACT Apprenticeship - REVOLUSI EDUKASI</td>\n",
       "    </tr>\n",
       "    <tr>\n",
       "      <th>4</th>\n",
       "      <td>Terra Weather Pte. Ltd</td>\n",
       "      <td>10 Bukit Batok Crescent, 04-03D The Spire, Sin...</td>\n",
       "      <td>Chatbot Basics Design Thinking for Business an...</td>\n",
       "      <td>Studi Independen</td>\n",
       "      <td>AI4IMPACT Apprenticeship - TOKOBOT</td>\n",
       "    </tr>\n",
       "    <tr>\n",
       "      <th>...</th>\n",
       "      <td>...</td>\n",
       "      <td>...</td>\n",
       "      <td>...</td>\n",
       "      <td>...</td>\n",
       "      <td>...</td>\n",
       "    </tr>\n",
       "    <tr>\n",
       "      <th>1083</th>\n",
       "      <td>PT Home Credit Indonesia</td>\n",
       "      <td>Plaza Oleos Lantai 8 Jl. TB Simatupang No. 53A...</td>\n",
       "      <td>Adaptability Application Design Teamwork dynam...</td>\n",
       "      <td>Magang</td>\n",
       "      <td>Web Developer</td>\n",
       "    </tr>\n",
       "    <tr>\n",
       "      <th>1084</th>\n",
       "      <td>PT Traveloka Indonesia</td>\n",
       "      <td>Traveloka Campus (d/h Green Office Park 1) Nor...</td>\n",
       "      <td>Core Competency: Accountability Technical Comp...</td>\n",
       "      <td>Magang</td>\n",
       "      <td>Web Engineer Intern</td>\n",
       "    </tr>\n",
       "    <tr>\n",
       "      <th>1085</th>\n",
       "      <td>PT BISA ARTIFISIAL INDONESIA</td>\n",
       "      <td>JLN. IR H JUANDA NO. 84 BANDUNG</td>\n",
       "      <td>UI/UX Jr. Project Management Lead Programmer J...</td>\n",
       "      <td>Magang</td>\n",
       "      <td>Web Programmer</td>\n",
       "    </tr>\n",
       "    <tr>\n",
       "      <th>1086</th>\n",
       "      <td>PT Suitmedia Kreasi Indonesia</td>\n",
       "      <td>Suitmedia HQ Jl. Pejaten Barat II No. 3A  Jaka...</td>\n",
       "      <td>Understanding of Design Brief Introduction to ...</td>\n",
       "      <td>Magang</td>\n",
       "      <td>Web UI/UX Designer</td>\n",
       "    </tr>\n",
       "    <tr>\n",
       "      <th>1087</th>\n",
       "      <td>PT Huawei Tech Investment</td>\n",
       "      <td>(Alamat Tidak Tersedia)</td>\n",
       "      <td>Project Management HCIA-WLAN</td>\n",
       "      <td>Magang</td>\n",
       "      <td>Wireless Engineer</td>\n",
       "    </tr>\n",
       "  </tbody>\n",
       "</table>\n",
       "<p>1088 rows × 5 columns</p>\n",
       "</div>"
      ],
      "text/plain": [
       "                         mitra_name  \\\n",
       "0          Muhammad Falah Abdurrafi   \n",
       "1      PT Semesta Integrasi Digital   \n",
       "2     PT STECHOQ ROBOTIKA INDONESIA   \n",
       "3            Terra Weather Pte. Ltd   \n",
       "4            Terra Weather Pte. Ltd   \n",
       "...                             ...   \n",
       "1083       PT Home Credit Indonesia   \n",
       "1084         PT Traveloka Indonesia   \n",
       "1085   PT BISA ARTIFISIAL INDONESIA   \n",
       "1086  PT Suitmedia Kreasi Indonesia   \n",
       "1087      PT Huawei Tech Investment   \n",
       "\n",
       "                                                address  \\\n",
       "0         Kaliwungu Selatan, Kendal, Jawa Tengah, 51372   \n",
       "1     Jl. Jeruk Purut Dalam No.33, RT.6/RW.3, Ciland...   \n",
       "2     Jalan Belimbing A-17 Perum Sidoarum Blok II, G...   \n",
       "3     10 Bukit Batok Crescent, 04-03D The Spire, Sin...   \n",
       "4     10 Bukit Batok Crescent, 04-03D The Spire, Sin...   \n",
       "...                                                 ...   \n",
       "1083  Plaza Oleos Lantai 8 Jl. TB Simatupang No. 53A...   \n",
       "1084  Traveloka Campus (d/h Green Office Park 1) Nor...   \n",
       "1085                    JLN. IR H JUANDA NO. 84 BANDUNG   \n",
       "1086  Suitmedia HQ Jl. Pejaten Barat II No. 3A  Jaka...   \n",
       "1087                            (Alamat Tidak Tersedia)   \n",
       "\n",
       "                                            description           program  \\\n",
       "0     Programming Algorithm, Programming Language, D...            Kuliah   \n",
       "1     Digital integrated blended learning Student-ce...  Studi Independen   \n",
       "2     Pre Production Advanced 3D Final Production Po...  Studi Independen   \n",
       "3     Design Thinking for Web-Based, Data-Driven Int...  Studi Independen   \n",
       "4     Chatbot Basics Design Thinking for Business an...  Studi Independen   \n",
       "...                                                 ...               ...   \n",
       "1083  Adaptability Application Design Teamwork dynam...            Magang   \n",
       "1084  Core Competency: Accountability Technical Comp...            Magang   \n",
       "1085  UI/UX Jr. Project Management Lead Programmer J...            Magang   \n",
       "1086  Understanding of Design Brief Introduction to ...            Magang   \n",
       "1087                       Project Management HCIA-WLAN            Magang   \n",
       "\n",
       "                                        course_position  \n",
       "0                                           Mata Kuliah  \n",
       "1     21st-Century Digital Educator (Guru Digital Ab...  \n",
       "2     3D Designing Course for Digital Transformation...  \n",
       "3           AI4IMPACT Apprenticeship - REVOLUSI EDUKASI  \n",
       "4                    AI4IMPACT Apprenticeship - TOKOBOT  \n",
       "...                                                 ...  \n",
       "1083                                      Web Developer  \n",
       "1084                                Web Engineer Intern  \n",
       "1085                                     Web Programmer  \n",
       "1086                                 Web UI/UX Designer  \n",
       "1087                                  Wireless Engineer  \n",
       "\n",
       "[1088 rows x 5 columns]"
      ]
     },
     "execution_count": 270,
     "metadata": {},
     "output_type": "execute_result"
    }
   ],
   "source": [
    "import pandas as pd\n",
    "import numpy as np\n",
    "from sklearn.metrics.pairwise import cosine_similarity\n",
    "from sklearn.feature_extraction.text import TfidfVectorizer\n",
    "from nltk.corpus import stopwords\n",
    "import re\n",
    "import random\n",
    "\n",
    "df = pd.read_csv(\"scrapping-kampus-merdeka/CSV/dataset_tugas_falah_english.csv\")\n",
    "\n",
    "df"
   ]
  },
  {
   "cell_type": "markdown",
   "metadata": {},
   "source": [
    "<br>\n",
    "<h2><b>1. Ikhtisar</b></h2>"
   ]
  },
  {
   "cell_type": "code",
   "execution_count": 271,
   "metadata": {},
   "outputs": [
    {
     "data": {
      "text/html": [
       "<div>\n",
       "<style scoped>\n",
       "    .dataframe tbody tr th:only-of-type {\n",
       "        vertical-align: middle;\n",
       "    }\n",
       "\n",
       "    .dataframe tbody tr th {\n",
       "        vertical-align: top;\n",
       "    }\n",
       "\n",
       "    .dataframe thead th {\n",
       "        text-align: right;\n",
       "    }\n",
       "</style>\n",
       "<table border=\"1\" class=\"dataframe\">\n",
       "  <thead>\n",
       "    <tr style=\"text-align: right;\">\n",
       "      <th></th>\n",
       "      <th>mitra_name</th>\n",
       "      <th>address</th>\n",
       "      <th>description</th>\n",
       "      <th>program</th>\n",
       "      <th>course_position</th>\n",
       "    </tr>\n",
       "  </thead>\n",
       "  <tbody>\n",
       "    <tr>\n",
       "      <th>count</th>\n",
       "      <td>1088</td>\n",
       "      <td>1088</td>\n",
       "      <td>1088</td>\n",
       "      <td>1088</td>\n",
       "      <td>1088</td>\n",
       "    </tr>\n",
       "    <tr>\n",
       "      <th>unique</th>\n",
       "      <td>90</td>\n",
       "      <td>78</td>\n",
       "      <td>1070</td>\n",
       "      <td>3</td>\n",
       "      <td>871</td>\n",
       "    </tr>\n",
       "    <tr>\n",
       "      <th>top</th>\n",
       "      <td>PT ECART WEBPORTAL INDONESIA</td>\n",
       "      <td>(Alamat Tidak Tersedia)</td>\n",
       "      <td>Agility</td>\n",
       "      <td>Magang</td>\n",
       "      <td>Business Development</td>\n",
       "    </tr>\n",
       "    <tr>\n",
       "      <th>freq</th>\n",
       "      <td>113</td>\n",
       "      <td>294</td>\n",
       "      <td>6</td>\n",
       "      <td>991</td>\n",
       "      <td>11</td>\n",
       "    </tr>\n",
       "  </tbody>\n",
       "</table>\n",
       "</div>"
      ],
      "text/plain": [
       "                          mitra_name                  address description  \\\n",
       "count                           1088                     1088        1088   \n",
       "unique                            90                       78        1070   \n",
       "top     PT ECART WEBPORTAL INDONESIA  (Alamat Tidak Tersedia)     Agility   \n",
       "freq                             113                      294           6   \n",
       "\n",
       "       program       course_position  \n",
       "count     1088                  1088  \n",
       "unique       3                   871  \n",
       "top     Magang  Business Development  \n",
       "freq       991                    11  "
      ]
     },
     "execution_count": 271,
     "metadata": {},
     "output_type": "execute_result"
    }
   ],
   "source": [
    "df.describe()"
   ]
  },
  {
   "cell_type": "code",
   "execution_count": 272,
   "metadata": {},
   "outputs": [
    {
     "name": "stdout",
     "output_type": "stream",
     "text": [
      "<class 'pandas.core.frame.DataFrame'>\n",
      "RangeIndex: 1088 entries, 0 to 1087\n",
      "Data columns (total 5 columns):\n",
      " #   Column           Non-Null Count  Dtype \n",
      "---  ------           --------------  ----- \n",
      " 0   mitra_name       1088 non-null   object\n",
      " 1   address          1088 non-null   object\n",
      " 2   description      1088 non-null   object\n",
      " 3   program          1088 non-null   object\n",
      " 4   course_position  1088 non-null   object\n",
      "dtypes: object(5)\n",
      "memory usage: 42.6+ KB\n"
     ]
    }
   ],
   "source": [
    "df.info()"
   ]
  },
  {
   "cell_type": "markdown",
   "metadata": {},
   "source": [
    "<br>\n",
    "<h2><b>2. Deskripsi Modul & Kompetensi</b> (Sebelum Preprocessing)</h2>"
   ]
  },
  {
   "cell_type": "code",
   "execution_count": 273,
   "metadata": {},
   "outputs": [],
   "source": [
    "def print_description(index):\n",
    "    example = df[df.index == index][['description', 'mitra_name', 'address', 'program', 'course_position']].values[0]\n",
    "    if len(example) > 0:\n",
    "        print(example[0], '\\n')\n",
    "        print('NAMA PERUSAHAAN\\t:', example[1])\n",
    "        print('ALAMAT\\t\\t:', example[2])\n",
    "        print('PROGRAM MBKM\\t:', example[3])\n",
    "        print('KURSUS/POSISI\\t:', example[4])\n",
    "        print()"
   ]
  },
  {
   "cell_type": "code",
   "execution_count": 274,
   "metadata": {},
   "outputs": [
    {
     "name": "stdout",
     "output_type": "stream",
     "text": [
      "Digital integrated blended learning Student-centred classroom management in blended learning Assessment and its role in blended learning Curriculum and competencies of the Future Profile and role of a 21st century digital teacher Profile and needs of a 21st century learner Effective communication skills for teachers Design Thinking in Learning The concept of blended learning, effective blended learning strategies and their application in learning practice Designing effective blended learning Final project \n",
      "\n",
      "NAMA PERUSAHAAN\t: PT Semesta Integrasi Digital\n",
      "ALAMAT\t\t: Jl. Jeruk Purut Dalam No.33, RT.6/RW.3, Cilandak Tim., Kec. Ps. Minggu, Kota Jakarta Selatan, Daerah Khusus Ibukota Jakarta 12560.\n",
      "PROGRAM MBKM\t: Studi Independen\n",
      "KURSUS/POSISI\t: 21st-Century Digital Educator (Guru Digital Abad 21)\n",
      "\n"
     ]
    }
   ],
   "source": [
    "print_description(1)"
   ]
  },
  {
   "cell_type": "code",
   "execution_count": 275,
   "metadata": {},
   "outputs": [
    {
     "name": "stdout",
     "output_type": "stream",
     "text": [
      "Implementation of communication with the API server Database implementation Black-box testing of applications Implementation of REST API Development of API documentation Implementation of application interfaces using the React JS framework Dynamic teamwork \n",
      "\n",
      "NAMA PERUSAHAAN\t: PT Bejana Investidata Globalindo\n",
      "ALAMAT\t\t: Jl. Cipaku Indah III No. 14, Bandung, Jawa Barat, Indonesia, 40143\n",
      "PROGRAM MBKM\t: Magang\n",
      "KURSUS/POSISI\t: Full-Stack Developer\n",
      "\n"
     ]
    }
   ],
   "source": [
    "print_description(500)"
   ]
  },
  {
   "cell_type": "code",
   "execution_count": 276,
   "metadata": {},
   "outputs": [
    {
     "name": "stdout",
     "output_type": "stream",
     "text": [
      "Mail Server Installation & Configuration Preparing a Recovery Plan in the Event of Fatal Damage Designing Server Requirements Proxy Server Installation & Configuration Web Server Installation & Configuration Database Server Installation & Configuration Firewall Acceptance Test Installation & Configuration DHCP Server Configuration DNS Server Configuration \n",
      "\n",
      "NAMA PERUSAHAAN\t: PT Cloud Hosting Indonesia\n",
      "ALAMAT\t\t: Sentral Senayan II, Jl. Asia Afrika No.8, RT.1/RW.3, Gelora, Kecamatan Tanah Abang, Kota Jakarta Pusat, Daerah Khusus Ibukota Jakarta 10270\n",
      "PROGRAM MBKM\t: Magang\n",
      "KURSUS/POSISI\t: System Engineer\n",
      "\n"
     ]
    }
   ],
   "source": [
    "print_description(990)"
   ]
  },
  {
   "cell_type": "markdown",
   "metadata": {},
   "source": [
    "<br>\n",
    "<h2><b>3. Text Preprocessing</b></h2>"
   ]
  },
  {
   "cell_type": "code",
   "execution_count": 277,
   "metadata": {},
   "outputs": [],
   "source": [
    "clean_spcl = re.compile('[/(){}\\[\\]\\|@,;]')\n",
    "clean_symbol = re.compile('[^0-9a-z #+_]')\n",
    "stopworda = set(stopwords.words('english'))\n",
    "\n",
    "def clean_text(text):\n",
    "    \"\"\"\n",
    "        text: a string\n",
    "        \n",
    "        return: modified initial string\n",
    "    \"\"\"\n",
    "    text = text.lower() # lowercase text\n",
    "    text = clean_spcl.sub(' ', text)\n",
    "    text = clean_symbol.sub('', text)\n",
    "    text = ' '.join(word for word in text.split() if word not in stopworda) # hapus stopword dari kolom deskripsi\n",
    "    return text\n",
    "    \n",
    "df['desc_clean'] = df['description'].apply(clean_text)"
   ]
  },
  {
   "cell_type": "code",
   "execution_count": 278,
   "metadata": {},
   "outputs": [
    {
     "data": {
      "text/html": [
       "<div>\n",
       "<style scoped>\n",
       "    .dataframe tbody tr th:only-of-type {\n",
       "        vertical-align: middle;\n",
       "    }\n",
       "\n",
       "    .dataframe tbody tr th {\n",
       "        vertical-align: top;\n",
       "    }\n",
       "\n",
       "    .dataframe thead th {\n",
       "        text-align: right;\n",
       "    }\n",
       "</style>\n",
       "<table border=\"1\" class=\"dataframe\">\n",
       "  <thead>\n",
       "    <tr style=\"text-align: right;\">\n",
       "      <th></th>\n",
       "      <th>mitra_name</th>\n",
       "      <th>address</th>\n",
       "      <th>description</th>\n",
       "      <th>program</th>\n",
       "      <th>course_position</th>\n",
       "      <th>desc_clean</th>\n",
       "    </tr>\n",
       "  </thead>\n",
       "  <tbody>\n",
       "    <tr>\n",
       "      <th>0</th>\n",
       "      <td>Muhammad Falah Abdurrafi</td>\n",
       "      <td>Kaliwungu Selatan, Kendal, Jawa Tengah, 51372</td>\n",
       "      <td>Programming Algorithm, Programming Language, D...</td>\n",
       "      <td>Kuliah</td>\n",
       "      <td>Mata Kuliah</td>\n",
       "      <td>programming algorithm programming language dig...</td>\n",
       "    </tr>\n",
       "    <tr>\n",
       "      <th>1</th>\n",
       "      <td>PT Semesta Integrasi Digital</td>\n",
       "      <td>Jl. Jeruk Purut Dalam No.33, RT.6/RW.3, Ciland...</td>\n",
       "      <td>Digital integrated blended learning Student-ce...</td>\n",
       "      <td>Studi Independen</td>\n",
       "      <td>21st-Century Digital Educator (Guru Digital Ab...</td>\n",
       "      <td>digital integrated blended learning studentcen...</td>\n",
       "    </tr>\n",
       "    <tr>\n",
       "      <th>2</th>\n",
       "      <td>PT STECHOQ ROBOTIKA INDONESIA</td>\n",
       "      <td>Jalan Belimbing A-17 Perum Sidoarum Blok II, G...</td>\n",
       "      <td>Pre Production Advanced 3D Final Production Po...</td>\n",
       "      <td>Studi Independen</td>\n",
       "      <td>3D Designing Course for Digital Transformation...</td>\n",
       "      <td>pre production advanced 3d final production po...</td>\n",
       "    </tr>\n",
       "    <tr>\n",
       "      <th>3</th>\n",
       "      <td>Terra Weather Pte. Ltd</td>\n",
       "      <td>10 Bukit Batok Crescent, 04-03D The Spire, Sin...</td>\n",
       "      <td>Design Thinking for Web-Based, Data-Driven Int...</td>\n",
       "      <td>Studi Independen</td>\n",
       "      <td>AI4IMPACT Apprenticeship - REVOLUSI EDUKASI</td>\n",
       "      <td>design thinking webbased datadriven interactiv...</td>\n",
       "    </tr>\n",
       "    <tr>\n",
       "      <th>4</th>\n",
       "      <td>Terra Weather Pte. Ltd</td>\n",
       "      <td>10 Bukit Batok Crescent, 04-03D The Spire, Sin...</td>\n",
       "      <td>Chatbot Basics Design Thinking for Business an...</td>\n",
       "      <td>Studi Independen</td>\n",
       "      <td>AI4IMPACT Apprenticeship - TOKOBOT</td>\n",
       "      <td>chatbot basics design thinking business market...</td>\n",
       "    </tr>\n",
       "  </tbody>\n",
       "</table>\n",
       "</div>"
      ],
      "text/plain": [
       "                      mitra_name  \\\n",
       "0       Muhammad Falah Abdurrafi   \n",
       "1   PT Semesta Integrasi Digital   \n",
       "2  PT STECHOQ ROBOTIKA INDONESIA   \n",
       "3         Terra Weather Pte. Ltd   \n",
       "4         Terra Weather Pte. Ltd   \n",
       "\n",
       "                                             address  \\\n",
       "0      Kaliwungu Selatan, Kendal, Jawa Tengah, 51372   \n",
       "1  Jl. Jeruk Purut Dalam No.33, RT.6/RW.3, Ciland...   \n",
       "2  Jalan Belimbing A-17 Perum Sidoarum Blok II, G...   \n",
       "3  10 Bukit Batok Crescent, 04-03D The Spire, Sin...   \n",
       "4  10 Bukit Batok Crescent, 04-03D The Spire, Sin...   \n",
       "\n",
       "                                         description           program  \\\n",
       "0  Programming Algorithm, Programming Language, D...            Kuliah   \n",
       "1  Digital integrated blended learning Student-ce...  Studi Independen   \n",
       "2  Pre Production Advanced 3D Final Production Po...  Studi Independen   \n",
       "3  Design Thinking for Web-Based, Data-Driven Int...  Studi Independen   \n",
       "4  Chatbot Basics Design Thinking for Business an...  Studi Independen   \n",
       "\n",
       "                                     course_position  \\\n",
       "0                                        Mata Kuliah   \n",
       "1  21st-Century Digital Educator (Guru Digital Ab...   \n",
       "2  3D Designing Course for Digital Transformation...   \n",
       "3        AI4IMPACT Apprenticeship - REVOLUSI EDUKASI   \n",
       "4                 AI4IMPACT Apprenticeship - TOKOBOT   \n",
       "\n",
       "                                          desc_clean  \n",
       "0  programming algorithm programming language dig...  \n",
       "1  digital integrated blended learning studentcen...  \n",
       "2  pre production advanced 3d final production po...  \n",
       "3  design thinking webbased datadriven interactiv...  \n",
       "4  chatbot basics design thinking business market...  "
      ]
     },
     "execution_count": 278,
     "metadata": {},
     "output_type": "execute_result"
    }
   ],
   "source": [
    "df.head()"
   ]
  },
  {
   "cell_type": "markdown",
   "metadata": {},
   "source": [
    "<br>\n",
    "<h2><b>4. Deskripsi Modul & Kompetensi</b> (Setelah Preprocessing)</h2>"
   ]
  },
  {
   "cell_type": "code",
   "execution_count": 279,
   "metadata": {},
   "outputs": [],
   "source": [
    "# Deskripsi kedua (Setelah preprocessing)\n",
    "def print_description_clean(index):\n",
    "    example = df[df.index == index][['desc_clean', 'mitra_name', 'address', 'program', 'course_position']].values[0]\n",
    "    if len(example) > 0:\n",
    "        print(example[0], '\\n')\n",
    "        print('NAMA PERUSAHAAN\\t:', example[1])\n",
    "        print('ALAMAT\\t\\t:', example[2])\n",
    "        print('PROGRAM MBKM\\t:', example[3])\n",
    "        print('KURSUS/POSISI\\t:', example[4])\n",
    "        print()"
   ]
  },
  {
   "cell_type": "code",
   "execution_count": 280,
   "metadata": {},
   "outputs": [
    {
     "name": "stdout",
     "output_type": "stream",
     "text": [
      "digital integrated blended learning studentcentred classroom management blended learning assessment role blended learning curriculum competencies future profile role 21st century digital teacher profile needs 21st century learner effective communication skills teachers design thinking learning concept blended learning effective blended learning strategies application learning practice designing effective blended learning final project \n",
      "\n",
      "NAMA PERUSAHAAN\t: PT Semesta Integrasi Digital\n",
      "ALAMAT\t\t: Jl. Jeruk Purut Dalam No.33, RT.6/RW.3, Cilandak Tim., Kec. Ps. Minggu, Kota Jakarta Selatan, Daerah Khusus Ibukota Jakarta 12560.\n",
      "PROGRAM MBKM\t: Studi Independen\n",
      "KURSUS/POSISI\t: 21st-Century Digital Educator (Guru Digital Abad 21)\n",
      "\n"
     ]
    }
   ],
   "source": [
    "print_description_clean(1)"
   ]
  },
  {
   "cell_type": "code",
   "execution_count": 281,
   "metadata": {},
   "outputs": [
    {
     "name": "stdout",
     "output_type": "stream",
     "text": [
      "implementation communication api server database implementation blackbox testing applications implementation rest api development api documentation implementation application interfaces using react js framework dynamic teamwork \n",
      "\n",
      "NAMA PERUSAHAAN\t: PT Bejana Investidata Globalindo\n",
      "ALAMAT\t\t: Jl. Cipaku Indah III No. 14, Bandung, Jawa Barat, Indonesia, 40143\n",
      "PROGRAM MBKM\t: Magang\n",
      "KURSUS/POSISI\t: Full-Stack Developer\n",
      "\n"
     ]
    }
   ],
   "source": [
    "print_description_clean(500)"
   ]
  },
  {
   "cell_type": "code",
   "execution_count": 282,
   "metadata": {},
   "outputs": [
    {
     "name": "stdout",
     "output_type": "stream",
     "text": [
      "Mail Server Installation & Configuration Preparing a Recovery Plan in the Event of Fatal Damage Designing Server Requirements Proxy Server Installation & Configuration Web Server Installation & Configuration Database Server Installation & Configuration Firewall Acceptance Test Installation & Configuration DHCP Server Configuration DNS Server Configuration \n",
      "\n",
      "NAMA PERUSAHAAN\t: PT Cloud Hosting Indonesia\n",
      "ALAMAT\t\t: Sentral Senayan II, Jl. Asia Afrika No.8, RT.1/RW.3, Gelora, Kecamatan Tanah Abang, Kota Jakarta Pusat, Daerah Khusus Ibukota Jakarta 10270\n",
      "PROGRAM MBKM\t: Magang\n",
      "KURSUS/POSISI\t: System Engineer\n",
      "\n"
     ]
    }
   ],
   "source": [
    "print_description(990)"
   ]
  },
  {
   "cell_type": "markdown",
   "metadata": {},
   "source": [
    "<br>\n",
    "<h2><b>5. TF-IDF & Cosine Similarity</b></h2>"
   ]
  },
  {
   "cell_type": "code",
   "execution_count": 283,
   "metadata": {},
   "outputs": [
    {
     "data": {
      "text/plain": [
       "array([[1.00000000e+00, 1.69724203e-02, 7.58889654e-04, ...,\n",
       "        9.45390094e-04, 5.39507574e-03, 2.67508650e-03],\n",
       "       [1.69724203e-02, 1.00000000e+00, 4.96338224e-03, ...,\n",
       "        1.94367185e-03, 4.82164936e-03, 5.49983584e-03],\n",
       "       [7.58889654e-04, 4.96338224e-03, 1.00000000e+00, ...,\n",
       "        1.95761305e-03, 0.00000000e+00, 5.53928401e-03],\n",
       "       ...,\n",
       "       [9.45390094e-04, 1.94367185e-03, 1.95761305e-03, ...,\n",
       "        1.00000000e+00, 0.00000000e+00, 2.76674856e-02],\n",
       "       [5.39507574e-03, 4.82164936e-03, 0.00000000e+00, ...,\n",
       "        0.00000000e+00, 1.00000000e+00, 0.00000000e+00],\n",
       "       [2.67508650e-03, 5.49983584e-03, 5.53928401e-03, ...,\n",
       "        2.76674856e-02, 0.00000000e+00, 1.00000000e+00]])"
      ]
     },
     "execution_count": 283,
     "metadata": {},
     "output_type": "execute_result"
    }
   ],
   "source": [
    "df.set_index('mitra_name', inplace=True)\n",
    "tf = TfidfVectorizer(analyzer='word', ngram_range=(1, 3), min_df=0, stop_words='english')\n",
    "tfidf_matrix = tf.fit_transform(df['desc_clean'])\n",
    "cos_sim = cosine_similarity(tfidf_matrix, tfidf_matrix)\n",
    "cos_sim"
   ]
  },
  {
   "cell_type": "code",
   "execution_count": 284,
   "metadata": {},
   "outputs": [
    {
     "data": {
      "text/plain": [
       "0                              Muhammad Falah Abdurrafi\n",
       "1                          PT Semesta Integrasi Digital\n",
       "2                         PT STECHOQ ROBOTIKA INDONESIA\n",
       "3                                Terra Weather Pte. Ltd\n",
       "4                                Terra Weather Pte. Ltd\n",
       "5                            PT Orbit Ventura Indonesia\n",
       "6                             PT Mitra Semeru Indonesia\n",
       "7                            PT Orbit Ventura Indonesia\n",
       "8                          PT Nurul Fikri Cipta Inovasi\n",
       "9                          PT Nurul Fikri Cipta Inovasi\n",
       "10                         PT Nurul Fikri Cipta Inovasi\n",
       "11                          PT LENTERA BANGSA BENDERANG\n",
       "12                    PT Hacktivate Teknologi Indonesia\n",
       "13    PT Panji Edukasi Nusantara / Apple Developer A...\n",
       "14                   PT. Sintesis Komunikasi Indonesia \n",
       "15                              PT Ruang Raya Indonesia\n",
       "16                          PT LENTERA BANGSA BENDERANG\n",
       "17                          PT LENTERA BANGSA BENDERANG\n",
       "18                                 PT Cloud Ace Integra\n",
       "19                              PT Marka Kreasi Persada\n",
       "20                           PT Neosia Pratama Indonusa\n",
       "21                         PT BISA ARTIFISIAL INDONESIA\n",
       "22                         PT BISA ARTIFISIAL INDONESIA\n",
       "23                           PT Neosia Pratama Indonusa\n",
       "24            PT CADFEM SIMULATION TECHNOLOGY INDONESIA\n",
       "25            PT CADFEM SIMULATION TECHNOLOGY INDONESIA\n",
       "26                                PT Mitra Talenta Grup\n",
       "27                    PT Chairos International Ventures\n",
       "28                                    PT DWI INTI PUTRA\n",
       "29                         PT Greatedu Global Mahardika\n",
       "30                             PT. INDOBIT DIGITAL RAYA\n",
       "31                       PT Mitra Integrasi Informatika\n",
       "32                              PT Ruang Raya Indonesia\n",
       "33                                    PT DWI INTI PUTRA\n",
       "34                            PT Mitra Semeru Indonesia\n",
       "35           Perkumpulan Sosial Ekonomi Akselerator Lab\n",
       "36                            PT Mitra Semeru Indonesia\n",
       "37                        PT STECHOQ ROBOTIKA INDONESIA\n",
       "38                        PT STECHOQ ROBOTIKA INDONESIA\n",
       "39                        PT STECHOQ ROBOTIKA INDONESIA\n",
       "40                              PT Marka Kreasi Persada\n",
       "41                              PT Ruang Raya Indonesia\n",
       "42                          PT LENTERA BANGSA BENDERANG\n",
       "43                       PT Mitra Integrasi Informatika\n",
       "44                          PT LENTERA BANGSA BENDERANG\n",
       "45                    PT Hacktivate Teknologi Indonesia\n",
       "46                        PT STECHOQ ROBOTIKA INDONESIA\n",
       "47                              PT Marka Kreasi Persada\n",
       "48                                PT Ozami Inti Sinergi\n",
       "49                         PT BISA ARTIFISIAL INDONESIA\n",
       "Name: mitra_name, dtype: object"
      ]
     },
     "execution_count": 284,
     "metadata": {},
     "output_type": "execute_result"
    }
   ],
   "source": [
    "# Set index utama di kolom 'name'\n",
    "indices = pd.Series(df.index)\n",
    "indices[:50]"
   ]
  },
  {
   "cell_type": "markdown",
   "metadata": {},
   "source": [
    "<br>\n",
    "<h2><b>6. Modelling</b></h2>"
   ]
  },
  {
   "cell_type": "code",
   "execution_count": 285,
   "metadata": {},
   "outputs": [],
   "source": [
    "def recommendations(name, cos_sim = cos_sim):\n",
    "    \n",
    "    recommended_mbkm = {'mitra_name': [],\n",
    "                       'address': [],\n",
    "                       'program': [],\n",
    "                       'course_position': []}\n",
    "    \n",
    "    # Mengambil nama hotel berdasarkan variabel indicies\n",
    "    idx = indices[indices == name].index[0]\n",
    "\n",
    "    # Membuat series berdasarkan skor kesamaan\n",
    "    score_series = pd.Series(cos_sim[idx]).sort_values(ascending = False)\n",
    "\n",
    "    # mengambil index dan dibuat 10 baris rekomendasi terbaik\n",
    "    top_10_indexes = list(score_series.iloc[1:11].index)\n",
    "    \n",
    "#     for i in top_10_indexes:\n",
    "#       recommended_mbkm['mitra_name'].append(list(df.index)[i])\n",
    "#       recommended_mbkm['address'].append(list(df['address'])[i])\n",
    "#       recommended_mbkm['program'].append(list(df['program'])[i])\n",
    "#       recommended_mbkm['course_position'].append(list(df['course_position'])[i])\n",
    "      \n",
    "#     return recommended_mbkm\n",
    "    \n",
    "    print(\"\\nREKOMENDASI PERUSAHAAN MITRA KAMPUS MERDEKA\\n\")\n",
    "    print(\"=\"*60)\n",
    "    \n",
    "    for i in top_10_indexes:\n",
    "      \n",
    "      if list(df['program'])[i] == \"Magang\":\n",
    "        kursus_or_posisi = \"POSISI\"\n",
    "      else:\n",
    "        kursus_or_posisi = \"KURSUS\"\n",
    "      \n",
    "      print()\n",
    "      print('NAMA PERUSAHAAN\\t:', list(df.index)[i])\n",
    "      print('PROGRAM MBKM\\t:', list(df['program'])[i].upper())\n",
    "      print(f'{kursus_or_posisi}\\t\\t:', list(df['course_position'])[i])\n",
    "      print('ALAMAT\\t\\t:', list(df['address'])[i])\n",
    "      print()\n",
    "      print(\"=\"*60)"
   ]
  },
  {
   "cell_type": "markdown",
   "metadata": {},
   "source": [
    "<br>\n",
    "<h2><b>7. Prediksi</b></h2>"
   ]
  },
  {
   "cell_type": "code",
   "execution_count": 286,
   "metadata": {},
   "outputs": [
    {
     "name": "stdout",
     "output_type": "stream",
     "text": [
      "\n",
      "REKOMENDASI PERUSAHAAN MITRA KAMPUS MERDEKA\n",
      "\n",
      "============================================================\n",
      "\n",
      "NAMA PERUSAHAAN\t: PT XL Axiata Tbk\n",
      "PROGRAM MBKM\t: MAGANG\n",
      "POSISI\t\t: Technology Security -A Intern\n",
      "ALAMAT\t\t: (Alamat Tidak Tersedia)\n",
      "\n",
      "============================================================\n",
      "\n",
      "NAMA PERUSAHAAN\t: PT STECHOQ ROBOTIKA INDONESIA\n",
      "PROGRAM MBKM\t: MAGANG\n",
      "POSISI\t\t: Software Engineer for Digital Transformation and Industry 4.0\n",
      "ALAMAT\t\t: Jalan Belimbing A-17 Perum Sidoarum Blok II, Godean, Sleman, Yogyakarta\n",
      "\n",
      "============================================================\n",
      "\n",
      "NAMA PERUSAHAAN\t: PT Disty Teknologi Indonesia\n",
      "PROGRAM MBKM\t: MAGANG\n",
      "POSISI\t\t: Web Developer\n",
      "ALAMAT\t\t: Gedung Graha Pena Lantai 5 Jl. A.Yani No. 88 Surabaya\n",
      "\n",
      "============================================================\n",
      "\n",
      "NAMA PERUSAHAAN\t: PT GIT SOLUTION\n",
      "PROGRAM MBKM\t: MAGANG\n",
      "POSISI\t\t: Full Stack Web Developer\n",
      "ALAMAT\t\t: (Alamat Tidak Tersedia)\n",
      "\n",
      "============================================================\n",
      "\n",
      "NAMA PERUSAHAAN\t: PT Home Credit Indonesia\n",
      "PROGRAM MBKM\t: MAGANG\n",
      "POSISI\t\t: Flutter Developer\n",
      "ALAMAT\t\t: Plaza Oleos Lantai 8 Jl. TB Simatupang No. 53A, Jakarta Selatan 12520 \n",
      "\n",
      "============================================================\n",
      "\n",
      "NAMA PERUSAHAAN\t: PT Home Credit Indonesia\n",
      "PROGRAM MBKM\t: MAGANG\n",
      "POSISI\t\t: Web Developer\n",
      "ALAMAT\t\t: Plaza Oleos Lantai 8 Jl. TB Simatupang No. 53A, Jakarta Selatan 12520 \n",
      "\n",
      "============================================================\n",
      "\n",
      "NAMA PERUSAHAAN\t: PT Mitra Integrasi Informatika\n",
      "PROGRAM MBKM\t: STUDI INDEPENDEN\n",
      "KURSUS\t\t: Full Stack Developer\n",
      "ALAMAT\t\t: APL Tower Lantai 37, Jl. Letjen S. Parman Kav. 28, RT.12/RW.6, Tj. Duren Sel., Jakarta Barat, Kota Jakarta Barat, Daerah Khusus Ibukota Jakarta 11470\n",
      "\n",
      "============================================================\n",
      "\n",
      "NAMA PERUSAHAAN\t: PT TELEKOMUNIKASI SELULAR\n",
      "PROGRAM MBKM\t: MAGANG\n",
      "POSISI\t\t: Software Development Intern\n",
      "ALAMAT\t\t: The Telkom Hub, Jl. Gatot Subroto No.Kav. 52, RT.6/RW.1, Kuningan Bar., Kec. Mampang Prpt., Kota Jakarta Selatan, Daerah Khusus Ibukota Jakarta 12710\n",
      "\n",
      "============================================================\n",
      "\n",
      "NAMA PERUSAHAAN\t: PT Presentologics\n",
      "PROGRAM MBKM\t: STUDI INDEPENDEN\n",
      "KURSUS\t\t: Pengembang Machine Learning dan Front-End Web\n",
      "ALAMAT\t\t: Dicoding Space Jl. Batik Kumeli no 50 Bandung, Indonesia\n",
      "\n",
      "============================================================\n",
      "\n",
      "NAMA PERUSAHAAN\t: PT Marka Kreasi Persada\n",
      "PROGRAM MBKM\t: STUDI INDEPENDEN\n",
      "KURSUS\t\t: Mastering Flutter. From Zero to Hero Engineer Program\n",
      "ALAMAT\t\t: (Alamat Tidak Tersedia)\n",
      "\n",
      "============================================================\n"
     ]
    }
   ],
   "source": [
    "recommendations('Muhammad Falah Abdurrafi')"
   ]
  },
  {
   "cell_type": "markdown",
   "metadata": {},
   "source": [
    "<br>\n",
    "<h2><b>Selesai....</b></h2>"
   ]
  }
 ],
 "metadata": {
  "kernelspec": {
   "display_name": "Python 3 (ipykernel)",
   "language": "python",
   "name": "python3"
  },
  "language_info": {
   "codemirror_mode": {
    "name": "ipython",
    "version": 3
   },
   "file_extension": ".py",
   "mimetype": "text/x-python",
   "name": "python",
   "nbconvert_exporter": "python",
   "pygments_lexer": "ipython3",
   "version": "3.9.12"
  }
 },
 "nbformat": 4,
 "nbformat_minor": 4
}
