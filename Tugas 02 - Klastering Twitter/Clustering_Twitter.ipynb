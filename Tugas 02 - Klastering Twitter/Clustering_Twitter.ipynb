{
 "cells": [
  {
   "cell_type": "markdown",
   "id": "59d44dd2-1860-4f02-81fa-a085184432c4",
   "metadata": {},
   "source": [
    "<h1 style=\"text-align:center\"><b>Tugas Klastering Twitter</b></h1>"
   ]
  },
  {
   "cell_type": "markdown",
   "id": "9cdc57c4-aed2-4c75-bf5f-f1b397ccc400",
   "metadata": {},
   "source": [
    "<hr>\n",
    "<table>\n",
    "    <tr>\n",
    "        <td><b>NIM</b></td>\n",
    "        <td>:</td>\n",
    "        <td>20.01.53.0033</td>\n",
    "    </tr>\n",
    "    <tr>\n",
    "        <td><b>Nama</b></td>\n",
    "        <td>:</td>\n",
    "        <td>MUHAMMAD FALAH ABDURRAFI</td>\n",
    "    </tr>\n",
    "    <tr>\n",
    "        <td><b>Progdi</b></td>\n",
    "        <td>:</td>\n",
    "        <td>Teknik Informatika - S1</td>\n",
    "    </tr>\n",
    "    <tr>\n",
    "        <td><b>Mata Kuliah</b></td>\n",
    "        <td>:</td>\n",
    "        <td>Text Mining</td>\n",
    "    </tr>\n",
    "    <tr>\n",
    "        <td><b>Kelas</b></td>\n",
    "        <td>:</td>\n",
    "        <td>A1</td>\n",
    "    </tr>\n",
    "    <tr>\n",
    "        <td><b>Dosen Pengampu</b></td>\n",
    "        <td>:</td>\n",
    "        <td>Dr. Drs. ERI ZULIARSO, M.Kom.</td>\n",
    "    </tr>\n",
    "</table>\n",
    "<hr>"
   ]
  },
  {
   "cell_type": "markdown",
   "id": "8e63606b-0d66-4cd8-beaf-b97a004e4b00",
   "metadata": {},
   "source": [
    "<br><br>\n",
    "<h1><b>1. Scrapping (SNScrape)</b></h1>\n",
    "<hr>"
   ]
  },
  {
   "cell_type": "markdown",
   "id": "2abe969a-6ea8-4363-a83b-72e46d13c92c",
   "metadata": {},
   "source": [
    "<br>\n",
    "<h3><b>1.1. Import Library</b></h3>"
   ]
  },
  {
   "cell_type": "code",
   "execution_count": 1,
   "id": "75300ee2-9558-4f0a-a25c-1d6d85a30d4a",
   "metadata": {},
   "outputs": [],
   "source": [
    "import snscrape.modules.twitter as sntwitter\n",
    "import json\n",
    "from langdetect import detect"
   ]
  },
  {
   "cell_type": "markdown",
   "id": "e416db4d-1823-42c2-986d-6e0f85d2827b",
   "metadata": {},
   "source": [
    "<br>\n",
    "<h3><b>1.2. Menentukan Variabel Pencarian</b></h3>\n",
    "<ul>\n",
    "    <li>Kata kunci pencarian = <b>pssi</b></li>\n",
    "    <li>Batas awal dan akhir dari tanggal tweet di-post = <b></b></li>\n",
    "    <li>Batas maksimum tweet yang dicari = <b></b></li>\n",
    "    <li>Nama file dari output pencarian yang berupa file JSON = <b>tweet.json</b></li>\n",
    "    <li>Bahasa yang digunakan oleh tweet yang dicari = <b>Indonesia</b></li>\n",
    "</ul>"
   ]
  },
  {
   "cell_type": "code",
   "execution_count": 85,
   "id": "a8d50208-98bc-4783-9b59-785b12dae345",
   "metadata": {},
   "outputs": [],
   "source": [
    "keywords=['pssi']\n",
    "start=\"2022–09–01\"\n",
    "end =\"2022–10–03\"\n",
    "max_num=100\n",
    "fname='tweet.json' \n",
    "languages=['id']"
   ]
  },
  {
   "cell_type": "markdown",
   "id": "3cfafb83-1d4e-4f23-9d6a-6a33d93c723d",
   "metadata": {},
   "source": [
    "<br>\n",
    "<h3><b>1.3. Proses Scrapping</b></h3>\n",
    "<ul>\n",
    "    <li>Melakukan proses scrapping tweet menggunakan <b><i>SNScrape</i></b> berdasarkan variabel-variabel yang sudah ditentukan sebelumnya.</li>\n",
    "    <li>Akan mengembalikan file JSON yang berisi <b><i>id, username, date, text, url</i></b>.</li>\n",
    "    <li>Khusus data <b><i>text</i></b> (tweet) dari JSON akan disimpan ke dalam sebuah list tersendiri, yaitu <b><i>documents_twitter</i></b>.</li>\n",
    "</ul>"
   ]
  },
  {
   "cell_type": "code",
   "execution_count": 86,
   "id": "4fc67526-2c25-41d0-b70c-963b090a343c",
   "metadata": {
    "scrolled": true,
    "tags": []
   },
   "outputs": [
    {
     "name": "stderr",
     "output_type": "stream",
     "text": [
      "C:\\Users\\ASUS\\AppData\\Local\\Temp\\ipykernel_4344\\3992385352.py:14: FutureWarning: username is deprecated, use user.username instead\n",
      "  data = {'id': tweet.id, 'username':tweet.username, 'date': tweet.date, 'text': tweet.content,'url':tweet.url}\n"
     ]
    },
    {
     "name": "stdout",
     "output_type": "stream",
     "text": [
      "{\"id\": 1581232676526510080, \"username\": \"panditfootball\", \"date\": \"2022-10-15 10:37:02+00:00\", \"text\": \"Pemerintah tidak akan memberikan izin bergulirnya liga jika PSSI belum melakukan perubahan dan kesiapan dalam mengelola liga.\\n\\nSebelum itu, PSSI telah mengatakan jika liga diperkirakan akan berjalan pada tanggal 25 - 26 November 2022. https://t.co/oYYtX46QvQ\", \"url\": \"https://twitter.com/panditfootball/status/1581232676526510080\"}\n",
      "{\"id\": 1581232516723134465, \"username\": \"RisdaDais\", \"date\": \"2022-10-15 10:36:24+00:00\", \"text\": \"Terupdate! Kompetisi Liga 1 2022 Resmi Dilanjutkan, Ketua Umum PSSI Bocorkan Jadwal Persib Vs Persija Jakarta\\n#PERSIB #PersijaJakarta #PSSI #Kanjuruhan #pssiwajibtanggungjawab https://t.co/HmJq0c4OS6\", \"url\": \"https://twitter.com/RisdaDais/status/1581232516723134465\"}\n",
      "{\"id\": 1581232473475686405, \"username\": \"DulCharem\", \"date\": \"2022-10-15 10:36:14+00:00\", \"text\": \"@iIhamzada Ampun DJ Menpora pasang badan buat ketum PSSI Irwan bule dkk😜😜😜😜😜🤣🤣🤣PECAT Pak @jokowi tuh menpora gak jelas blast tuh bocah kalau Ibul dipecat atau mundur mungkin ATM berjalannya ilang kali yach🤔🤔🤔🤣🤣🤣🤣🤣\", \"url\": \"https://twitter.com/DulCharem/status/1581232473475686405\"}\n",
      "{\"id\": 1581232396237930497, \"username\": \"bajajkt\", \"date\": \"2022-10-15 10:35:55+00:00\", \"text\": \"Polri Hanya Gunakan Steward #shorts #polri #kanjuruhan #fifa #pssi https://t.co/hpV8SQLIBu lewat @YouTube \\n\\n#PerempuanDesa Amien Rais Menpora Marah Jam 4 Nassar JISOO #MONEY RIP Legend Rambut 15 Oktober Rest in Love\", \"url\": \"https://twitter.com/bajajkt/status/1581232396237930497\"}\n",
      "{\"id\": 1581232363832737792, \"username\": \"pepG55\", \"date\": \"2022-10-15 10:35:48+00:00\", \"text\": \"@tvOneNews Sayangnya... PSSI beserta jajarannya.. tidak memiliki moral yg di maksud ....\", \"url\": \"https://twitter.com/pepG55/status/1581232363832737792\"}\n",
      "{\"id\": 1581232301064998912, \"username\": \"twit_olahraga\", \"date\": \"2022-10-15 10:35:33+00:00\", \"text\": \"Sudah Terpojok, Ini 3 Alasan Ketum PSSI Harus Segera Mundur  https://t.co/5NydXbVUuG\", \"url\": \"https://twitter.com/twit_olahraga/status/1581232301064998912\"}\n",
      "{\"id\": 1581232229736673284, \"username\": \"ojolastin_\", \"date\": \"2022-10-15 10:35:16+00:00\", \"text\": \"Abangnya juga jgn terlalu offside jika berkomentar, FIFA ga ada bilang PSSI dapet sanksi apalagi dibekukan! Yg harus anda pahami, ratusan nyawa tlh pergi dan mereka masih saling lempar soal tanggung jawab.\\n\\nDemi kemanusiaan seharusnya PSSi harus dirombak total hingga akar²nya. https://t.co/8Gn2meZEU3\", \"url\": \"https://twitter.com/ojolastin_/status/1581232229736673284\"}\n",
      "{\"id\": 1581232207695204352, \"username\": \"harihaka\", \"date\": \"2022-10-15 10:35:10+00:00\", \"text\": \"@elmanohara @lantip tidak bisa mbak, di hasil investigasi TGIPF pemerintah tidak akan memberi ijin sampai dengan pssi dirombak, berarti turun dan meminta maaf atau tidak ada liga lagi, yes\", \"url\": \"https://twitter.com/harihaka/status/1581232207695204352\"}\n",
      "{\"id\": 1581232164016123905, \"username\": \"DrEvaChaniago\", \"date\": \"2022-10-15 10:35:00+00:00\", \"text\": \"TGPIF menyampaikan laporan ke Presiden\\nHasil investigasi bahwa PSSI bertanggung jawab meliputi Pidana &amp; Moral\\n\\n#PrayForKanjuruhan #StopGunakanGasAirMata #StopKekerasanTerhadapRakyat https://t.co/iISI4HEqPA\", \"url\": \"https://twitter.com/DrEvaChaniago/status/1581232164016123905\"}\n",
      "{\"id\": 1581232156122451969, \"username\": \"Zulkarn58515636\", \"date\": \"2022-10-15 10:34:58+00:00\", \"text\": \"@psi_id Ini PSI ndak kapok-kapok, segitu sama Ganjar gak dianggap partey penting ... disebutnya PSSI kalee ...\", \"url\": \"https://twitter.com/Zulkarn58515636/status/1581232156122451969\"}\n",
      "{\"id\": 1581231896171724800, \"username\": \"prasetypo\", \"date\": \"2022-10-15 10:33:56+00:00\", \"text\": \"Ya lo kira2 aja dah. Kaca helm abang gojek aja turun sendiri. Gak ada yg nyuruh. Masak Ketum PSSI kagak. https://t.co/eCEeSQsx2H\", \"url\": \"https://twitter.com/prasetypo/status/1581231896171724800\"}\n",
      "{\"id\": 1581231553501618176, \"username\": \"ikhsanbismo\", \"date\": \"2022-10-15 10:32:34+00:00\", \"text\": \"“Kabut aja turun, masa ketua PSSI kagak??” - mas @prasetypo https://t.co/rvwnERbogV\", \"url\": \"https://twitter.com/ikhsanbismo/status/1581231553501618176\"}\n",
      "{\"id\": 1581231400493408258, \"username\": \"YusronGyumir2\", \"date\": \"2022-10-15 10:31:58+00:00\", \"text\": \"@AyankLukman @tvOneNews Atasan sih ada, Tp Plangak Plongok pulaaak..Waktu bubarin FPI mereka bgtu kompak &amp; bersemangat. Lhaa ini, jelas2 memakan korban ratusan nyawa-Bubarin PSSI aja koq repot.??\", \"url\": \"https://twitter.com/YusronGyumir2/status/1581231400493408258\"}\n",
      "{\"id\": 1581231392058286081, \"username\": \"Pertiwi43253730\", \"date\": \"2022-10-15 10:31:56+00:00\", \"text\": \"@geloraco Kalau tragedi kemanusiaan yg disebabkan oleh perilaku jahat manusia  di bilang kehendak Allah, berarti sudah tidak di perlukan lagi adanya institusi penegak hukum di negeri ini\\n\\nPertanyaannya buat PSSI\\n\\nANDA WARAS..???\", \"url\": \"https://twitter.com/Pertiwi43253730/status/1581231392058286081\"}\n",
      "{\"id\": 1581231329123143680, \"username\": \"andrikomplong\", \"date\": \"2022-10-15 10:31:41+00:00\", \"text\": \"@budhihermanto Kayane kepanak duduk kursi pssi, duduk dg uang banyak🤭\", \"url\": \"https://twitter.com/andrikomplong/status/1581231329123143680\"}\n",
      "{\"id\": 1581231222508118016, \"username\": \"Bayu88Priambodo\", \"date\": \"2022-10-15 10:31:15+00:00\", \"text\": \"@kemalpalevi Numpang lapak lagi bang\\nPSSI GOBLOK ! SAMPAH !\", \"url\": \"https://twitter.com/Bayu88Priambodo/status/1581231222508118016\"}\n",
      "{\"id\": 1581231204124471297, \"username\": \"imronainur09\", \"date\": \"2022-10-15 10:31:11+00:00\", \"text\": \"@mojokdotco pangeran siahaan for 1 PSSI\\nazrul ananda for 1 LIB\", \"url\": \"https://twitter.com/imronainur09/status/1581231204124471297\"}\n",
      "{\"id\": 1581231097425592320, \"username\": \"AdhityaFachri\", \"date\": \"2022-10-15 10:30:46+00:00\", \"text\": \"Hahaaa udah gue bilang jangan terlalu merasa fifa itu malaikat, ini bandit level nya udah internasional kalo pssi bandit lokal 🤣🤣 https://t.co/Y0fCuDzSTD\", \"url\": \"https://twitter.com/AdhityaFachri/status/1581231097425592320\"}\n",
      "{\"id\": 1581230975828168704, \"username\": \"DalmosMaita\", \"date\": \"2022-10-15 10:30:17+00:00\", \"text\": \"Pak Menpora yang terhormat, cukup mudah memberhentikan para pengurus PSSI itu tanpa intervensi. Tersangkakan mereka semua. Pidana bukan ranah statuta. TGIPF hanya macan ompong kalau sekedar rekomendasi.\", \"url\": \"https://twitter.com/DalmosMaita/status/1581230975828168704\"}\n",
      "{\"id\": 1581230907138404352, \"username\": \"irdel_novi\", \"date\": \"2022-10-15 10:30:00+00:00\", \"text\": \"@garagarabola_ @AlionelMessi_ Yakin pada legowo mereka ketika timnya gak llos verifikasi atau mereka bikin pssi tandingan lagi kyak dlu..\", \"url\": \"https://twitter.com/irdel_novi/status/1581230907138404352\"}\n",
      "{\"id\": 1581230906496499713, \"username\": \"bolacomID\", \"date\": \"2022-10-15 10:30:00+00:00\", \"text\": \"Mulai Iwan Bule, Iwan Budianto, hingga Haruna Soemitro. Berikut jajaran Exco PSSI yang dipersilahkan mundur oleh TGIF.\\n\\nhttps://t.co/XCiOtIFAwM\", \"url\": \"https://twitter.com/bolacomID/status/1581230906496499713\"}\n",
      "{\"id\": 1581230824091181057, \"username\": \"Erickblank\", \"date\": \"2022-10-15 10:29:40+00:00\", \"text\": \"@mohmahfudmd Gulai PSSI 🤣\", \"url\": \"https://twitter.com/Erickblank/status/1581230824091181057\"}\n",
      "{\"id\": 1581230707967684620, \"username\": \"tribunkaltim\", \"date\": \"2022-10-15 10:29:13+00:00\", \"text\": \"TGIPF TAK BISA PAKSA KETUA UMUM PSSI IWAN BULE MUNDUR, MAHFUD MD: TANGGUNG JAWAB MORAL BUKAN HUKUM\\n\\n#TribunKaltim #IwanBule #TragediKanjuruhan\\n \\nhttps://t.co/tANLqVh6W6 lewat @tribunkaltim\", \"url\": \"https://twitter.com/tribunkaltim/status/1581230707967684620\"}\n",
      "{\"id\": 1581230550773563400, \"username\": \"Hudin1986090909\", \"date\": \"2022-10-15 10:28:35+00:00\", \"text\": \"@detiksport Biar Tuhan yang ngurus pssi... Yang sekarang bubar aja.... Wkwk\", \"url\": \"https://twitter.com/Hudin1986090909/status/1581230550773563400\"}\n",
      "{\"id\": 1581230313627586560, \"username\": \"SafZYahya\", \"date\": \"2022-10-15 10:27:39+00:00\", \"text\": \"@mohmahfudmd Pemerintah sudah 2 kali mengintervensi PSSI di era dualisme. Dan hasilnya ? Sepokbola Hancur dan semua harus dimulai dari awal. Saat ini melalui Iwan bule sudah mulai menunjukkan tanda kearah positif. Mengganti kepengurusan sama saja karena anggota yg akan memilih ttp sm.\", \"url\": \"https://twitter.com/SafZYahya/status/1581230313627586560\"}\n",
      "{\"id\": 1581230277229416450, \"username\": \"mfarihans\", \"date\": \"2022-10-15 10:27:30+00:00\", \"text\": \"@mojokdotco Mending cuxh @riphanpradipta ketum pssi mah wkwkwkkw\", \"url\": \"https://twitter.com/mfarihans/status/1581230277229416450\"}\n",
      "{\"id\": 1581230179183374337, \"username\": \"Bayu88Priambodo\", \"date\": \"2022-10-15 10:27:07+00:00\", \"text\": \"@iIhamzada Atau menpora intelegent nya PSSI mas di TGIPF?\", \"url\": \"https://twitter.com/Bayu88Priambodo/status/1581230179183374337\"}\n",
      "{\"id\": 1581230117728452614, \"username\": \"drabby21\", \"date\": \"2022-10-15 10:26:52+00:00\", \"text\": \"@aziz_miring @mojokdotco Iwan budianto dkk di pssi udah imortal gakmungkin kegeser liat aja nanti 2-4 kedepan bakalan terluang lagi ada demo lengserin pssi 😂\", \"url\": \"https://twitter.com/drabby21/status/1581230117728452614\"}\n",
      "{\"id\": 1581230072417382400, \"username\": \"Hudin1986090909\", \"date\": \"2022-10-15 10:26:41+00:00\", \"text\": \"@detiksport Aduh.... Biar Tuhan yang ngurus pssi\", \"url\": \"https://twitter.com/Hudin1986090909/status/1581230072417382400\"}\n",
      "{\"id\": 1581229853117861889, \"username\": \"budhihermanto\", \"date\": \"2022-10-15 10:25:49+00:00\", \"text\": \"Ribuan orang kasih saran pengurus PSSI untuk mundur, gak didengarkan. Jangan-jangan telinga dan hati mereka memang tertutup oleh keburukannya. :(\", \"url\": \"https://twitter.com/budhihermanto/status/1581229853117861889\"}\n",
      "{\"id\": 1581229758456602630, \"username\": \"UpdateBolabola\", \"date\": \"2022-10-15 10:25:26+00:00\", \"text\": \"Perwakilan FIFA saat ditanya oleh Wartawan Bolasport mengenai hasil rapat di Kantor PSSI:\\n\\\"You Better Go Home!\\\"\\n\\nhttps://t.co/z4NiH290wr\", \"url\": \"https://twitter.com/UpdateBolabola/status/1581229758456602630\"}\n",
      "{\"id\": 1581229678706450432, \"username\": \"WathonAminul\", \"date\": \"2022-10-15 10:25:07+00:00\", \"text\": \"Gebrakan Shin Tae Yeon persis cara meningkatkan kualitas pelajar dr pembelajaran berkelanjutan, dan dia cocok dgn keterbukaan PSSI skrg, PSSI mundur, sty mundur,\\n\\nHarus cari cara meyakinkan sty tetap bertahan, jarang yg gunakan metode pembelajaran spt itu, rata2 monoton @jokowi\", \"url\": \"https://twitter.com/WathonAminul/status/1581229678706450432\"}\n",
      "{\"id\": 1581229667758940160, \"username\": \"Aripp1nya\", \"date\": \"2022-10-15 10:25:05+00:00\", \"text\": \"@NarasiNewsroom PSSI makin kolaps kalo si Iwan terus berada disana, jadi percuma ada STY\", \"url\": \"https://twitter.com/Aripp1nya/status/1581229667758940160\"}\n",
      "{\"id\": 1581229602466586625, \"username\": \"evanseptiano\", \"date\": \"2022-10-15 10:24:49+00:00\", \"text\": \"@aardwi15 @SiaranBolaLive Lha pssi kan tiap hari libur 🤭🤭🤭\", \"url\": \"https://twitter.com/evanseptiano/status/1581229602466586625\"}\n",
      "{\"id\": 1581229469368725504, \"username\": \"Ox_Bjorka\", \"date\": \"2022-10-15 10:24:17+00:00\", \"text\": \"@am_urboy @infallibiliti @mohmahfudmd Cari makan di Indonesia kan PSSI Itu bang , walau statuta FIFA gitu lah , tetap harus taat pemerintah juga ,ibarat HARUS IMBANG lah gitu , cuma karena KOMANDAN FIFA , Tapi cari makan sama hasil tiket dari FANS SEPAKBOLA 🇮🇩 =&gt; gak boleh lah EGO, nanti kyak antek2 penjajah dong 🤣\", \"url\": \"https://twitter.com/Ox_Bjorka/status/1581229469368725504\"}\n",
      "{\"id\": 1581229322047983616, \"username\": \"fajaronline\", \"date\": \"2022-10-15 10:23:42+00:00\", \"text\": \"Minta Pemerintah Tak Ikut Campur Urusan PSSI, Menpora Jadi Bulan-bulanan Netizen https://t.co/mkcF4yUEnQ #Menpora #Netizen #PSSI #TragediKanjuruhan\", \"url\": \"https://twitter.com/fajaronline/status/1581229322047983616\"}\n",
      "{\"id\": 1581229282294394880, \"username\": \"adjiucil\", \"date\": \"2022-10-15 10:23:33+00:00\", \"text\": \"@caffein_cat @aditwongs @infotwitwor_ @ariekuple @ariekuple kalo ga buzzer ya emang dia bagian dari pssi , gak cuma 1 dia reply pake tuh foto 😬 https://t.co/0swBQBJIlo\", \"url\": \"https://twitter.com/adjiucil/status/1581229282294394880\"}\n",
      "{\"id\": 1581228903955587074, \"username\": \"_andirisu\", \"date\": \"2022-10-15 10:22:03+00:00\", \"text\": \"Orang² di daftar ini adalah orang² yg kerjanya cuma bisa plonga plongo, gak menghasilkan, gak menguntungkan. Lebih sampah dari sampah busuk. @PSSI udah jadi tempat sampah busuk. https://t.co/o9ZiIPArgq\", \"url\": \"https://twitter.com/_andirisu/status/1581228903955587074\"}\n",
      "{\"id\": 1581228842441924615, \"username\": \"icatwps\", \"date\": \"2022-10-15 10:21:48+00:00\", \"text\": \"BISA NGGAK? \\n#TGIPF Minta Ketua Umum @PSSI @iriawan84 Mengundurkan Diri, Terkait #TragediKanjuruhan \\n\\nhttps://t.co/8fKVFfW6l0 \\n\\n@mohmahfudmd @PolhukamRI @Rhenald_Kasali\", \"url\": \"https://twitter.com/icatwps/status/1581228842441924615\"}\n",
      "{\"id\": 1581228734014976000, \"username\": \"DulCharem\", \"date\": \"2022-10-15 10:21:22+00:00\", \"text\": \"Lah emang ngapa ini bocah menpora pak @jokowi @mohmahfudmd eta terangkan lah bocah tengil mau pasang badan dia rupanya wat ketum PSSI....HAJAR🤦🤦🤣🤣🤣 https://t.co/lXh2QN7uOY\", \"url\": \"https://twitter.com/DulCharem/status/1581228734014976000\"}\n",
      "{\"id\": 1581228671490490368, \"username\": \"abe_accord\", \"date\": \"2022-10-15 10:21:07+00:00\", \"text\": \"Ahahahahahaha bilangin kok pemerintah gak bisa maksa mundur pengurus PSSI\\nAlhamdulilah #savetimnas #STYstay https://t.co/xCqhsmNDXU\", \"url\": \"https://twitter.com/abe_accord/status/1581228671490490368\"}\n",
      "{\"id\": 1581228556285136897, \"username\": \"Tim_Tamu_\", \"date\": \"2022-10-15 10:20:40+00:00\", \"text\": \"Kalao gak mau revolusi pssi , garuda revolution ganti aja namanya jadi garuda status quo .\", \"url\": \"https://twitter.com/Tim_Tamu_/status/1581228556285136897\"}\n",
      "{\"id\": 1581228524861784064, \"username\": \"adjiucil\", \"date\": \"2022-10-15 10:20:32+00:00\", \"text\": \"@ariekuple @andreasmarbun oohhh ini buzzernya PSSI ? wkwk\", \"url\": \"https://twitter.com/adjiucil/status/1581228524861784064\"}\n",
      "{\"id\": 1581228377913970694, \"username\": \"JgnMingkemBae\", \"date\": \"2022-10-15 10:19:57+00:00\", \"text\": \"Enak aje klean nyuruh mundur. Perjuangan buat dapetin posisi Ketum PSSI tuh gak gampang tauk!!! https://t.co/4ptIaLFlq2\", \"url\": \"https://twitter.com/JgnMingkemBae/status/1581228377913970694\"}\n",
      "{\"id\": 1581228142819041281, \"username\": \"emerson_yuntho\", \"date\": \"2022-10-15 10:19:01+00:00\", \"text\": \"Pemerintah jangan ikut campur urusan @PSSI | Maaf Pak, mau ingatkan Bapak juga Pemerintah | Wah Lupa saya hahahahahha Btw kapan ada jadwal angkat2 Piala Sepak Bola lagi  nih 😊\", \"url\": \"https://twitter.com/emerson_yuntho/status/1581228142819041281\"}\n",
      "{\"id\": 1581228111005650948, \"username\": \"bagusparah\", \"date\": \"2022-10-15 10:18:54+00:00\", \"text\": \"@iIhamzada ya emg aturannya gbole masuk ke internal pssi kocak,mau di banned FIFA lagi? minimal cari tau dlu,jgn asal sok kritis biar di bilang open minded\", \"url\": \"https://twitter.com/bagusparah/status/1581228111005650948\"}\n",
      "{\"id\": 1581228057360093184, \"username\": \"AlamsyahTansry\", \"date\": \"2022-10-15 10:18:41+00:00\", \"text\": \"PSSI tidak boleh meninggalkan sementara dan PSSI tidak boleh diberi kartu merah. Tetapi, barang siapa yang meninggal kan orang lebih buruk dari pada sampah. Jangan mundur PSSI dan gelarkan Indonesia Tuan rumah piala dunia fifa usia 20 tahun dan juga AFC.\", \"url\": \"https://twitter.com/AlamsyahTansry/status/1581228057360093184\"}\n",
      "{\"id\": 1581227653457408002, \"username\": \"Ngetoxic\", \"date\": \"2022-10-15 10:17:05+00:00\", \"text\": \"@xosxoSANelvi @mohmahfudmd Bilang ke pak presiden @jokowi , pak @mohmahfudmd  bahwa bukan ketum dan Exco @PSSI harus mundur, tetapi @KEMENPORA_RI juga harus mundur, jika PSSI mundur jalur moral, maka @KEMENPORA_RI lewat jalur otomatis pecat atau mundur dari presiden.\", \"url\": \"https://twitter.com/Ngetoxic/status/1581227653457408002\"}\n",
      "{\"id\": 1581227640861511680, \"username\": \"eva_muz\", \"date\": \"2022-10-15 10:17:02+00:00\", \"text\": \"@mojokdotco Lah bukanya ratu tisha dah out dr pssi ya ???\", \"url\": \"https://twitter.com/eva_muz/status/1581227640861511680\"}\n",
      "{\"id\": 1581227568899842048, \"username\": \"DediMardiana12\", \"date\": \"2022-10-15 10:16:44+00:00\", \"text\": \"@tvOneNews Dari dulu setiap peristiwa.di sepak bola ujung2 ya memakjulkan ketum PSSI jangan.jangan mereka yg buat sekenario rusuh di kanjuruhan\", \"url\": \"https://twitter.com/DediMardiana12/status/1581227568899842048\"}\n",
      "{\"id\": 1581227544556101632, \"username\": \"RachmatBawono\", \"date\": \"2022-10-15 10:16:39+00:00\", \"text\": \"@6undul0h @PSSI Sebagai bentuk tanggung jawab moral, tolong mundur seluruh pengurus PSSI.\", \"url\": \"https://twitter.com/RachmatBawono/status/1581227544556101632\"}\n",
      "{\"id\": 1581227383121936384, \"username\": \"suarasiber\", \"date\": \"2022-10-15 10:16:00+00:00\", \"text\": \"Ansar Ahmad Terpilih Jadi Ketua Asprov PSSI Kepri https://t.co/tzqFG5xcNC\", \"url\": \"https://twitter.com/suarasiber/status/1581227383121936384\"}\n",
      "{\"id\": 1581227337999609856, \"username\": \"rifqinurhidayat\", \"date\": \"2022-10-15 10:15:49+00:00\", \"text\": \"@mojokdotco Ketum PSSI: Ratu Tisha\\nDirut LIB/Operator: Azrul Ananda\", \"url\": \"https://twitter.com/rifqinurhidayat/status/1581227337999609856\"}\n",
      "{\"id\": 1581227328050720769, \"username\": \"TeukuMahriansy1\", \"date\": \"2022-10-15 10:15:47+00:00\", \"text\": \"@SiaranBolaLive Bukan gt bro, TGIF itu bentukan pemerintah. Pemerintah gak boleh asal ambil keputusan buat PSSI krn salah satu pantangan di peraturan FIFA adalah intervensi pemerintah. Kita bisa kena baned kalo melanggar.\", \"url\": \"https://twitter.com/TeukuMahriansy1/status/1581227328050720769\"}\n",
      "{\"id\": 1581227323629924352, \"username\": \"bagusparah\", \"date\": \"2022-10-15 10:15:46+00:00\", \"text\": \"@xOwlx7 ngakak.emg aturannya pemerintah gabisa masuk ke urusan internal pssi,klo maksa ya bakal di banned FIFA lagi\", \"url\": \"https://twitter.com/bagusparah/status/1581227323629924352\"}\n",
      "{\"id\": 1581227291178254337, \"username\": \"F_satria\", \"date\": \"2022-10-15 10:15:38+00:00\", \"text\": \"@iriawan84 DAJJAL DIDALAM KEPENGURUSANMU @PSSI 🖕🏾 https://t.co/VSojCOx4a8\", \"url\": \"https://twitter.com/F_satria/status/1581227291178254337\"}\n",
      "{\"id\": 1581227285486919680, \"username\": \"jodramahendra\", \"date\": \"2022-10-15 10:15:37+00:00\", \"text\": \"Ketum dan Exco @PSSI tau gak kalo ada yg sampe gini?? https://t.co/xKPsVy755b\", \"url\": \"https://twitter.com/jodramahendra/status/1581227285486919680\"}\n",
      "{\"id\": 1581227266880966657, \"username\": \"AkmalDinan\", \"date\": \"2022-10-15 10:15:32+00:00\", \"text\": \"@PSSI Kapan yaaa sepakbola Indonesia bisa maju ?, tiap mau berkembang sedikit saja pasti ada kendala lagi dan lagi ..\", \"url\": \"https://twitter.com/AkmalDinan/status/1581227266880966657\"}\n",
      "{\"id\": 1581227196693516288, \"username\": \"bowie_mas\", \"date\": \"2022-10-15 10:15:16+00:00\", \"text\": \"@KompasTV Ketua PSSI seharusny bertanggung jawab utk pengobatan nya, kasihan masa depan Cahayu yg usiany 16 thn.\", \"url\": \"https://twitter.com/bowie_mas/status/1581227196693516288\"}\n",
      "{\"id\": 1581227173104394241, \"username\": \"pejuangdolars\", \"date\": \"2022-10-15 10:15:10+00:00\", \"text\": \"@iIhamzada Menpora, LIB, PSSI, gak ada basic pengalaman sepakbola nya padahal\", \"url\": \"https://twitter.com/pejuangdolars/status/1581227173104394241\"}\n",
      "{\"id\": 1581227150077988870, \"username\": \"bb_sports_id\", \"date\": \"2022-10-15 10:15:05+00:00\", \"text\": \"Sudah Terpojok, Ini 3 Alasan Ketum PSSI Harus Segera Mundur https://t.co/tbfHzccFb2 baca juga berita dari media lainnya di Indonesia di https://t.co/GkwQxScVr9 \\n\\n#mochamadiriawan #ketumpssi #pssi #tgipf #mahfudmd\", \"url\": \"https://twitter.com/bb_sports_id/status/1581227150077988870\"}\n",
      "{\"id\": 1581226791947358208, \"username\": \"ManTheDark3\", \"date\": \"2022-10-15 10:13:39+00:00\", \"text\": \"New PSSI? Berat itu orang lama politikus semua, KETUMnya aja itu hasil kursi capres kok,, dah tidur ae https://t.co/t7R9SJfS1R\", \"url\": \"https://twitter.com/ManTheDark3/status/1581226791947358208\"}\n",
      "{\"id\": 1581226508408225792, \"username\": \"Aryprasetyo85\", \"date\": \"2022-10-15 10:12:32+00:00\", \"text\": \"Siapa yg plg bertanggung jawab terhadap jatuh bangunnya persepakbolaan nasional? Ya Ketua PSSI.\\n\\nBukan bermaksud mengglorifikasi @ganjarpranowo. Tapi hanya membandingkan bagaimana sikap pemimpin menghadapi persoalan rakyat. Klp salah segeralah minta maaf. https://t.co/QMCNqsbHPJ\", \"url\": \"https://twitter.com/Aryprasetyo85/status/1581226508408225792\"}\n",
      "{\"id\": 1581226470105829376, \"username\": \"Arifin_Saha\", \"date\": \"2022-10-15 10:12:22+00:00\", \"text\": \"@tvOneNews Pemerintah tidak boleh ikut campur, reformasi pssi tanpa ketua umum mundur\", \"url\": \"https://twitter.com/Arifin_Saha/status/1581226470105829376\"}\n",
      "{\"id\": 1581226464212443136, \"username\": \"adharul_m\", \"date\": \"2022-10-15 10:12:21+00:00\", \"text\": \"@GOAL_ID Jika ketum PSSI mundur..pertanyaan ya...apakah pengganti nya pasti lebih baik..\\nApa mlh tambah Zonk 😂\", \"url\": \"https://twitter.com/adharul_m/status/1581226464212443136\"}\n",
      "{\"id\": 1581226342162784258, \"username\": \"xosxoSANelvi\", \"date\": \"2022-10-15 10:11:52+00:00\", \"text\": \"Menpora mundur saja\\nPSSI rombak total, jangan hanya ketua.\", \"url\": \"https://twitter.com/xosxoSANelvi/status/1581226342162784258\"}\n",
      "{\"id\": 1581226295698288641, \"username\": \"_LDPP_\", \"date\": \"2022-10-15 10:11:41+00:00\", \"text\": \"@mohmahfudmd Yang membuat PSSI siapa prof @mohmahfudmd ? Atau negara bisa membuat federasi sepakbola tandingan kerjasama dengan FIFA ?\", \"url\": \"https://twitter.com/_LDPP_/status/1581226295698288641\"}\n",
      "{\"id\": 1581226260927172608, \"username\": \"solechan_talk\", \"date\": \"2022-10-15 10:11:33+00:00\", \"text\": \"@mamunmurod_ @mohmahfudmd @iriawan84 Ga usah paksa, pangkas aja hibah pemerintah ke pssi, paling gelagapan tuh tahun depan\", \"url\": \"https://twitter.com/solechan_talk/status/1581226260927172608\"}\n",
      "{\"id\": 1581226103385227265, \"username\": \"pikrnummat\", \"date\": \"2022-10-15 10:10:55+00:00\", \"text\": \"@mohmahfudmd @msaid_didu PSSI ada aturannya sendiri ykn statuta FIFA tpi jka kelalaian mrk menimbulkan korban pihak rakyat Indonesia.bgm tu Prof , apa pemerintah Indonesia diam saja menyerahkan bgt sj pd statuta FIFA ?\", \"url\": \"https://twitter.com/pikrnummat/status/1581226103385227265\"}\n",
      "{\"id\": 1581226009449201664, \"username\": \"solechan_talk\", \"date\": \"2022-10-15 10:10:33+00:00\", \"text\": \"@seniman_bola Dan setelah KLB Nurdin Halid jadi Ketum PSSI lagi, happy ending\", \"url\": \"https://twitter.com/solechan_talk/status/1581226009449201664\"}\n",
      "{\"id\": 1581225884916191234, \"username\": \"demaset\", \"date\": \"2022-10-15 10:10:03+00:00\", \"text\": \"@registaco dan kita.. berhasil menamatkan pssi..\", \"url\": \"https://twitter.com/demaset/status/1581225884916191234\"}\n",
      "{\"id\": 1581225636701810689, \"username\": \"TukangSamber\", \"date\": \"2022-10-15 10:09:04+00:00\", \"text\": \"@WagimanDeep212_ Japto itu lama-lama spt nugraha besoes, sekjen PSSI. Jadi ketua PP smpi meninggal 😁\", \"url\": \"https://twitter.com/TukangSamber/status/1581225636701810689\"}\n",
      "{\"id\": 1581225600949579783, \"username\": \"GuiliAnemoBoy\", \"date\": \"2022-10-15 10:08:55+00:00\", \"text\": \"Lu kan juga termasuk pemerintah pak, Pemerintah melalui TGIPF kan menghendaki adanya perubahan besar dalam tubuh PSSI. \\n\\nGak dikasih briefing ama Presiden ama gimana sih 🤣🤣🤣\", \"url\": \"https://twitter.com/GuiliAnemoBoy/status/1581225600949579783\"}\n",
      "{\"id\": 1581225493114023942, \"username\": \"bali_fest\", \"date\": \"2022-10-15 10:08:29+00:00\", \"text\": \"@Citrakiranti5 @mohmahfudmd PSSI itu punya aturan yg bernama Statuta FIFA dimana pemerintah tidak boleh campur tangan.. ini aturan yg makin menyulitkan pembenahan PSSI\", \"url\": \"https://twitter.com/bali_fest/status/1581225493114023942\"}\n",
      "{\"id\": 1581225466634981376, \"username\": \"TheaRizkyyy\", \"date\": \"2022-10-15 10:08:23+00:00\", \"text\": \"@anusekaliya @kulonuwunlove @MafiaWasit Pernyataan yg dikeluarkan dari pssi tuh jelek, terus prestasi timnas dijadikan tameng untuk mengadu domba suporternya.\", \"url\": \"https://twitter.com/TheaRizkyyy/status/1581225466634981376\"}\n",
      "{\"id\": 1581225390621618178, \"username\": \"tribunnews\", \"date\": \"2022-10-15 10:08:05+00:00\", \"text\": \"Mahfud MD: Sepatutnya PSSI Tanggung Jawab soal Kematian 132 Orang dalam Tragedi Kanjuruhan https://t.co/G0z6v7oWqi via @tribunnews\", \"url\": \"https://twitter.com/tribunnews/status/1581225390621618178\"}\n",
      "{\"id\": 1581225353141313536, \"username\": \"HusniTamrin34\", \"date\": \"2022-10-15 10:07:56+00:00\", \"text\": \"Saya usul mas @kaesangp cocok jadi ketum pssi https://t.co/3KucLA6vFb\", \"url\": \"https://twitter.com/HusniTamrin34/status/1581225353141313536\"}\n",
      "{\"id\": 1581225344400785408, \"username\": \"eko13ramadhan\", \"date\": \"2022-10-15 10:07:54+00:00\", \"text\": \"@MafiaWasit Kayaknya mulai ada perebutan kekuasaan di organisasi paling menggiurkan di Indonesia,yaitu PSSI..\", \"url\": \"https://twitter.com/eko13ramadhan/status/1581225344400785408\"}\n",
      "{\"id\": 1581225260107845632, \"username\": \"AdlawiSamsudin\", \"date\": \"2022-10-15 10:07:34+00:00\", \"text\": \"@SiaranBolaLive PSSI organisasi yg menangani sepak bola di Indonesia. Sepak bola merupakan salah satu cabang olah raga di Indonesia. Olah raga Indonesia di bawah komando Menpora. Nah, ketika sepak bola Indonesia alami tragedi, logikanya, scr moral Menpora jd pihak pertama yg tanggung jawab.\", \"url\": \"https://twitter.com/AdlawiSamsudin/status/1581225260107845632\"}\n",
      "{\"id\": 1581225069409628164, \"username\": \"ReadOne30777215\", \"date\": \"2022-10-15 10:06:48+00:00\", \"text\": \"@PSSI Apa kalian tdk bisa melihat penderitaan ini..?! \\nMasih kalian bilang Gas Air Mata tdk berbahaya...?!🙄😠 https://t.co/Fof6zByYna\", \"url\": \"https://twitter.com/ReadOne30777215/status/1581225069409628164\"}\n",
      "{\"id\": 1581225016011603968, \"username\": \"cakirum\", \"date\": \"2022-10-15 10:06:36+00:00\", \"text\": \"@detikcom pengurus PSSI Seperti Bukan Manusia...\", \"url\": \"https://twitter.com/cakirum/status/1581225016011603968\"}\n",
      "{\"id\": 1581224976501604353, \"username\": \"tempeoregg_\", \"date\": \"2022-10-15 10:06:26+00:00\", \"text\": \"@SiaranBolaLive kan bener min... pemerintah boleh ikut campur urus kasus tragedi kanjuruhannya aja, tpi jangan smpe ke internal pssi.. tar di banned fifa loh🤣🤣\", \"url\": \"https://twitter.com/tempeoregg_/status/1581224976501604353\"}\n",
      "{\"id\": 1581224851418669056, \"username\": \"iyehmilanisti\", \"date\": \"2022-10-15 10:05:56+00:00\", \"text\": \"@UmimZacky @Boankrsn @Ryun15825059 @R_Perkasa @AlionelMessi_ kalo mau org2 profesional emang harus org2 bumn?, 🤣🤣🤣🤣,  inget ga dulu nirwan bakrei duit dia udah banyak ga mikir cuan kalo urusan bola.., tetep aja pssi gitu🤣🤣🤣\\n\\nkalimat terakhir, biasanya keluar dari tangan yg bukan bener2 fans bola.. 🤭🤭\", \"url\": \"https://twitter.com/iyehmilanisti/status/1581224851418669056\"}\n",
      "{\"id\": 1581224772821975040, \"username\": \"Marsya81632994\", \"date\": \"2022-10-15 10:05:38+00:00\", \"text\": \"Anggota DPR Mantan Pengurus PSSI Ini Desak Iwan Bule Ikuti Rekomendasi TGIPF untuk Mundur\\nhttps://t.co/p3AajGMFXM\\n\\nDownload Opera News untuk berita terbaik lainnya!\\nhttps://t.co/PcI8HQ1v2M\", \"url\": \"https://twitter.com/Marsya81632994/status/1581224772821975040\"}\n",
      "{\"id\": 1581224761371557888, \"username\": \"tempeoregg_\", \"date\": \"2022-10-15 10:05:35+00:00\", \"text\": \"@MafiaWasit kan bener mbahh.. pemerintah boleh ikut campur urus kasus tragedi kanjuruhannya aja, tpi jangan smpe ke internal pssi.. tar di banned fifa loh 🤣🤣🤣\", \"url\": \"https://twitter.com/tempeoregg_/status/1581224761371557888\"}\n",
      "{\"id\": 1581224669092646914, \"username\": \"Lia_yakusa\", \"date\": \"2022-10-15 10:05:13+00:00\", \"text\": \"@SiaranBolaLive Kalo ini sih guampang banget\\nMenpora belain PSSI auto d reshuffle dia ama presiden\", \"url\": \"https://twitter.com/Lia_yakusa/status/1581224669092646914\"}\n",
      "{\"id\": 1581224668660629504, \"username\": \"AhanSyahrul\", \"date\": \"2022-10-15 10:05:13+00:00\", \"text\": \"Pemerintah tdk boleh intervensi PSSI. Tp bgmn klo pemerintah sudah salaman dg FIFA.\", \"url\": \"https://twitter.com/AhanSyahrul/status/1581224668660629504\"}\n",
      "{\"id\": 1581224620929449985, \"username\": \"romanzeska\", \"date\": \"2022-10-15 10:05:02+00:00\", \"text\": \"@Bola_Jakarta @PSSI tk kiro Meduro kabeh\", \"url\": \"https://twitter.com/romanzeska/status/1581224620929449985\"}\n",
      "{\"id\": 1581224426758021120, \"username\": \"piki_ajah\", \"date\": \"2022-10-15 10:04:15+00:00\", \"text\": \"@mohmahfudmd Pemerintah lobi FIFA bisa ga sih, minta FIFA buat pada mundur dr PSSI 😅😅. Kacau ini mundur aja susah banget, padahal tinggal masukin persneling ke posisi R 🤣\", \"url\": \"https://twitter.com/piki_ajah/status/1581224426758021120\"}\n",
      "{\"id\": 1581224391400357888, \"username\": \"Asyifawin\", \"date\": \"2022-10-15 10:04:07+00:00\", \"text\": \"@mojokdotco @AchsanulQosasi  cocok nih jadi ketum PSSI\", \"url\": \"https://twitter.com/Asyifawin/status/1581224391400357888\"}\n",
      "{\"id\": 1581224334961815553, \"username\": \"niubluer\", \"date\": \"2022-10-15 10:03:53+00:00\", \"text\": \"@Tan_Mar3M PSSI dibawah FIFA, pemerintah tdk boleh intervensi. Di seluruh dunia, ngak ada satupun negara yg boleh mengintervensi persatuan sepak bola negeranya tanpa persetujuan FIFA. Kalau mau goreng2, coba yg lebih pinter.\\nhttps://t.co/u7zHw0JAAT\", \"url\": \"https://twitter.com/niubluer/status/1581224334961815553\"}\n",
      "{\"id\": 1581224321087045632, \"username\": \"lantip\", \"date\": \"2022-10-15 10:03:50+00:00\", \"text\": \"yak.\\npemerintah jangan kasih ijin pertandingan sepakbola sampai kasus kanjuruhan diusut tuntas.\\n\\nsampai PSSI dirombak total.\\nSOP dibenahi. https://t.co/OiS6Mw8ZQu\", \"url\": \"https://twitter.com/lantip/status/1581224321087045632\"}\n",
      "{\"id\": 1581223719925841920, \"username\": \"SitiHartinah24\", \"date\": \"2022-10-15 10:01:27+00:00\", \"text\": \"@idextratime Kan sdh dibilang sama bapak Mahfud MD, pemerintah gak bisa mengintervensi PSSI, kecuali mereka(PSSI) masih punya moral untuk mundur dari jabatan mereka. Kan kita sdh tahu, para Pejabat sekarang gak ada moralnya sama sekali\", \"url\": \"https://twitter.com/SitiHartinah24/status/1581223719925841920\"}\n",
      "{\"id\": 1581223711256244225, \"username\": \"GZH04768289\", \"date\": \"2022-10-15 10:01:25+00:00\", \"text\": \"@gibran_tweet Mas jadi ketua PSSI dong.\", \"url\": \"https://twitter.com/GZH04768289/status/1581223711256244225\"}\n"
     ]
    }
   ],
   "source": [
    "documents_twitter = []\n",
    "\n",
    "for keyword in keywords:\n",
    "   \n",
    "    for i, tweet in enumerate (sntwitter.TwitterSearchScraper(f'{keyword} ').get_items()):\n",
    "        \n",
    "        try:\n",
    "            lan=detect(tweet.content)\n",
    "        except:\n",
    "            lan='error'\n",
    "        if i == max_num:\n",
    "            break\n",
    "        if lan in languages:\n",
    "            data = {'id': tweet.id, 'username':tweet.username, 'date': tweet.date, 'text': tweet.content,'url':tweet.url}\n",
    "            \n",
    "            documents_twitter.append(data['text'])\n",
    "            \n",
    "            with open(fname, 'a+', encoding='utf-8') as f:\n",
    "                line = json.dumps(data, ensure_ascii=False,default=str)\n",
    "                print(line)\n",
    "                f.write(line)\n",
    "                f.write('\\n')"
   ]
  },
  {
   "cell_type": "markdown",
   "id": "b02f5643-6be6-4ad5-858e-6b3db3131427",
   "metadata": {},
   "source": [
    "<br><br><br>\n",
    "<h1><b>2. Preprocessing</b></h1>\n",
    "<ul>\n",
    "    <li>Case Folding</li>\n",
    "    <li>Stemming</li>\n",
    "    <li>Filtering (Stopword Remover)</li>\n",
    "</ul>\n",
    "<hr>"
   ]
  },
  {
   "cell_type": "markdown",
   "id": "70ccbf7c-4209-430d-a28c-79c0d9277f7a",
   "metadata": {},
   "source": [
    "<br>\n",
    "<h3><b>2.1. Import Library</b></h3>"
   ]
  },
  {
   "cell_type": "code",
   "execution_count": 87,
   "id": "e40d1d2c-f15b-448a-a1e0-782ba4156478",
   "metadata": {},
   "outputs": [],
   "source": [
    "import re\n",
    "import string"
   ]
  },
  {
   "cell_type": "markdown",
   "id": "43b09a12-1744-4b9c-beaf-3fc4cbba782d",
   "metadata": {},
   "source": [
    "<br>\n",
    "<h3><b>2.2. Listing Utama</b></h3>"
   ]
  },
  {
   "cell_type": "markdown",
   "id": "4482445a-70b7-4b1e-9874-ece53c3ecf4c",
   "metadata": {},
   "source": [
    "Buat object untuk stemming."
   ]
  },
  {
   "cell_type": "code",
   "execution_count": 88,
   "id": "d009e5e1-1533-420f-a829-f4a73c3db868",
   "metadata": {},
   "outputs": [],
   "source": [
    "from Sastrawi.Stemmer.StemmerFactory import StemmerFactory\n",
    "factory = StemmerFactory()\n",
    "stemmer = factory.create_stemmer()"
   ]
  },
  {
   "cell_type": "markdown",
   "id": "3b4a7b48-13dc-4080-9c69-bc8854ddb56c",
   "metadata": {},
   "source": [
    "Buat object untuk filtering (StopWordRemover)."
   ]
  },
  {
   "cell_type": "code",
   "execution_count": 89,
   "id": "d1ee1954-f727-429d-87a3-c5107e6d1725",
   "metadata": {},
   "outputs": [],
   "source": [
    "# Buat StopWordRemover\n",
    "from Sastrawi.StopWordRemover.StopWordRemoverFactory import StopWordRemoverFactory\n",
    "factory = StopWordRemoverFactory()\n",
    "stopword = factory.create_stop_word_remover()"
   ]
  },
  {
   "cell_type": "markdown",
   "id": "a37d4412-3e10-4412-90e6-ea30046d467c",
   "metadata": {},
   "source": [
    "Melakukan proses case folding, stemming, dan filtering."
   ]
  },
  {
   "cell_type": "code",
   "execution_count": 90,
   "id": "9950dbfe-1c73-463f-a125-ed473f370c50",
   "metadata": {},
   "outputs": [],
   "source": [
    "documents_clean=[]\n",
    "\n",
    "for d in documents_twitter:\n",
    "  \n",
    "  # BEGIN: Case Folding\n",
    "\n",
    "  # Remove Unicode\n",
    "  document_test = re.sub(r'[^\\x00-\\x7F]+', ' ', d)\n",
    "  # Remove URL\n",
    "  document_test = re.sub(r'http\\S+', '', document_test)\n",
    "  # Remove Mentions\n",
    "  document_test = re.sub(r'@\\w+', '', document_test)\n",
    "  # Lowercase the document\n",
    "  document_test = document_test.lower()\n",
    "  # Remove punctuations\n",
    "  document_test = re.sub(r'[%s]' % re.escape(string.punctuation), ' ', document_test)\n",
    "  # Remove the numbers\n",
    "  document_test = re.sub(r'[0-9]', '', document_test)\n",
    "  # Remove the doubled space\n",
    "  outputcase = re.sub(r'\\s{2,}', ' ', document_test)\n",
    "    \n",
    "  # END: Case Folding\n",
    "    \n",
    "  # Proses Stemming\n",
    "  outputstem = stemmer.stem(outputcase)\n",
    "\n",
    "  # Proses Filtering (StopwordRemover)\n",
    "  outputstop = stopword.remove(outputstem)\n",
    "\n",
    "  documents_clean.append(outputstop)"
   ]
  },
  {
   "cell_type": "code",
   "execution_count": 73,
   "id": "14616dd4-97e9-444d-aa26-84c79abf0791",
   "metadata": {},
   "outputs": [
    {
     "data": {
      "text/plain": [
       "'picu jatuh korban tragedi kanjuruhan polri tegas tak guna gas air mata laga sepak bola fifa menpora polri pssi'"
      ]
     },
     "execution_count": 73,
     "metadata": {},
     "output_type": "execute_result"
    }
   ],
   "source": [
    "documents_clean[6]"
   ]
  },
  {
   "cell_type": "markdown",
   "id": "9673d1e4-5354-400d-a42f-a5bafface0d0",
   "metadata": {},
   "source": [
    "<br><br><br>\n",
    "<h1><b>3. Representasi Kata Sebagai Vektor </b></h1>\n",
    "<p>Kata-kata yang sudah diperoleh di atas masih belum dapat dipahami oleh model <b><i>NLP (Natural language Processing)</i></b>.</p>\n",
    "<p>Oleh karena itu, kata-kata tersebut perlu direpresentasikan dalam bentuk angka-angka vektor agar dapat dipahami oleh model.</p>\n",
    "<p>Terdapat dua metode yang sering digunakan, yaitu <b>TF-IDF</b> dan <b>Bag of Words</b></p>\n",
    "<hr>"
   ]
  },
  {
   "cell_type": "markdown",
   "id": "ceec0ab7-68d1-491c-b4c7-5eac02dafb55",
   "metadata": {},
   "source": [
    "<br>\n",
    "<h3><b>3.1. Metode <i>TF-IDF Vectorizer</i></b></h3>\n",
    "<ul>\n",
    "    <li><p><b>TF-IDF</b> <i>(Term Frequency - Inverse Document Frequency)</i></p></li>\n",
    "    <li><p>Dalam merepresentasikan kata sebagai vektor, metode ini akan mempertimbangkan apakah data tersebut relevan/informatif terhadap isi dokumen.</p></li>\n",
    "</ul>"
   ]
  },
  {
   "cell_type": "code",
   "execution_count": 91,
   "id": "cad57a05-0126-41ae-9e77-1cfa5f289187",
   "metadata": {},
   "outputs": [],
   "source": [
    "from sklearn.feature_extraction.text import TfidfVectorizer\n",
    "import pandas as pd\n",
    "tfidfvectorizer = TfidfVectorizer(analyzer='word')\n",
    "tfidf_wm = tfidfvectorizer.fit_transform(documents_clean)\n",
    "tfidf_tokens = tfidfvectorizer.get_feature_names_out()"
   ]
  },
  {
   "cell_type": "markdown",
   "id": "fb354c47-85e7-4e0d-908b-570b91a0679e",
   "metadata": {},
   "source": [
    "<br>\n",
    "<h3><b>3.2. Metode <i>Count Vectorizer</i></b> (Bag of Words)</h3>\n",
    "<p>Metode ini merupakan metode yang sangat sederhana, hanya menghitung frekuensi kemunculan kata pada seluruh dokumen.</p>"
   ]
  },
  {
   "cell_type": "markdown",
   "id": "608cdb88-71b5-4b82-b062-cdf0c8d0e048",
   "metadata": {},
   "source": [
    "<h5><b>3.2.1. Import Library</b></h5>"
   ]
  },
  {
   "cell_type": "code",
   "execution_count": 92,
   "id": "394882bc-f80d-4194-b5c2-0ad18a114e85",
   "metadata": {},
   "outputs": [],
   "source": [
    "from sklearn.feature_extraction.text import CountVectorizer \n",
    "import matplotlib.pyplot as plt\n",
    "import numpy as np # linear algebra\n",
    "import pandas as pd # data processing, CSV file I/O (e.g. pd.read_csv)"
   ]
  },
  {
   "cell_type": "markdown",
   "id": "391ba0dc-a243-4baa-af33-67080458c4ab",
   "metadata": {},
   "source": [
    "<h5><b>3.2.2. Proses representasi vektor.</b></h5>"
   ]
  },
  {
   "cell_type": "code",
   "execution_count": 92,
   "id": "4ec2a189-657e-49c7-845c-22072a052467",
   "metadata": {},
   "outputs": [],
   "source": [
    "cv = CountVectorizer()\n",
    "words = cv.fit_transform(documents_clean)\n",
    "sum_words = words.sum(axis=0)\n",
    "\n",
    "words_freq = [(word, sum_words[0, idx]) for word, idx in cv.vocabulary_.items()]\n",
    "words_freq = sorted(words_freq, key = lambda x: x[1], reverse = True)\n",
    "frequency = pd.DataFrame(words_freq, columns=['word', 'freq'])"
   ]
  },
  {
   "cell_type": "markdown",
   "id": "8682a20d-dd9b-4cbe-b217-113c59d2c009",
   "metadata": {},
   "source": [
    "<h5><b>3.2.3. Membuat plot berdasarkan kata dan frekuensinya.</b></h5>"
   ]
  },
  {
   "cell_type": "code",
   "execution_count": 92,
   "id": "bc7116b0-9edb-46d8-996f-f2f3ec58823c",
   "metadata": {},
   "outputs": [
    {
     "data": {
      "text/plain": [
       "Text(0.5, 1.0, 'Most Frequently Occuring Words - Top 20')"
      ]
     },
     "execution_count": 92,
     "metadata": {},
     "output_type": "execute_result"
    },
    {
     "data": {
      "image/png": "[encoded data removed]",
      "text/plain": [
       "<Figure size 1500x700 with 1 Axes>"
      ]
     },
     "metadata": {},
     "output_type": "display_data"
    }
   ],
   "source": [
    "color = plt.cm.twilight(np.linspace(0, 1, 20))\n",
    "frequency.head(20).plot(x='word', y='freq', kind='bar', figsize=(15, 7), color = color)\n",
    "plt.title(\"Most Frequently Occuring Words - Top 20\")"
   ]
  },
  {
   "cell_type": "markdown",
   "id": "435bc45a-5e63-4ada-b123-708497da0cb2",
   "metadata": {},
   "source": [
    "<br><br>\n",
    "<h1><b>4. Klastering</b> <i>(K-Means Clustering)</i></h1>\n",
    "<hr>"
   ]
  },
  {
   "cell_type": "markdown",
   "id": "3e9996ba-c36f-442a-8e18-cb27ed2b3b2d",
   "metadata": {},
   "source": [
    "<h4><b>4.1. Import Library</b></h4>"
   ]
  },
  {
   "cell_type": "code",
   "execution_count": 93,
   "id": "9caaafd2-3874-4f49-9069-57e0abd950c2",
   "metadata": {},
   "outputs": [],
   "source": [
    "from sklearn.cluster import KMeans"
   ]
  },
  {
   "cell_type": "markdown",
   "id": "60d60687-1373-481b-a8fa-260265ca268a",
   "metadata": {},
   "source": [
    "<br>\n",
    "<h4><b>4.2. Listing Utama</b></h4>"
   ]
  },
  {
   "cell_type": "code",
   "execution_count": 94,
   "id": "32807e6b-c024-4ae1-9d33-2baaf52f1fd7",
   "metadata": {},
   "outputs": [
    {
     "data": {
      "text/html": [
       "<style>#sk-container-id-7 {color: black;background-color: white;}#sk-container-id-7 pre{padding: 0;}#sk-container-id-7 div.sk-toggleable {background-color: white;}#sk-container-id-7 label.sk-toggleable__label {cursor: pointer;display: block;width: 100%;margin-bottom: 0;padding: 0.3em;box-sizing: border-box;text-align: center;}#sk-container-id-7 label.sk-toggleable__label-arrow:before {content: \"▸\";float: left;margin-right: 0.25em;color: #696969;}#sk-container-id-7 label.sk-toggleable__label-arrow:hover:before {color: black;}#sk-container-id-7 div.sk-estimator:hover label.sk-toggleable__label-arrow:before {color: black;}#sk-container-id-7 div.sk-toggleable__content {max-height: 0;max-width: 0;overflow: hidden;text-align: left;background-color: #f0f8ff;}#sk-container-id-7 div.sk-toggleable__content pre {margin: 0.2em;color: black;border-radius: 0.25em;background-color: #f0f8ff;}#sk-container-id-7 input.sk-toggleable__control:checked~div.sk-toggleable__content {max-height: 200px;max-width: 100%;overflow: auto;}#sk-container-id-7 input.sk-toggleable__control:checked~label.sk-toggleable__label-arrow:before {content: \"▾\";}#sk-container-id-7 div.sk-estimator input.sk-toggleable__control:checked~label.sk-toggleable__label {background-color: #d4ebff;}#sk-container-id-7 div.sk-label input.sk-toggleable__control:checked~label.sk-toggleable__label {background-color: #d4ebff;}#sk-container-id-7 input.sk-hidden--visually {border: 0;clip: rect(1px 1px 1px 1px);clip: rect(1px, 1px, 1px, 1px);height: 1px;margin: -1px;overflow: hidden;padding: 0;position: absolute;width: 1px;}#sk-container-id-7 div.sk-estimator {font-family: monospace;background-color: #f0f8ff;border: 1px dotted black;border-radius: 0.25em;box-sizing: border-box;margin-bottom: 0.5em;}#sk-container-id-7 div.sk-estimator:hover {background-color: #d4ebff;}#sk-container-id-7 div.sk-parallel-item::after {content: \"\";width: 100%;border-bottom: 1px solid gray;flex-grow: 1;}#sk-container-id-7 div.sk-label:hover label.sk-toggleable__label {background-color: #d4ebff;}#sk-container-id-7 div.sk-serial::before {content: \"\";position: absolute;border-left: 1px solid gray;box-sizing: border-box;top: 0;bottom: 0;left: 50%;z-index: 0;}#sk-container-id-7 div.sk-serial {display: flex;flex-direction: column;align-items: center;background-color: white;padding-right: 0.2em;padding-left: 0.2em;position: relative;}#sk-container-id-7 div.sk-item {position: relative;z-index: 1;}#sk-container-id-7 div.sk-parallel {display: flex;align-items: stretch;justify-content: center;background-color: white;position: relative;}#sk-container-id-7 div.sk-item::before, #sk-container-id-7 div.sk-parallel-item::before {content: \"\";position: absolute;border-left: 1px solid gray;box-sizing: border-box;top: 0;bottom: 0;left: 50%;z-index: -1;}#sk-container-id-7 div.sk-parallel-item {display: flex;flex-direction: column;z-index: 1;position: relative;background-color: white;}#sk-container-id-7 div.sk-parallel-item:first-child::after {align-self: flex-end;width: 50%;}#sk-container-id-7 div.sk-parallel-item:last-child::after {align-self: flex-start;width: 50%;}#sk-container-id-7 div.sk-parallel-item:only-child::after {width: 0;}#sk-container-id-7 div.sk-dashed-wrapped {border: 1px dashed gray;margin: 0 0.4em 0.5em 0.4em;box-sizing: border-box;padding-bottom: 0.4em;background-color: white;}#sk-container-id-7 div.sk-label label {font-family: monospace;font-weight: bold;display: inline-block;line-height: 1.2em;}#sk-container-id-7 div.sk-label-container {text-align: center;}#sk-container-id-7 div.sk-container {/* jupyter's `normalize.less` sets `[hidden] { display: none; }` but bootstrap.min.css set `[hidden] { display: none !important; }` so we also need the `!important` here to be able to override the default hidden behavior on the sphinx rendered scikit-learn.org. See: https://github.com/scikit-learn/scikit-learn/issues/21755 */display: inline-block !important;position: relative;}#sk-container-id-7 div.sk-text-repr-fallback {display: none;}</style><div id=\"sk-container-id-7\" class=\"sk-top-container\"><div class=\"sk-text-repr-fallback\"><pre>KMeans(max_iter=100, n_clusters=3, n_init=1)</pre><b>In a Jupyter environment, please rerun this cell to show the HTML representation or trust the notebook. <br />On GitHub, the HTML representation is unable to render, please try loading this page with nbviewer.org.</b></div><div class=\"sk-container\" hidden><div class=\"sk-item\"><div class=\"sk-estimator sk-toggleable\"><input class=\"sk-toggleable__control sk-hidden--visually\" id=\"sk-estimator-id-7\" type=\"checkbox\" checked><label for=\"sk-estimator-id-7\" class=\"sk-toggleable__label sk-toggleable__label-arrow\">KMeans</label><div class=\"sk-toggleable__content\"><pre>KMeans(max_iter=100, n_clusters=3, n_init=1)</pre></div></div></div></div></div>"
      ],
      "text/plain": [
       "KMeans(max_iter=100, n_clusters=3, n_init=1)"
      ]
     },
     "execution_count": 94,
     "metadata": {},
     "output_type": "execute_result"
    }
   ],
   "source": [
    "from sklearn.cluster import KMeans\n",
    "true_k = 3\n",
    "model = KMeans(n_clusters=true_k, init='k-means++', max_iter=100, n_init=1)\n",
    "model.fit(words)"
   ]
  },
  {
   "cell_type": "code",
   "execution_count": 95,
   "id": "490b2135-f0cc-4017-a178-79ea40af7922",
   "metadata": {},
   "outputs": [
    {
     "name": "stdout",
     "output_type": "stream",
     "text": [
      "Cluster 0:\n",
      " buat\n",
      " tanding\n",
      " fifa\n",
      " sepakbola\n",
      " siapa\n",
      " negara\n",
      " prof\n",
      " pssi\n",
      " federasi\n",
      " kerjasama\n",
      "\n",
      "Cluster 1:\n",
      " pssi\n",
      " perintah\n",
      " mundur\n",
      " yg\n",
      " fifa\n",
      " gak\n",
      " tum\n",
      " urus\n",
      " menpora\n",
      " aja\n",
      "\n",
      "Cluster 2:\n",
      " lah\n",
      " cari\n",
      " gitu\n",
      " fifa\n",
      " makan\n",
      " gt\n",
      " kan\n",
      " antek\n",
      " komandan\n",
      " sama\n",
      "\n"
     ]
    }
   ],
   "source": [
    "order_centroids = model.cluster_centers_.argsort()[:, ::-1]\n",
    "terms = cv.get_feature_names_out()\n",
    "\n",
    "for i in range(true_k):\n",
    "  print(\"Cluster %d:\" % i),\n",
    "  \n",
    "  for ind in order_centroids[i, :10]:\n",
    "      print(' %s' % terms[ind]),\n",
    "  \n",
    "  print()"
   ]
  },
  {
   "cell_type": "code",
   "execution_count": 96,
   "id": "ac7de2d3-6d35-4662-89a7-4aa2bb31dd8b",
   "metadata": {},
   "outputs": [
    {
     "name": "stdout",
     "output_type": "stream",
     "text": [
      "Prediction\n",
      "Cluster number : [1]\n",
      "Cluster number : [1]\n"
     ]
    }
   ],
   "source": [
    "print(\"Prediction\")\n",
    "Y = cv.transform([\"piala dunia\"])\n",
    "prediction = model.predict(Y)\n",
    "print(\"Cluster number :\", prediction)\n",
    "Y = cv.transform([\"ronaldo\"])\n",
    "prediction = model.predict(Y)\n",
    "print(\"Cluster number :\", prediction)"
   ]
  },
  {
   "cell_type": "code",
   "execution_count": null,
   "id": "5472caca-c546-48ae-b10f-7c2916573a63",
   "metadata": {},
   "outputs": [],
   "source": []
  }
 ],
 "metadata": {
  "kernelspec": {
   "display_name": "Python 3 (ipykernel)",
   "language": "python",
   "name": "python3"
  },
  "language_info": {
   "codemirror_mode": {
    "name": "ipython",
    "version": 3
   },
   "file_extension": ".py",
   "mimetype": "text/x-python",
   "name": "python",
   "nbconvert_exporter": "python",
   "pygments_lexer": "ipython3",
   "version": "3.10.6"
  }
 },
 "nbformat": 4,
 "nbformat_minor": 5
}
