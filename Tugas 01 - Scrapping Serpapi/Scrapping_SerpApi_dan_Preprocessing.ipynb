{
 "cells": [
  {
   "cell_type": "markdown",
   "id": "1c7e3363-1214-47ef-b8fc-149cde65840c",
   "metadata": {},
   "source": [
    "<h1 style=\"text-align:center\"><b>Tugas Scrapping SerpApi (+ Preprocessing)</b></h1>"
   ]
  },
  {
   "cell_type": "markdown",
   "id": "de5c8002-dbf6-4318-82ec-47b47e198581",
   "metadata": {},
   "source": [
    "<hr>\n",
    "<table>\n",
    "    <tr>\n",
    "        <td><b>NIM</b></td>\n",
    "        <td>:</td>\n",
    "        <td>20.01.53.0033</td>\n",
    "    </tr>\n",
    "    <tr>\n",
    "        <td><b>Nama</b></td>\n",
    "        <td>:</td>\n",
    "        <td>MUHAMMAD FALAH ABDURRAFI</td>\n",
    "    </tr>\n",
    "    <tr>\n",
    "        <td><b>Progdi</b></td>\n",
    "        <td>:</td>\n",
    "        <td>Teknik Informatika - S1</td>\n",
    "    </tr>\n",
    "    <tr>\n",
    "        <td><b>Mata Kuliah</b></td>\n",
    "        <td>:</td>\n",
    "        <td>Text Mining</td>\n",
    "    </tr>\n",
    "    <tr>\n",
    "        <td><b>Kelas</b></td>\n",
    "        <td>:</td>\n",
    "        <td>A1</td>\n",
    "    </tr>\n",
    "    <tr>\n",
    "        <td><b>Dosen Pengampu</b></td>\n",
    "        <td>:</td>\n",
    "        <td>Dr. Drs. ERI ZULIARSO, M.Kom.</td>\n",
    "    </tr>\n",
    "</table>\n",
    "<hr>"
   ]
  },
  {
   "cell_type": "markdown",
   "id": "79b4ee35-b291-45df-aa72-d65bc0c13d51",
   "metadata": {},
   "source": [
    "<br><br>\n",
    "<h1><b>1. Scrapping Awal</b></h1>\n",
    "<hr>"
   ]
  },
  {
   "cell_type": "markdown",
   "id": "dbe297c3-b6e8-4ad8-9279-dae58d85e658",
   "metadata": {},
   "source": [
    "<h4><b>1.1. Import Library</b></h4>"
   ]
  },
  {
   "cell_type": "code",
   "execution_count": 2,
   "id": "e5b5db5e-0cfb-4cbc-9757-f9bbd639e55b",
   "metadata": {},
   "outputs": [],
   "source": [
    "from serpapi import GoogleSearch\n",
    "from urllib.parse import *"
   ]
  },
  {
   "cell_type": "markdown",
   "id": "360a4fe4-421a-42fe-a8b7-177e3f24ca99",
   "metadata": {},
   "source": [
    "<br>\n",
    "<h4><b>1.2. Scrapping <i>Local Results</i></b></h4>"
   ]
  },
  {
   "cell_type": "markdown",
   "id": "5ea937b5-2d5e-497b-90c6-987ee09e90d4",
   "metadata": {},
   "source": [
    "Mengambil <b>5</b> data restoran yang setidaknya memiliki <b>150 review</b>."
   ]
  },
  {
   "cell_type": "code",
   "execution_count": 53,
   "id": "ece2e43f-a7be-4744-9432-9b128eefe524",
   "metadata": {},
   "outputs": [
    {
     "name": "stdout",
     "output_type": "stream",
     "text": [
      "https://serpapi.com/search\n"
     ]
    }
   ],
   "source": [
    "params = {\n",
    "  \"engine\": \"google_maps\",\n",
    "  \"q\": \"restoran\",\n",
    "  \"ll\": \"@-6.9646169,109.0019955,8z\",\n",
    "  \"type\": \"search\",\n",
    "  \"api_key\": \"592d803111179929eb3497553a8f29f2774e0685c912b94b4cb01767d3b747a2\"\n",
    "}\n",
    "\n",
    "search = GoogleSearch(params)\n",
    "\n",
    "mPosition = 0 # Angka indeks dari data\n",
    "mNums = 5 # Batas jumlah data yang ditampilkan\n",
    "local_results = []\n",
    "\n",
    "while mPosition <= mNums:\n",
    "  results = search.get_dict()\n",
    "\n",
    "  for result in results[\"local_results\"]:\n",
    "    mPosition += 1\n",
    "    \n",
    "    if mPosition <= mNums:\n",
    "      \n",
    "      # Jika jumlah review kurang dari 150, maka jangan masukkan datanya\n",
    "      if result[\"reviews\"] < 150:\n",
    "        mNums += 1\n",
    "        continue\n",
    "        \n",
    "      # Append data sesuai dengan batas jumlah yang sudah ditentukan\n",
    "      local_results.append({'title': result[\"title\"],\n",
    "                           'data_id': result[\"data_id\"],\n",
    "                           'reviews_total': result[\"reviews\"]});\n",
    "\n",
    "  if \"next\" in results.get(\"serpapi_pagination\", {}):\n",
    "    # Akan mengubah parameter dari 'GoogleSearch()' dengan isi parameter dari halaman selanjutnya\n",
    "    search.params_dict.update(dict(parse_qsl(urlsplit(results.get(\"serpapi_pagination\").get(\"next\")).query)))\n",
    "\n",
    "  else:\n",
    "    break"
   ]
  },
  {
   "cell_type": "code",
   "execution_count": 54,
   "id": "61b9c26a-5bac-42d7-882a-60395b8fe33a",
   "metadata": {},
   "outputs": [
    {
     "name": "stdout",
     "output_type": "stream",
     "text": [
      "{'title': 'Restoran EKA RIA', 'data_id': '0x2e69f5df600f325d:0xbb64719e49bdfb31', 'reviews_total': 874}\n",
      "{'title': 'Medja Restaurant', 'data_id': '0x2e69c503d0a5794f:0x2afcae8097b7d3ff', 'reviews_total': 4591}\n",
      "{'title': 'Restoran The Volcano', 'data_id': '0x2e68e68452039ff3:0xc803aa387a707b03', 'reviews_total': 1936}\n",
      "{'title': 'Restoran Sederhana - Cipete', 'data_id': '0x2e69f19368b6c31b:0x57c7e286f11a4608', 'reviews_total': 932}\n",
      "{'title': 'Restoran Numani', 'data_id': '0x2e7a57afd4d81163:0xbb2dfe4733d4c863', 'reviews_total': 3229}\n"
     ]
    }
   ],
   "source": [
    "for lr in local_results:\n",
    "  print(lr)\n"
   ]
  },
  {
   "cell_type": "markdown",
   "id": "42ab14f7-bfe5-4c84-8f88-2a9e599ad4f8",
   "metadata": {},
   "source": [
    "<br>\n",
    "<h4><b>1.3. Scrapping <i>Reviews</i></b></h4>"
   ]
  },
  {
   "cell_type": "markdown",
   "id": "504b4684-e2e3-482f-919b-4f2df928afa9",
   "metadata": {},
   "source": [
    "Mengambil <b>150</b> data review dari tiap-tiap restoran. <b>Total = 750 data.</b>"
   ]
  },
  {
   "cell_type": "code",
   "execution_count": 5,
   "id": "fc553256-f93f-4613-afdf-1ff14538ac06",
   "metadata": {},
   "outputs": [
    {
     "name": "stdout",
     "output_type": "stream",
     "text": [
      "https://serpapi.com/search\n",
      "https://serpapi.com/search\n",
      "https://serpapi.com/search\n",
      "https://serpapi.com/search\n",
      "https://serpapi.com/search\n",
      "https://serpapi.com/search\n",
      "https://serpapi.com/search\n",
      "https://serpapi.com/search\n",
      "https://serpapi.com/search\n",
      "https://serpapi.com/search\n",
      "https://serpapi.com/search\n",
      "https://serpapi.com/search\n",
      "https://serpapi.com/search\n",
      "https://serpapi.com/search\n",
      "https://serpapi.com/search\n",
      "https://serpapi.com/search\n",
      "https://serpapi.com/search\n",
      "https://serpapi.com/search\n",
      "https://serpapi.com/search\n",
      "https://serpapi.com/search\n",
      "https://serpapi.com/search\n",
      "https://serpapi.com/search\n",
      "https://serpapi.com/search\n",
      "https://serpapi.com/search\n",
      "https://serpapi.com/search\n",
      "https://serpapi.com/search\n",
      "https://serpapi.com/search\n",
      "https://serpapi.com/search\n",
      "https://serpapi.com/search\n",
      "https://serpapi.com/search\n",
      "https://serpapi.com/search\n",
      "https://serpapi.com/search\n",
      "https://serpapi.com/search\n",
      "https://serpapi.com/search\n",
      "https://serpapi.com/search\n",
      "https://serpapi.com/search\n",
      "https://serpapi.com/search\n",
      "https://serpapi.com/search\n",
      "https://serpapi.com/search\n",
      "https://serpapi.com/search\n",
      "https://serpapi.com/search\n",
      "https://serpapi.com/search\n",
      "https://serpapi.com/search\n",
      "https://serpapi.com/search\n",
      "https://serpapi.com/search\n",
      "https://serpapi.com/search\n",
      "https://serpapi.com/search\n",
      "https://serpapi.com/search\n",
      "https://serpapi.com/search\n",
      "https://serpapi.com/search\n",
      "https://serpapi.com/search\n",
      "https://serpapi.com/search\n",
      "https://serpapi.com/search\n",
      "https://serpapi.com/search\n",
      "https://serpapi.com/search\n",
      "https://serpapi.com/search\n",
      "https://serpapi.com/search\n",
      "https://serpapi.com/search\n",
      "https://serpapi.com/search\n",
      "https://serpapi.com/search\n",
      "https://serpapi.com/search\n",
      "https://serpapi.com/search\n",
      "https://serpapi.com/search\n",
      "https://serpapi.com/search\n",
      "https://serpapi.com/search\n",
      "https://serpapi.com/search\n",
      "https://serpapi.com/search\n",
      "https://serpapi.com/search\n",
      "https://serpapi.com/search\n",
      "https://serpapi.com/search\n",
      "https://serpapi.com/search\n",
      "https://serpapi.com/search\n",
      "https://serpapi.com/search\n",
      "https://serpapi.com/search\n",
      "https://serpapi.com/search\n",
      "https://serpapi.com/search\n",
      "https://serpapi.com/search\n",
      "https://serpapi.com/search\n",
      "https://serpapi.com/search\n",
      "https://serpapi.com/search\n"
     ]
    }
   ],
   "source": [
    "data = {'restaurant_name':[],\n",
    "        'name':[],\n",
    "        'rating':[],\n",
    "        'review':[]}\n",
    "\n",
    "for lr in local_results:\n",
    "  \n",
    "  params = {\n",
    "    \"engine\": \"google_maps_reviews\",\n",
    "    \"data_id\": \"\",\n",
    "    \"api_key\": \"592d803111179929eb3497553a8f29f2774e0685c912b94b4cb01767d3b747a2\"\n",
    "  }\n",
    "  \n",
    "  params[\"data_id\"] = lr['data_id']\n",
    "\n",
    "  search = GoogleSearch(params)\n",
    "\n",
    "  mPosition = 0 # Angka indeks dari data\n",
    "  mNums = 150 # Batas jumlah data yang ditampilkan\n",
    "\n",
    "  while mPosition <= mNums:\n",
    "    results = search.get_dict()\n",
    "\n",
    "    for result in results[\"reviews\"]:\n",
    "      mPosition += 1\n",
    "\n",
    "      if mPosition <= mNums:\n",
    "        # Append data sesuai dengan batas jumlah yang sudah ditentukan\n",
    "        data['restaurant_name'].append(lr['title']);\n",
    "        data['name'].append(result[\"user\"][\"name\"]);\n",
    "        data['rating'].append(result[\"rating\"]);\n",
    "        data['review'].append(result[\"snippet\"]);\n",
    "\n",
    "    if \"next\" in results.get(\"serpapi_pagination\", {}):\n",
    "      # Akan mengubah parameter dari 'GoogleSearch()' dengan isi parameter dari halaman selanjutnya\n",
    "      search.params_dict.update(dict(parse_qsl(urlsplit(results.get(\"serpapi_pagination\").get(\"next\")).query)))\n",
    "\n",
    "    else:\n",
    "      break\n",
    "    \n",
    "review_original = data['review']"
   ]
  },
  {
   "cell_type": "markdown",
   "id": "27f0ffdf-de22-4827-8f70-aa9af9c32ee8",
   "metadata": {},
   "source": [
    "<br>\n",
    "<h4><b>1.4. Export Data Scrapping (Sebelum Preprocessing)</b></h4>"
   ]
  },
  {
   "cell_type": "code",
   "execution_count": 6,
   "id": "7df62d11-8674-46e0-9c44-22ceae5c5ec9",
   "metadata": {},
   "outputs": [],
   "source": [
    "import pandas as pd\n",
    "df_original = pd.DataFrame(data)\n",
    "df_original.to_csv('CSV/review_tanpa_preprocessing.csv', index=False)"
   ]
  },
  {
   "cell_type": "code",
   "execution_count": 7,
   "id": "034a7fdb-1978-4241-b5a6-292d4d9bfaf4",
   "metadata": {},
   "outputs": [
    {
     "data": {
      "text/html": [
       "<div>\n",
       "<style scoped>\n",
       "    .dataframe tbody tr th:only-of-type {\n",
       "        vertical-align: middle;\n",
       "    }\n",
       "\n",
       "    .dataframe tbody tr th {\n",
       "        vertical-align: top;\n",
       "    }\n",
       "\n",
       "    .dataframe thead th {\n",
       "        text-align: right;\n",
       "    }\n",
       "</style>\n",
       "<table border=\"1\" class=\"dataframe\">\n",
       "  <thead>\n",
       "    <tr style=\"text-align: right;\">\n",
       "      <th></th>\n",
       "      <th>restaurant_name</th>\n",
       "      <th>name</th>\n",
       "      <th>rating</th>\n",
       "      <th>review</th>\n",
       "    </tr>\n",
       "  </thead>\n",
       "  <tbody>\n",
       "    <tr>\n",
       "      <th>0</th>\n",
       "      <td>Restoran EKA RIA</td>\n",
       "      <td>Edbert Wee</td>\n",
       "      <td>4.0</td>\n",
       "      <td>Vintage restaurant in Jakarta city center (clo...</td>\n",
       "    </tr>\n",
       "    <tr>\n",
       "      <th>1</th>\n",
       "      <td>Restoran EKA RIA</td>\n",
       "      <td>Rehuellah Angela</td>\n",
       "      <td>4.0</td>\n",
       "      <td>vintage restaurant that brings back old memori...</td>\n",
       "    </tr>\n",
       "    <tr>\n",
       "      <th>2</th>\n",
       "      <td>Restoran EKA RIA</td>\n",
       "      <td>Armelia Sitopu</td>\n",
       "      <td>5.0</td>\n",
       "      <td>Pork satay and sweet rice are the best. Love it!</td>\n",
       "    </tr>\n",
       "    <tr>\n",
       "      <th>3</th>\n",
       "      <td>Restoran EKA RIA</td>\n",
       "      <td>chrissy djafar</td>\n",
       "      <td>5.0</td>\n",
       "      <td>Went there cos I win the prize and it’s my dad...</td>\n",
       "    </tr>\n",
       "    <tr>\n",
       "      <th>4</th>\n",
       "      <td>Restoran EKA RIA</td>\n",
       "      <td>Apri yanto</td>\n",
       "      <td>5.0</td>\n",
       "      <td>Restaurant with a amazing history. Great taste...</td>\n",
       "    </tr>\n",
       "    <tr>\n",
       "      <th>...</th>\n",
       "      <td>...</td>\n",
       "      <td>...</td>\n",
       "      <td>...</td>\n",
       "      <td>...</td>\n",
       "    </tr>\n",
       "    <tr>\n",
       "      <th>745</th>\n",
       "      <td>Restoran Numani</td>\n",
       "      <td>Asti Indriyani</td>\n",
       "      <td>1.0</td>\n",
       "      <td>(Translated by Google) Not as good as before. ...</td>\n",
       "    </tr>\n",
       "    <tr>\n",
       "      <th>746</th>\n",
       "      <td>Restoran Numani</td>\n",
       "      <td>A. A Najib</td>\n",
       "      <td>5.0</td>\n",
       "      <td>(Translated by Google) Decent menu. The place ...</td>\n",
       "    </tr>\n",
       "    <tr>\n",
       "      <th>747</th>\n",
       "      <td>Restoran Numani</td>\n",
       "      <td>GGM Channel</td>\n",
       "      <td>1.0</td>\n",
       "      <td>(Translated by Google) If you are on a Jogja t...</td>\n",
       "    </tr>\n",
       "    <tr>\n",
       "      <th>748</th>\n",
       "      <td>Restoran Numani</td>\n",
       "      <td>Dodik Hernowo</td>\n",
       "      <td>3.0</td>\n",
       "      <td>(Translated by Google) Standard .. if for thos...</td>\n",
       "    </tr>\n",
       "    <tr>\n",
       "      <th>749</th>\n",
       "      <td>Restoran Numani</td>\n",
       "      <td>Ari Santoso</td>\n",
       "      <td>5.0</td>\n",
       "      <td>(Translated by Google) The food is delicious I...</td>\n",
       "    </tr>\n",
       "  </tbody>\n",
       "</table>\n",
       "<p>750 rows × 4 columns</p>\n",
       "</div>"
      ],
      "text/plain": [
       "      restaurant_name              name  rating  \\\n",
       "0    Restoran EKA RIA        Edbert Wee     4.0   \n",
       "1    Restoran EKA RIA  Rehuellah Angela     4.0   \n",
       "2    Restoran EKA RIA    Armelia Sitopu     5.0   \n",
       "3    Restoran EKA RIA    chrissy djafar     5.0   \n",
       "4    Restoran EKA RIA        Apri yanto     5.0   \n",
       "..                ...               ...     ...   \n",
       "745   Restoran Numani    Asti Indriyani     1.0   \n",
       "746   Restoran Numani        A. A Najib     5.0   \n",
       "747   Restoran Numani       GGM Channel     1.0   \n",
       "748   Restoran Numani     Dodik Hernowo     3.0   \n",
       "749   Restoran Numani       Ari Santoso     5.0   \n",
       "\n",
       "                                                review  \n",
       "0    Vintage restaurant in Jakarta city center (clo...  \n",
       "1    vintage restaurant that brings back old memori...  \n",
       "2     Pork satay and sweet rice are the best. Love it!  \n",
       "3    Went there cos I win the prize and it’s my dad...  \n",
       "4    Restaurant with a amazing history. Great taste...  \n",
       "..                                                 ...  \n",
       "745  (Translated by Google) Not as good as before. ...  \n",
       "746  (Translated by Google) Decent menu. The place ...  \n",
       "747  (Translated by Google) If you are on a Jogja t...  \n",
       "748  (Translated by Google) Standard .. if for thos...  \n",
       "749  (Translated by Google) The food is delicious I...  \n",
       "\n",
       "[750 rows x 4 columns]"
      ]
     },
     "execution_count": 7,
     "metadata": {},
     "output_type": "execute_result"
    }
   ],
   "source": [
    "df_original"
   ]
  },
  {
   "cell_type": "markdown",
   "id": "a4741cfe-1e84-43fa-ba00-47607e82a1b0",
   "metadata": {},
   "source": [
    "<br>\n",
    "<h4><b>1.5. Hilangkan teks <i>(Translated by Google)</i> dan terjemahan originalnya jika ada</b></h4>"
   ]
  },
  {
   "cell_type": "code",
   "execution_count": 8,
   "id": "7c22ab62-2ad1-425f-a5d5-658ea7ffc47e",
   "metadata": {},
   "outputs": [],
   "source": [
    "review_remove_translated = []\n",
    "\n",
    "for review in review_original:\n",
    "  review_sep = review.split(\"(Translated by Google) \")\n",
    "  \n",
    "  # Jika terdapat (Translated by Google)\n",
    "  if review_sep[0] == \"\":\n",
    "    review_sep = (\"\".join(review_sep)).split(\"(Original)\")\n",
    "    review_sep = review_sep[0]\n",
    "    review = \"\".join(review_sep)\n",
    "    \n",
    "  review_remove_translated.append(review)"
   ]
  },
  {
   "cell_type": "markdown",
   "id": "ea0b499d-4aae-4cf3-a396-46646011bf6f",
   "metadata": {},
   "source": [
    "<br><br><br>\n",
    "<h1><b>2. Case Folding</b></h1>\n",
    "<hr>"
   ]
  },
  {
   "cell_type": "markdown",
   "id": "2c36550e-19ae-49e8-9f94-d26349e6ecd4",
   "metadata": {},
   "source": [
    "<h4><b>2.1. Import Library</b></h4>"
   ]
  },
  {
   "cell_type": "code",
   "execution_count": 9,
   "id": "d1a260c7-427a-4ede-a09e-4516c6300bde",
   "metadata": {},
   "outputs": [],
   "source": [
    "import re\n",
    "import string"
   ]
  },
  {
   "cell_type": "markdown",
   "id": "4b0e64ef-0124-4d50-afe8-f143adbf7849",
   "metadata": {},
   "source": [
    "<br>\n",
    "<h4><b>2.2. Listing Utama</b></h4>"
   ]
  },
  {
   "cell_type": "code",
   "execution_count": 10,
   "id": "653092c9-bb5b-41d1-91d5-5e7df20d99b1",
   "metadata": {},
   "outputs": [],
   "source": [
    "review_clean = []\n",
    "\n",
    "for review in review_remove_translated:\n",
    "    # Remove Unicode\n",
    "    review_test = re.sub(r'[^\\x00-\\x7F]+', ' ', review)\n",
    "    # Remove Mentions\n",
    "    review_test = re.sub(r'@\\w+', '', review_test)\n",
    "    # Lowercase the document\n",
    "    review_test = review_test.lower()\n",
    "    # Remove punctuations\n",
    "    review_test = re.sub(r'[%s]' % re.escape(string.punctuation), ' ', review_test)\n",
    "    # Remove the numbers\n",
    "    review_test = re.sub(r'[0-9]', '', review_test)\n",
    "    # Remove the doubled space\n",
    "    review_test = re.sub(r'\\s{2,}', ' ', review_test)\n",
    "    \n",
    "    review_clean.append(review_test)"
   ]
  },
  {
   "cell_type": "markdown",
   "id": "0853c3c0-71ce-4e82-a233-a03174c0fb30",
   "metadata": {},
   "source": [
    "<br><br><br>\n",
    "<h1><b>3. Tokenizing</b></h1>\n",
    "<hr>"
   ]
  },
  {
   "cell_type": "markdown",
   "id": "57bbb265-f36f-4648-ad5d-b480e8ff373f",
   "metadata": {},
   "source": [
    "<h4><b>3.1. Import Library</b></h4>"
   ]
  },
  {
   "cell_type": "code",
   "execution_count": 131,
   "id": "d79ae692-f7f9-4d3f-9572-24322193d54a",
   "metadata": {},
   "outputs": [],
   "source": [
    "# pip install nltk"
   ]
  },
  {
   "cell_type": "code",
   "execution_count": 11,
   "id": "ab2da0de-97a6-4283-a167-ac39b65dac42",
   "metadata": {},
   "outputs": [],
   "source": [
    "import nltk\n",
    "# nltk.download('punkt')\n",
    "from nltk.tokenize import sent_tokenize, word_tokenize "
   ]
  },
  {
   "cell_type": "markdown",
   "id": "2a1f92d9-d7f8-49de-8443-d6df19d4ffb0",
   "metadata": {},
   "source": [
    "<br>\n",
    "<h4><b>3.2. Listing Utama</b></h4>"
   ]
  },
  {
   "cell_type": "code",
   "execution_count": 12,
   "id": "56755a7b-f42d-4383-9783-21500eb90dd7",
   "metadata": {},
   "outputs": [],
   "source": [
    "review_tokenized = []\n",
    "\n",
    "for review in review_clean:\n",
    "  review_tokenized.append(word_tokenize(review))"
   ]
  },
  {
   "cell_type": "markdown",
   "id": "d180d905-1bf8-4cb5-9073-e7d9c77e9688",
   "metadata": {},
   "source": [
    "<br><br><br>\n",
    "<h1><b>4. Filtering (Stopword Removal)</b></h1>\n",
    "<hr>"
   ]
  },
  {
   "cell_type": "markdown",
   "id": "e651fd41-613c-4a74-a7a2-22673ca1722c",
   "metadata": {},
   "source": [
    "<h4><b>4.1. Import Library</b></h4>"
   ]
  },
  {
   "cell_type": "code",
   "execution_count": 13,
   "id": "f62d308f-1abb-4a21-9933-af5160ed425f",
   "metadata": {},
   "outputs": [],
   "source": [
    "from nltk.corpus import stopwords\n",
    "# nltk.download('stopwords')"
   ]
  },
  {
   "cell_type": "markdown",
   "id": "86b1dbce-3633-49f8-b028-707ce5d45308",
   "metadata": {},
   "source": [
    "<br>\n",
    "<h4><b>4.2. Listing Utama</b></h4>"
   ]
  },
  {
   "cell_type": "code",
   "execution_count": 14,
   "id": "6bda775a-1b9d-4c6b-a22f-99c7522872d9",
   "metadata": {},
   "outputs": [],
   "source": [
    "review_filtered = []\n",
    "listStopword =  set(stopwords.words('english'))\n",
    "\n",
    "for review in review_tokenized:\n",
    "  \n",
    "  review_each_filtered = []\n",
    "  \n",
    "  for r in review:\n",
    "    if r not in listStopword:\n",
    "        review_each_filtered.append(r)\n",
    "        \n",
    "  review_filtered.append(review_each_filtered)"
   ]
  },
  {
   "cell_type": "markdown",
   "id": "a534abe3-a5de-4c41-92db-c070aa109a1b",
   "metadata": {},
   "source": [
    "<br><br><br>\n",
    "<h1><b>5. Stemming</b></h1>"
   ]
  },
  {
   "cell_type": "markdown",
   "id": "6018e4d5-4ae9-40ce-b47c-9f7f010029db",
   "metadata": {},
   "source": [
    "<p>Pilih salah satu <b>algoritma stemming</b> dibawah:</p>\n",
    "<hr>"
   ]
  },
  {
   "cell_type": "markdown",
   "id": "3cf6204d-1217-4650-8cfa-9eefb4bcb714",
   "metadata": {},
   "source": [
    "<h4><b>5.1. Algoritma <i>\"PorterStemmer\"</i></b></h4>"
   ]
  },
  {
   "cell_type": "code",
   "execution_count": 55,
   "id": "702cfa67-466b-4d3a-bdcb-9cfa09192851",
   "metadata": {},
   "outputs": [],
   "source": [
    "from nltk.stem import PorterStemmer\n",
    "stemmer = PorterStemmer() \n",
    "\n",
    "review_stemmed = []\n",
    "    \n",
    "for review in review_filtered:\n",
    "  \n",
    "  review_each_stemmed = []\n",
    "  \n",
    "  for r in review:\n",
    "    review_each_stemmed.append(stemmer.stem(r))\n",
    "        \n",
    "  review_stemmed.append(review_each_stemmed)"
   ]
  },
  {
   "cell_type": "markdown",
   "id": "f4c89df9-6930-4a77-ab6e-f4b4e505675a",
   "metadata": {},
   "source": [
    "<br>\n",
    "<h4><b>5.2. Algoritma <i>\"LancasterStemmer\"</i></b></h4>"
   ]
  },
  {
   "cell_type": "code",
   "execution_count": 20,
   "id": "61672805-cf5d-44fa-9ec3-aadfe61d0f3b",
   "metadata": {},
   "outputs": [],
   "source": [
    "from nltk.stem import LancasterStemmer\n",
    "stemmer = LancasterStemmer() \n",
    "\n",
    "review_stemmed = []\n",
    "    \n",
    "for review in review_filtered:\n",
    "  \n",
    "  review_each_stemmed = []\n",
    "  \n",
    "  for r in review:\n",
    "    review_each_stemmed.append(stemmer.stem(r))\n",
    "        \n",
    "  review_stemmed.append(review_each_stemmed)"
   ]
  },
  {
   "cell_type": "markdown",
   "id": "2f126eec-8586-49b5-b93a-565a42639fc3",
   "metadata": {},
   "source": [
    "<br>\n",
    "<h4><b>5.3. Algoritma <i>\"WordNetLemmatizer\"</i></b></h4>"
   ]
  },
  {
   "cell_type": "code",
   "execution_count": 29,
   "id": "80beeae8-8c66-4911-9974-9fc8cfb7013a",
   "metadata": {},
   "outputs": [],
   "source": [
    "from nltk.stem import WordNetLemmatizer\n",
    "# nltk.download('wordnet')\n",
    "# nltk.download('omw-1.4')\n",
    "stemmer = WordNetLemmatizer() \n",
    "\n",
    "review_stemmed = []\n",
    "    \n",
    "for review in review_filtered:\n",
    "  \n",
    "  review_each_stemmed = []\n",
    "  \n",
    "  for r in review:\n",
    "    review_each_stemmed.append(stemmer.lemmatize(r))\n",
    "        \n",
    "  review_stemmed.append(review_each_stemmed)"
   ]
  },
  {
   "cell_type": "markdown",
   "id": "7930e1aa-52e3-4893-b59e-4c0ab787a8da",
   "metadata": {},
   "source": [
    "<br>\n",
    "<h4><b>5.4. Algoritma <i>\"SnowballStemmer\"</i></b></h4>"
   ]
  },
  {
   "cell_type": "code",
   "execution_count": 45,
   "id": "72124f4a-cd61-4ab9-82f6-6246c8fe5644",
   "metadata": {},
   "outputs": [],
   "source": [
    "from nltk.stem import SnowballStemmer\n",
    "stemmer = SnowballStemmer(\"english\")\n",
    "\n",
    "review_stemmed = []\n",
    "    \n",
    "for review in review_filtered:\n",
    "  \n",
    "  review_each_stemmed = []\n",
    "  \n",
    "  for r in review:\n",
    "    review_each_stemmed.append(stemmer.stem(r))\n",
    "        \n",
    "  review_stemmed.append(review_each_stemmed)"
   ]
  },
  {
   "cell_type": "markdown",
   "id": "9942ff4d-5f6b-4cc6-b58a-c394c3330efe",
   "metadata": {},
   "source": [
    "<br><br><br>\n",
    "<h1><b>6. Export CSV (Hasil Pre-processing)</b></h1>\n",
    "<hr>"
   ]
  },
  {
   "cell_type": "markdown",
   "id": "67cf8166-0275-4f6f-8a04-798d61b0c333",
   "metadata": {},
   "source": [
    "<h4><b>6.1. Import Library</b></h4>"
   ]
  },
  {
   "cell_type": "code",
   "execution_count": 16,
   "id": "c0c9281e-4d7f-4bd5-93e0-e15750062a1e",
   "metadata": {},
   "outputs": [],
   "source": [
    "import pandas as pd"
   ]
  },
  {
   "cell_type": "markdown",
   "id": "c6c4cb9d-0f7f-4b59-9a04-2aaf55a46671",
   "metadata": {},
   "source": [
    "<br>\n",
    "<h4><b>6.2. Listing Utama</b></h4>"
   ]
  },
  {
   "cell_type": "code",
   "execution_count": 56,
   "id": "1b1ad87a-81cc-4fc1-9683-fe28c9e43fab",
   "metadata": {},
   "outputs": [],
   "source": [
    "data_preprocessed = data\n",
    "data_preprocessed['review'] = review_stemmed\n",
    "# data_preprocessed['review'] = review_original"
   ]
  },
  {
   "cell_type": "code",
   "execution_count": 57,
   "id": "6ee536b4-9513-4ad9-98c6-b006c3e22907",
   "metadata": {},
   "outputs": [
    {
     "data": {
      "text/html": [
       "<div>\n",
       "<style scoped>\n",
       "    .dataframe tbody tr th:only-of-type {\n",
       "        vertical-align: middle;\n",
       "    }\n",
       "\n",
       "    .dataframe tbody tr th {\n",
       "        vertical-align: top;\n",
       "    }\n",
       "\n",
       "    .dataframe thead th {\n",
       "        text-align: right;\n",
       "    }\n",
       "</style>\n",
       "<table border=\"1\" class=\"dataframe\">\n",
       "  <thead>\n",
       "    <tr style=\"text-align: right;\">\n",
       "      <th></th>\n",
       "      <th>restaurant_name</th>\n",
       "      <th>name</th>\n",
       "      <th>rating</th>\n",
       "      <th>review</th>\n",
       "    </tr>\n",
       "  </thead>\n",
       "  <tbody>\n",
       "    <tr>\n",
       "      <th>0</th>\n",
       "      <td>Restoran EKA RIA</td>\n",
       "      <td>Edbert Wee</td>\n",
       "      <td>4.0</td>\n",
       "      <td>[vintag, restaur, jakarta, citi, center, close...</td>\n",
       "    </tr>\n",
       "    <tr>\n",
       "      <th>1</th>\n",
       "      <td>Restoran EKA RIA</td>\n",
       "      <td>Rehuellah Angela</td>\n",
       "      <td>4.0</td>\n",
       "      <td>[vintag, restaur, bring, back, old, memori, ev...</td>\n",
       "    </tr>\n",
       "    <tr>\n",
       "      <th>2</th>\n",
       "      <td>Restoran EKA RIA</td>\n",
       "      <td>Armelia Sitopu</td>\n",
       "      <td>5.0</td>\n",
       "      <td>[pork, satay, sweet, rice, best, love]</td>\n",
       "    </tr>\n",
       "    <tr>\n",
       "      <th>3</th>\n",
       "      <td>Restoran EKA RIA</td>\n",
       "      <td>chrissy djafar</td>\n",
       "      <td>5.0</td>\n",
       "      <td>[went, co, win, prize, dad, birthday, amaz, ho...</td>\n",
       "    </tr>\n",
       "    <tr>\n",
       "      <th>4</th>\n",
       "      <td>Restoran EKA RIA</td>\n",
       "      <td>Apri yanto</td>\n",
       "      <td>5.0</td>\n",
       "      <td>[restaur, amaz, histori, great, tast, authent,...</td>\n",
       "    </tr>\n",
       "    <tr>\n",
       "      <th>...</th>\n",
       "      <td>...</td>\n",
       "      <td>...</td>\n",
       "      <td>...</td>\n",
       "      <td>...</td>\n",
       "    </tr>\n",
       "    <tr>\n",
       "      <th>745</th>\n",
       "      <td>Restoran Numani</td>\n",
       "      <td>Asti Indriyani</td>\n",
       "      <td>1.0</td>\n",
       "      <td>[good, forgot, order, sausag, soup, oseng, kan...</td>\n",
       "    </tr>\n",
       "    <tr>\n",
       "      <th>746</th>\n",
       "      <td>Restoran Numani</td>\n",
       "      <td>A. A Najib</td>\n",
       "      <td>5.0</td>\n",
       "      <td>[decent, menu, place, beauti, fish, pond, refr...</td>\n",
       "    </tr>\n",
       "    <tr>\n",
       "      <th>747</th>\n",
       "      <td>Restoran Numani</td>\n",
       "      <td>GGM Channel</td>\n",
       "      <td>1.0</td>\n",
       "      <td>[jogja, tour, stop, restaur, expens, tast, goo...</td>\n",
       "    </tr>\n",
       "    <tr>\n",
       "      <th>748</th>\n",
       "      <td>Restoran Numani</td>\n",
       "      <td>Dodik Hernowo</td>\n",
       "      <td>3.0</td>\n",
       "      <td>[standard, hungri, feel]</td>\n",
       "    </tr>\n",
       "    <tr>\n",
       "      <th>749</th>\n",
       "      <td>Restoran Numani</td>\n",
       "      <td>Ari Santoso</td>\n",
       "      <td>5.0</td>\n",
       "      <td>[food, delici, interior, renov, minimalist, er...</td>\n",
       "    </tr>\n",
       "  </tbody>\n",
       "</table>\n",
       "<p>750 rows × 4 columns</p>\n",
       "</div>"
      ],
      "text/plain": [
       "      restaurant_name              name  rating  \\\n",
       "0    Restoran EKA RIA        Edbert Wee     4.0   \n",
       "1    Restoran EKA RIA  Rehuellah Angela     4.0   \n",
       "2    Restoran EKA RIA    Armelia Sitopu     5.0   \n",
       "3    Restoran EKA RIA    chrissy djafar     5.0   \n",
       "4    Restoran EKA RIA        Apri yanto     5.0   \n",
       "..                ...               ...     ...   \n",
       "745   Restoran Numani    Asti Indriyani     1.0   \n",
       "746   Restoran Numani        A. A Najib     5.0   \n",
       "747   Restoran Numani       GGM Channel     1.0   \n",
       "748   Restoran Numani     Dodik Hernowo     3.0   \n",
       "749   Restoran Numani       Ari Santoso     5.0   \n",
       "\n",
       "                                                review  \n",
       "0    [vintag, restaur, jakarta, citi, center, close...  \n",
       "1    [vintag, restaur, bring, back, old, memori, ev...  \n",
       "2               [pork, satay, sweet, rice, best, love]  \n",
       "3    [went, co, win, prize, dad, birthday, amaz, ho...  \n",
       "4    [restaur, amaz, histori, great, tast, authent,...  \n",
       "..                                                 ...  \n",
       "745  [good, forgot, order, sausag, soup, oseng, kan...  \n",
       "746  [decent, menu, place, beauti, fish, pond, refr...  \n",
       "747  [jogja, tour, stop, restaur, expens, tast, goo...  \n",
       "748                           [standard, hungri, feel]  \n",
       "749  [food, delici, interior, renov, minimalist, er...  \n",
       "\n",
       "[750 rows x 4 columns]"
      ]
     },
     "execution_count": 57,
     "metadata": {},
     "output_type": "execute_result"
    }
   ],
   "source": [
    "df = pd.DataFrame(data_preprocessed)\n",
    "df"
   ]
  },
  {
   "cell_type": "code",
   "execution_count": 58,
   "id": "6ef1cdd8-0e2d-4d02-a008-65314d5900eb",
   "metadata": {},
   "outputs": [],
   "source": [
    "df.to_csv('CSV/review_hasil_preprocessing.csv', index=False)"
   ]
  }
 ],
 "metadata": {
  "kernelspec": {
   "display_name": "Python 3 (ipykernel)",
   "language": "python",
   "name": "python3"
  },
  "language_info": {
   "codemirror_mode": {
    "name": "ipython",
    "version": 3
   },
   "file_extension": ".py",
   "mimetype": "text/x-python",
   "name": "python",
   "nbconvert_exporter": "python",
   "pygments_lexer": "ipython3",
   "version": "3.8.5"
  }
 },
 "nbformat": 4,
 "nbformat_minor": 5
}
